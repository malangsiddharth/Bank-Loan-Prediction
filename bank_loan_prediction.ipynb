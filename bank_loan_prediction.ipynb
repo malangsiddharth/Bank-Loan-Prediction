{
  "nbformat": 4,
  "nbformat_minor": 0,
  "metadata": {
    "kernelspec": {
      "name": "python3",
      "display_name": "Python 3",
      "language": "python"
    },
    "language_info": {
      "name": "python",
      "version": "3.6.6",
      "mimetype": "text/x-python",
      "codemirror_mode": {
        "name": "ipython",
        "version": 3
      },
      "pygments_lexer": "ipython3",
      "nbconvert_exporter": "python",
      "file_extension": ".py"
    },
    "colab": {
      "name": "home-loan-prediction.ipynb",
      "provenance": []
    }
  },
  "cells": [
    {
      "cell_type": "markdown",
      "metadata": {
        "_uuid": "abf3f52b9d99ea68063524916d5e85ebb7d44a7e",
        "id": "0AsavRC5FzF_"
      },
      "source": [
        "# Introduction to the Notebook"
      ]
    },
    {
      "cell_type": "markdown",
      "metadata": {
        "_uuid": "f55787360af7b5f019849a52654e9d96f2400f0e",
        "id": "TMutz8b-FzGM"
      },
      "source": [
        "Welcome to this notebook on Loan Prediction Practice Problem. Below is a brief introduction of this notebook."
      ]
    },
    {
      "cell_type": "markdown",
      "metadata": {
        "_uuid": "14800313b1575c5961e354781bb3a34ba459ac15",
        "id": "s_irDhyuFzGQ"
      },
      "source": [
        "# Objective of the Notebook"
      ]
    },
    {
      "cell_type": "markdown",
      "metadata": {
        "_uuid": "22a6223fbf3cc26dd388a935730591024fd5e045",
        "id": "LI7HUsMGFzGU"
      },
      "source": [
        "This notebook is designed for people who want to solve binary classification problems using Python. By the end of this notebook, you will have the necessary skills and techniques required to solve such problems."
      ]
    },
    {
      "cell_type": "markdown",
      "metadata": {
        "_uuid": "492602979540f6d1b34b3a4323e87183eca36465",
        "id": "GYkqTYkGFzGX"
      },
      "source": [
        "# Expectation from the Notebook"
      ]
    },
    {
      "cell_type": "markdown",
      "metadata": {
        "_uuid": "2af6bb2277f5caf1a1c258b9b610c53687e71ac0",
        "id": "HHLWXwipFzGb"
      },
      "source": [
        "This notebook is divided into the below sections:\n",
        "\n",
        "1.Introduction to the problem.\n",
        "\n",
        "2.Exploratory Data Analysis (EDA) and PreProcessing.\n",
        "\n",
        "3.Feature engineering and Model building."
      ]
    },
    {
      "cell_type": "markdown",
      "metadata": {
        "_uuid": "ac43e5098e97976035bec8ad7f01605a0a506e46",
        "id": "qjgUqtZwFzGf"
      },
      "source": [
        "# Table of Contents"
      ]
    },
    {
      "cell_type": "markdown",
      "metadata": {
        "_uuid": "e495155199e00284047755e5359365fec272b7d4",
        "id": "_jyA2CkkFzGi"
      },
      "source": [
        "Let’s look at the steps that we will follow in this notebook.\n",
        "\n",
        "1.Problem Statement\n",
        "\n",
        "2.Hypothesis Generation\n",
        "\n",
        "3.Loading the data\n",
        "\n",
        "4.Understanding the data\n",
        "\n",
        "5.Exploratory Data Analysis (EDA)\n",
        "\n",
        "i)Univariate Analysis\n",
        "\n",
        "ii)Bivariate Analysis\n",
        "\n",
        "6.Missing value and outlier treatment\n",
        "\n",
        "7.Feature Engineering\n",
        "\n",
        "8.Model Building :\n",
        "    \n",
        "i)Logistic Regression\n",
        "\n",
        "ii) Decision Tree\n",
        "\n",
        "iii) Random Forest\n",
        "\n",
        "iv) Random Forest with Grid Search\n",
        "\n",
        "v)XGBClassifier"
      ]
    },
    {
      "cell_type": "markdown",
      "metadata": {
        "_uuid": "f7bc80543957adc03b763799bced8202f8b96fa3",
        "id": "9g-ciS8XFzGm"
      },
      "source": [
        "# Problem Statement"
      ]
    },
    {
      "cell_type": "markdown",
      "metadata": {
        "_uuid": "e819eced9c1a5b9a8588959ac0d7334dc92e4945",
        "id": "i1sTPhAvFzGp"
      },
      "source": [
        "Understanding the problem statement is the first and foremost step. This would help you give an intuition of what you will face ahead of time. Let us see the problem statement -"
      ]
    },
    {
      "cell_type": "markdown",
      "metadata": {
        "_uuid": "e379a67550eb96195c81144316da0a259fca79ab",
        "id": "dRe6IrqQFzGs"
      },
      "source": [
        "Dream Housing Finance company deals in all home loans. They have presence across all urban, semi urban and rural areas. Customer first apply for home loan after that company validates the customer eligibility for loan. Company wants to automate the loan eligibility process (real time) based on customer detail provided while filling online application form. These details are Gender, Marital Status, Education, Number of Dependents, Income, Loan Amount, Credit History and others. To automate this process, they have given a problem to identify the customers segments, those are eligible for loan amount so that they can specifically target these customers."
      ]
    },
    {
      "cell_type": "markdown",
      "metadata": {
        "_uuid": "b1514f35772671a8a01cd6855cdf3dae08055ec1",
        "id": "hBItvf-mFzGv"
      },
      "source": [
        "This is a standard supervised classification task.A classification problem where we have to predict whether a loan would be approved or not. In a classification problem, we have to predict discrete values based on a given set of independent variable(s).Classification can be of two types:"
      ]
    },
    {
      "cell_type": "markdown",
      "metadata": {
        "_uuid": "03985d188de3c4f6cd3df625e6ecb7b7d116948c",
        "id": "x-FoRYbOFzGy"
      },
      "source": [
        "Supervised: The labels are included in the training data and the goal is to train a model to learn to predict the labels from the features.\n",
        "\n",
        "Binary Classification : In this classification we have to predict either of the two given classes. For example: classifying the gender as male or female, predicting the result as win or loss, etc.\n",
        "\n",
        "Multiclass Classification : Here we have to classify the data into three or more classes. For example: classifying a movie's genre as comedy, action or romantic, classify fruits as oranges, apples, or pears, etc."
      ]
    },
    {
      "cell_type": "markdown",
      "metadata": {
        "_uuid": "5cf05adb170133592e37716d392843088a541f16",
        "id": "Z3fL4oL2FzG1"
      },
      "source": [
        "Loan prediction is a very common real-life problem that each retail bank faces atleast once in its lifetime. If done correctly, it can save a lot of man hours at the end of a retail bank.\n",
        "\n",
        "\n",
        "Although this notebook is specifically built to give you a walkthrough of Loan Prediction problem, you can always refer the content to get a comprehensive overview to solve a classification problem."
      ]
    },
    {
      "cell_type": "markdown",
      "metadata": {
        "_uuid": "564a24436ce9639a6f484b83f6e90e4cdf0fc113",
        "id": "-mTk_RXJFzG4"
      },
      "source": [
        "# Hypothesis Generation"
      ]
    },
    {
      "cell_type": "markdown",
      "metadata": {
        "_uuid": "00fe9b7462c8b68f079f28e521d0f73e6e36e577",
        "id": "W2fYqvvoFzG7"
      },
      "source": [
        "After looking at the problem statement, we will now move into hypothesis generation. It is the process of listing out all the possible factors that can affect the outcome."
      ]
    },
    {
      "cell_type": "markdown",
      "metadata": {
        "_uuid": "3c8f88e319f2b5fbc4963899829e159965b37080",
        "id": "zEb5KZQEFzG-"
      },
      "source": [
        "# What is hypothesis generation?"
      ]
    },
    {
      "cell_type": "markdown",
      "metadata": {
        "_uuid": "ff8bfd11989d068a057fb3f0009d024ab9c57e38",
        "id": "pWnFEEhZFzHB"
      },
      "source": [
        "This is a very important stage in any data science/machine learning pipeline. It involves understanding the problem in detail by brainstorming as many factors as possible which can impact the outcome. It is done by understanding the problem statement thoroughly and before looking at the data."
      ]
    },
    {
      "cell_type": "markdown",
      "metadata": {
        "_uuid": "da44ac681781ebc2a32a631b277fce7ab3f08b36",
        "id": "-9thCVm_FzHE"
      },
      "source": [
        "Below are some of the factors which I think can affect the Loan Approval (dependent variable for this loan prediction problem):"
      ]
    },
    {
      "cell_type": "markdown",
      "metadata": {
        "_uuid": "88cdd32da11a95b41856eee36fd7b379f3bd7441",
        "id": "PayHv4P4FzHH"
      },
      "source": [
        "Salary: Applicants with high income should have more chances of loan approval.\n",
        "\n",
        "Previous history: Applicants who have repayed their previous debts should have higher chances of loan approval.\n",
        "\n",
        "Loan amount: Loan approval should also depend on the loan amount. If the loan amount is less, chances of loan approval should be high.\n",
        "\n",
        "Loan term: Loan for less time period and less amount should have higher chances of approval.\n",
        "\n",
        "EMI: Lesser the amount to be paid monthly to repay the loan, higher the chances of loan approval.\n",
        "\n",
        "These are some of the factors which i think can affect the target variable, you can come up with many more factors"
      ]
    },
    {
      "cell_type": "markdown",
      "metadata": {
        "_uuid": "c3c57cdbc39a1b73c60feb5c704c3b7079e9014b",
        "id": "a72k4hiyFzHK"
      },
      "source": [
        "# About The Data:"
      ]
    },
    {
      "cell_type": "markdown",
      "metadata": {
        "_uuid": "0f57114788848c6161bdf2c5e274dd7ad72f2971",
        "id": "-1HD8zhFFzHN"
      },
      "source": [
        "\n",
        "\n",
        "\n",
        "\n",
        "Given below is the description for each variable.\n",
        "\n",
        "\n",
        "\n",
        "\n",
        "Variable ----- Description\n",
        "\n",
        "Loan_ID -->> Unique Loan ID\n",
        "\n",
        "Gender -->> Male/ Female\n",
        "\n",
        "Married -->> Applicant married (Y/N)\n",
        "\n",
        "Dependents -->> Number of dependents\n",
        "\n",
        "Education -->> Applicant Education (Graduate/ Under Graduate)\n",
        "\n",
        "Self_Employed -->> Self employed (Y/N)\n",
        "\n",
        "ApplicantIncome -->> Applicant income\n",
        "\n",
        "CoapplicantIncome -->> Coapplicant income\n",
        "\n",
        "LoanAmount -->>  Loan amount in thousands\n",
        "\n",
        "Loan_Amount_Term -->> Term of loan in months\n",
        "\n",
        "Credit_History -->> credit history meets guidelines\n",
        "\n",
        "Property_Area -->> Urban/ Semi Urban/ Rural\n",
        "\n",
        "Loan_Status -->> Loan approved (Y/N)"
      ]
    },
    {
      "cell_type": "markdown",
      "metadata": {
        "collapsed": true,
        "_uuid": "ddb5e801c79a85da28eb5fd1a60758609ca2af1c",
        "id": "dzr7tYAmFzHQ"
      },
      "source": [
        "# Import required packages"
      ]
    },
    {
      "cell_type": "code",
      "metadata": {
        "trusted": true,
        "_uuid": "0c87da7637d61a6d32cf9d51d5e6ae8585f3f041",
        "id": "nrrFxc__FzHT",
        "colab": {
          "base_uri": "https://localhost:8080/",
          "height": 70
        },
        "outputId": "04882556-2e10-4680-cdf0-85b753ba4b65"
      },
      "source": [
        "import pandas as pd\n",
        "import numpy as np\n",
        "import seaborn as sns\n",
        "import matplotlib.pyplot as plt\n",
        "%matplotlib inline\n",
        "import warnings\n",
        "warnings.filterwarnings(\"ignore\")"
      ],
      "execution_count": null,
      "outputs": [
        {
          "output_type": "stream",
          "text": [
            "/usr/local/lib/python3.6/dist-packages/statsmodels/tools/_testing.py:19: FutureWarning: pandas.util.testing is deprecated. Use the functions in the public API at pandas.testing instead.\n",
            "  import pandas.util.testing as tm\n"
          ],
          "name": "stderr"
        }
      ]
    },
    {
      "cell_type": "markdown",
      "metadata": {
        "_uuid": "4171540782a03181f567e76f09d672ad829e6407",
        "id": "pzfADTefFzHq"
      },
      "source": [
        "# Data"
      ]
    },
    {
      "cell_type": "markdown",
      "metadata": {
        "_uuid": "96ff338589e485cb659e243e6e0b1b41587c6994",
        "id": "C0GrVuwCFzHt"
      },
      "source": [
        " For this practice problem, we have been given two CSV files: train and test."
      ]
    },
    {
      "cell_type": "markdown",
      "metadata": {
        "_uuid": "7769c482b5f81c501453ec18549ab49fc040c854",
        "id": "cdmpocURFzHw"
      },
      "source": [
        "Train file will be used for training the model, i.e. our model will learn from this file. It contains all the independent variables and the target variable.\n",
        "\n",
        "Test file contains all the independent variables, but not the target variable. We will apply the model to predict the target variable for the test data."
      ]
    },
    {
      "cell_type": "markdown",
      "metadata": {
        "_uuid": "92974d0bb49ce2f374f5d9c21b282037db0c4e40",
        "id": "jKghZm4LFzHz"
      },
      "source": [
        "# Read Train and Test Data"
      ]
    },
    {
      "cell_type": "code",
      "metadata": {
        "trusted": true,
        "_uuid": "83ad303bfa71002ccd20f412841c3078e4c64b81",
        "id": "P_VoJOwtFzH2"
      },
      "source": [
        "train = pd.read_csv(\"train.csv\")\n",
        "test = pd.read_csv(\"test.csv\")"
      ],
      "execution_count": null,
      "outputs": []
    },
    {
      "cell_type": "markdown",
      "metadata": {
        "_uuid": "c407fda1c35b099e26c6e963600ec8adf9784066",
        "id": "ILTsqzTuFzIJ"
      },
      "source": [
        "# Copy of original data"
      ]
    },
    {
      "cell_type": "markdown",
      "metadata": {
        "_uuid": "742c5198be0674ab978aa3816aa55fef3052e0da",
        "id": "kEemzflLFzIM"
      },
      "source": [
        "Let’s make a copy of train and test data so that even if we have to make any changes in these datasets we would not lose the original datasets."
      ]
    },
    {
      "cell_type": "code",
      "metadata": {
        "trusted": true,
        "_uuid": "e6e2cb249f0fa4a761bd3ec2d9b4547c2b524ed4",
        "id": "yqiayMKbFzIP"
      },
      "source": [
        "train_original = train.copy()\n",
        "test_original = test.copy()"
      ],
      "execution_count": null,
      "outputs": []
    },
    {
      "cell_type": "markdown",
      "metadata": {
        "_uuid": "c4e81f7dfa14e0d185e1a6f560872c4c9f3442cf",
        "id": "0lrCi_0QFzIe"
      },
      "source": [
        "# Understanding the Data"
      ]
    },
    {
      "cell_type": "markdown",
      "metadata": {
        "_uuid": "03d9f224d04002d025e1c616a8eae28d5a425257",
        "id": "tvai_nAKFzIg"
      },
      "source": [
        "In this section, we will look at the structure of the train and test datasets. Firstly, we will check the features present in our data and then we will look at their data types."
      ]
    },
    {
      "cell_type": "code",
      "metadata": {
        "trusted": true,
        "_uuid": "17f3b62b8a2d3d28006c5efb4f8d2d5c59d290a5",
        "id": "ONdTBtWwFzIj",
        "colab": {
          "base_uri": "https://localhost:8080/",
          "height": 84
        },
        "outputId": "1ac05e6f-0fa9-4b64-847d-b1d8981ddb71"
      },
      "source": [
        "train.columns"
      ],
      "execution_count": null,
      "outputs": [
        {
          "output_type": "execute_result",
          "data": {
            "text/plain": [
              "Index(['Loan_ID', 'Gender', 'Married', 'Dependents', 'Education',\n",
              "       'Self_Employed', 'ApplicantIncome', 'CoapplicantIncome', 'LoanAmount',\n",
              "       'Loan_Amount_Term', 'Credit_History', 'Property_Area', 'Loan_Status'],\n",
              "      dtype='object')"
            ]
          },
          "metadata": {
            "tags": []
          },
          "execution_count": 4
        }
      ]
    },
    {
      "cell_type": "markdown",
      "metadata": {
        "_uuid": "9342aa80d92510358a80ec7d199c99815bb36a90",
        "id": "D7gxOXAzFzI2"
      },
      "source": [
        "We have 12 independent variables and 1 target variable, i.e. Loan_Status in the train dataset. Let’s also have a look at the columns of test dataset."
      ]
    },
    {
      "cell_type": "code",
      "metadata": {
        "trusted": true,
        "_uuid": "dcfddf7d44dbe347b14594b4b2ac1af07d4e6ecf",
        "id": "YIv7hLysFzI4",
        "colab": {
          "base_uri": "https://localhost:8080/",
          "height": 84
        },
        "outputId": "1f15dff1-048e-493c-b905-aac1462c3022"
      },
      "source": [
        "test.columns"
      ],
      "execution_count": null,
      "outputs": [
        {
          "output_type": "execute_result",
          "data": {
            "text/plain": [
              "Index(['Loan_ID', 'Gender', 'Married', 'Dependents', 'Education',\n",
              "       'Self_Employed', 'ApplicantIncome', 'CoapplicantIncome', 'LoanAmount',\n",
              "       'Loan_Amount_Term', 'Credit_History', 'Property_Area'],\n",
              "      dtype='object')"
            ]
          },
          "metadata": {
            "tags": []
          },
          "execution_count": 5
        }
      ]
    },
    {
      "cell_type": "markdown",
      "metadata": {
        "_uuid": "b0f1abbdc6f802eea42d177f581be6babbdf2daa",
        "id": "J4JKcz4NFzJH"
      },
      "source": [
        "We have similar features in the test dataset as the train dataset except the Loan_Status. We will predict the Loan_Status using the model that we will build using the train data."
      ]
    },
    {
      "cell_type": "markdown",
      "metadata": {
        "_uuid": "777c5110d6660218971ed772f0b3df0f0ed93f06",
        "id": "gEqvB5W7FzJL"
      },
      "source": [
        "# Print the data types"
      ]
    },
    {
      "cell_type": "code",
      "metadata": {
        "trusted": true,
        "_uuid": "322ee6e07ec4411ea39d023ec9047f61bc164603",
        "id": "sm5UAAulFzJO",
        "colab": {
          "base_uri": "https://localhost:8080/",
          "height": 252
        },
        "outputId": "74becfda-b0c2-4e74-9f39-86f485d71086"
      },
      "source": [
        "train.dtypes"
      ],
      "execution_count": null,
      "outputs": [
        {
          "output_type": "execute_result",
          "data": {
            "text/plain": [
              "Loan_ID               object\n",
              "Gender                object\n",
              "Married               object\n",
              "Dependents            object\n",
              "Education             object\n",
              "Self_Employed         object\n",
              "ApplicantIncome        int64\n",
              "CoapplicantIncome    float64\n",
              "LoanAmount           float64\n",
              "Loan_Amount_Term     float64\n",
              "Credit_History       float64\n",
              "Property_Area         object\n",
              "Loan_Status           object\n",
              "dtype: object"
            ]
          },
          "metadata": {
            "tags": []
          },
          "execution_count": 6
        }
      ]
    },
    {
      "cell_type": "markdown",
      "metadata": {
        "_uuid": "51ab3cfce64fddc29d4f42a3d284d78993b69dbe",
        "id": "oBS1KAaGFzJc"
      },
      "source": [
        "We can see there are three format of data types:\n"
      ]
    },
    {
      "cell_type": "markdown",
      "metadata": {
        "_uuid": "8dc66e5afded16c0304ebe99f193f0ae713c0873",
        "id": "fCyRdyA4FzJf"
      },
      "source": [
        "object: Object format means variables are categorical. Categorical variables in our dataset are: Loan_ID, Gender, Married, Dependents, Education, Self_Employed, Property_Area, Loan_Status."
      ]
    },
    {
      "cell_type": "markdown",
      "metadata": {
        "_uuid": "94c6281ec3c0597b8a7cac93a501260777e75e70",
        "id": "68BqF7PtFzJi"
      },
      "source": [
        "int64: It represents the integer variables. ApplicantIncome is of this format."
      ]
    },
    {
      "cell_type": "markdown",
      "metadata": {
        "_uuid": "c33e280817c56e642477cc02b58ab38d8a725b4a",
        "id": "wURSkOioFzJk"
      },
      "source": [
        "float64: It represents the variable which have some decimal values involved. They are also numerical variables. Numerical variables in our dataset are: CoapplicantIncome, LoanAmount, Loan_Amount_Term, and Credit_History."
      ]
    },
    {
      "cell_type": "markdown",
      "metadata": {
        "_uuid": "a218a0498dc757f8c0f0aec3d5ee6a3c0b353218",
        "id": "2LNet5wSFzJn"
      },
      "source": [
        "# Shape of the dataset"
      ]
    },
    {
      "cell_type": "code",
      "metadata": {
        "trusted": true,
        "_uuid": "f3bdbd0e5bfaf3e94de8b63f3209f15b02a222e8",
        "id": "ytYHF3chFzJp",
        "colab": {
          "base_uri": "https://localhost:8080/",
          "height": 249
        },
        "outputId": "333bac34-2870-4000-fe93-370c4ed962ec"
      },
      "source": [
        "print('Training data shape: ', train.shape)\n",
        "train.head()"
      ],
      "execution_count": null,
      "outputs": [
        {
          "output_type": "stream",
          "text": [
            "Training data shape:  (614, 13)\n"
          ],
          "name": "stdout"
        },
        {
          "output_type": "execute_result",
          "data": {
            "text/html": [
              "<div>\n",
              "<style scoped>\n",
              "    .dataframe tbody tr th:only-of-type {\n",
              "        vertical-align: middle;\n",
              "    }\n",
              "\n",
              "    .dataframe tbody tr th {\n",
              "        vertical-align: top;\n",
              "    }\n",
              "\n",
              "    .dataframe thead th {\n",
              "        text-align: right;\n",
              "    }\n",
              "</style>\n",
              "<table border=\"1\" class=\"dataframe\">\n",
              "  <thead>\n",
              "    <tr style=\"text-align: right;\">\n",
              "      <th></th>\n",
              "      <th>Loan_ID</th>\n",
              "      <th>Gender</th>\n",
              "      <th>Married</th>\n",
              "      <th>Dependents</th>\n",
              "      <th>Education</th>\n",
              "      <th>Self_Employed</th>\n",
              "      <th>ApplicantIncome</th>\n",
              "      <th>CoapplicantIncome</th>\n",
              "      <th>LoanAmount</th>\n",
              "      <th>Loan_Amount_Term</th>\n",
              "      <th>Credit_History</th>\n",
              "      <th>Property_Area</th>\n",
              "      <th>Loan_Status</th>\n",
              "    </tr>\n",
              "  </thead>\n",
              "  <tbody>\n",
              "    <tr>\n",
              "      <th>0</th>\n",
              "      <td>LP001002</td>\n",
              "      <td>Male</td>\n",
              "      <td>No</td>\n",
              "      <td>0</td>\n",
              "      <td>Graduate</td>\n",
              "      <td>No</td>\n",
              "      <td>5849</td>\n",
              "      <td>0.0</td>\n",
              "      <td>NaN</td>\n",
              "      <td>360.0</td>\n",
              "      <td>1.0</td>\n",
              "      <td>Urban</td>\n",
              "      <td>Y</td>\n",
              "    </tr>\n",
              "    <tr>\n",
              "      <th>1</th>\n",
              "      <td>LP001003</td>\n",
              "      <td>Male</td>\n",
              "      <td>Yes</td>\n",
              "      <td>1</td>\n",
              "      <td>Graduate</td>\n",
              "      <td>No</td>\n",
              "      <td>4583</td>\n",
              "      <td>1508.0</td>\n",
              "      <td>128.0</td>\n",
              "      <td>360.0</td>\n",
              "      <td>1.0</td>\n",
              "      <td>Rural</td>\n",
              "      <td>N</td>\n",
              "    </tr>\n",
              "    <tr>\n",
              "      <th>2</th>\n",
              "      <td>LP001005</td>\n",
              "      <td>Male</td>\n",
              "      <td>Yes</td>\n",
              "      <td>0</td>\n",
              "      <td>Graduate</td>\n",
              "      <td>Yes</td>\n",
              "      <td>3000</td>\n",
              "      <td>0.0</td>\n",
              "      <td>66.0</td>\n",
              "      <td>360.0</td>\n",
              "      <td>1.0</td>\n",
              "      <td>Urban</td>\n",
              "      <td>Y</td>\n",
              "    </tr>\n",
              "    <tr>\n",
              "      <th>3</th>\n",
              "      <td>LP001006</td>\n",
              "      <td>Male</td>\n",
              "      <td>Yes</td>\n",
              "      <td>0</td>\n",
              "      <td>Not Graduate</td>\n",
              "      <td>No</td>\n",
              "      <td>2583</td>\n",
              "      <td>2358.0</td>\n",
              "      <td>120.0</td>\n",
              "      <td>360.0</td>\n",
              "      <td>1.0</td>\n",
              "      <td>Urban</td>\n",
              "      <td>Y</td>\n",
              "    </tr>\n",
              "    <tr>\n",
              "      <th>4</th>\n",
              "      <td>LP001008</td>\n",
              "      <td>Male</td>\n",
              "      <td>No</td>\n",
              "      <td>0</td>\n",
              "      <td>Graduate</td>\n",
              "      <td>No</td>\n",
              "      <td>6000</td>\n",
              "      <td>0.0</td>\n",
              "      <td>141.0</td>\n",
              "      <td>360.0</td>\n",
              "      <td>1.0</td>\n",
              "      <td>Urban</td>\n",
              "      <td>Y</td>\n",
              "    </tr>\n",
              "  </tbody>\n",
              "</table>\n",
              "</div>"
            ],
            "text/plain": [
              "    Loan_ID Gender Married  ... Credit_History Property_Area Loan_Status\n",
              "0  LP001002   Male      No  ...            1.0         Urban           Y\n",
              "1  LP001003   Male     Yes  ...            1.0         Rural           N\n",
              "2  LP001005   Male     Yes  ...            1.0         Urban           Y\n",
              "3  LP001006   Male     Yes  ...            1.0         Urban           Y\n",
              "4  LP001008   Male      No  ...            1.0         Urban           Y\n",
              "\n",
              "[5 rows x 13 columns]"
            ]
          },
          "metadata": {
            "tags": []
          },
          "execution_count": 7
        }
      ]
    },
    {
      "cell_type": "code",
      "metadata": {
        "trusted": true,
        "_uuid": "1e87f37fbc1391ffc0ce7362df4c608140b72997",
        "id": "sHENj6A4FzJ5",
        "colab": {
          "base_uri": "https://localhost:8080/",
          "height": 249
        },
        "outputId": "3d3a5350-afa0-455a-c2d0-ceb99f2df9ac"
      },
      "source": [
        "print('Test data shape: ', test.shape)\n",
        "test.head()"
      ],
      "execution_count": null,
      "outputs": [
        {
          "output_type": "stream",
          "text": [
            "Test data shape:  (367, 12)\n"
          ],
          "name": "stdout"
        },
        {
          "output_type": "execute_result",
          "data": {
            "text/html": [
              "<div>\n",
              "<style scoped>\n",
              "    .dataframe tbody tr th:only-of-type {\n",
              "        vertical-align: middle;\n",
              "    }\n",
              "\n",
              "    .dataframe tbody tr th {\n",
              "        vertical-align: top;\n",
              "    }\n",
              "\n",
              "    .dataframe thead th {\n",
              "        text-align: right;\n",
              "    }\n",
              "</style>\n",
              "<table border=\"1\" class=\"dataframe\">\n",
              "  <thead>\n",
              "    <tr style=\"text-align: right;\">\n",
              "      <th></th>\n",
              "      <th>Loan_ID</th>\n",
              "      <th>Gender</th>\n",
              "      <th>Married</th>\n",
              "      <th>Dependents</th>\n",
              "      <th>Education</th>\n",
              "      <th>Self_Employed</th>\n",
              "      <th>ApplicantIncome</th>\n",
              "      <th>CoapplicantIncome</th>\n",
              "      <th>LoanAmount</th>\n",
              "      <th>Loan_Amount_Term</th>\n",
              "      <th>Credit_History</th>\n",
              "      <th>Property_Area</th>\n",
              "    </tr>\n",
              "  </thead>\n",
              "  <tbody>\n",
              "    <tr>\n",
              "      <th>0</th>\n",
              "      <td>LP001015</td>\n",
              "      <td>Male</td>\n",
              "      <td>Yes</td>\n",
              "      <td>0</td>\n",
              "      <td>Graduate</td>\n",
              "      <td>No</td>\n",
              "      <td>5720</td>\n",
              "      <td>0</td>\n",
              "      <td>110.0</td>\n",
              "      <td>360.0</td>\n",
              "      <td>1.0</td>\n",
              "      <td>Urban</td>\n",
              "    </tr>\n",
              "    <tr>\n",
              "      <th>1</th>\n",
              "      <td>LP001022</td>\n",
              "      <td>Male</td>\n",
              "      <td>Yes</td>\n",
              "      <td>1</td>\n",
              "      <td>Graduate</td>\n",
              "      <td>No</td>\n",
              "      <td>3076</td>\n",
              "      <td>1500</td>\n",
              "      <td>126.0</td>\n",
              "      <td>360.0</td>\n",
              "      <td>1.0</td>\n",
              "      <td>Urban</td>\n",
              "    </tr>\n",
              "    <tr>\n",
              "      <th>2</th>\n",
              "      <td>LP001031</td>\n",
              "      <td>Male</td>\n",
              "      <td>Yes</td>\n",
              "      <td>2</td>\n",
              "      <td>Graduate</td>\n",
              "      <td>No</td>\n",
              "      <td>5000</td>\n",
              "      <td>1800</td>\n",
              "      <td>208.0</td>\n",
              "      <td>360.0</td>\n",
              "      <td>1.0</td>\n",
              "      <td>Urban</td>\n",
              "    </tr>\n",
              "    <tr>\n",
              "      <th>3</th>\n",
              "      <td>LP001035</td>\n",
              "      <td>Male</td>\n",
              "      <td>Yes</td>\n",
              "      <td>2</td>\n",
              "      <td>Graduate</td>\n",
              "      <td>No</td>\n",
              "      <td>2340</td>\n",
              "      <td>2546</td>\n",
              "      <td>100.0</td>\n",
              "      <td>360.0</td>\n",
              "      <td>NaN</td>\n",
              "      <td>Urban</td>\n",
              "    </tr>\n",
              "    <tr>\n",
              "      <th>4</th>\n",
              "      <td>LP001051</td>\n",
              "      <td>Male</td>\n",
              "      <td>No</td>\n",
              "      <td>0</td>\n",
              "      <td>Not Graduate</td>\n",
              "      <td>No</td>\n",
              "      <td>3276</td>\n",
              "      <td>0</td>\n",
              "      <td>78.0</td>\n",
              "      <td>360.0</td>\n",
              "      <td>1.0</td>\n",
              "      <td>Urban</td>\n",
              "    </tr>\n",
              "  </tbody>\n",
              "</table>\n",
              "</div>"
            ],
            "text/plain": [
              "    Loan_ID Gender Married  ... Loan_Amount_Term Credit_History Property_Area\n",
              "0  LP001015   Male     Yes  ...            360.0            1.0         Urban\n",
              "1  LP001022   Male     Yes  ...            360.0            1.0         Urban\n",
              "2  LP001031   Male     Yes  ...            360.0            1.0         Urban\n",
              "3  LP001035   Male     Yes  ...            360.0            NaN         Urban\n",
              "4  LP001051   Male      No  ...            360.0            1.0         Urban\n",
              "\n",
              "[5 rows x 12 columns]"
            ]
          },
          "metadata": {
            "tags": []
          },
          "execution_count": 8
        }
      ]
    },
    {
      "cell_type": "markdown",
      "metadata": {
        "_uuid": "c661381b9f4869dded6123c479aafcfff5bd55d8",
        "id": "YGp3tAtfFzKJ"
      },
      "source": [
        "We have 614 rows and 13 columns in the train dataset and 367 rows and 12 columns in test dataset."
      ]
    },
    {
      "cell_type": "markdown",
      "metadata": {
        "_uuid": "bb7613843e5f55843f4c3a86daab1186b4503744",
        "id": "TamFiFgRFzKM"
      },
      "source": [
        "# Univariate Analysis"
      ]
    },
    {
      "cell_type": "markdown",
      "metadata": {
        "_uuid": "d43d5745b2500f48ee879edb85f67fcaa5ecf0c3",
        "id": "0NIJNqWOFzKP"
      },
      "source": [
        "In this section, we will do univariate analysis. It is the simplest form of analyzing data where we examine each variable individually. \n",
        "\n",
        "For categorical features we can use frequency table or bar plots which will calculate the number of each category in a particular variable.\n",
        "\n",
        "For numerical features, probability density plots can be used to look at the distribution of the variable."
      ]
    },
    {
      "cell_type": "markdown",
      "metadata": {
        "_uuid": "8c7887ee70a86c7cc6a003410e162d135e9a62e1",
        "id": "lApkiqPHFzKR"
      },
      "source": [
        "# Target Variable"
      ]
    },
    {
      "cell_type": "markdown",
      "metadata": {
        "_uuid": "049e1840ddd6f5f9403148f987b364ac1239ef66",
        "id": "TRjlcPm-FzKU"
      },
      "source": [
        "We will first look at the target variable, i.e., Loan_Status.\n",
        "\n",
        "As it is a categorical variable, let us look at its frequency table, percentage distribution and bar plot."
      ]
    },
    {
      "cell_type": "markdown",
      "metadata": {
        "_uuid": "7b2e442e85fee55fd2aee595080f90ba7f009a20",
        "id": "hnciLdi3FzKX"
      },
      "source": [
        "Frequency table of a variable will give us the count of each category in that variable."
      ]
    },
    {
      "cell_type": "code",
      "metadata": {
        "trusted": true,
        "id": "N9QY9krBFzKb",
        "colab": {
          "base_uri": "https://localhost:8080/",
          "height": 232
        },
        "outputId": "3e29706c-fcd1-4ee1-952b-efa9b487c56e"
      },
      "source": [
        "train.head()"
      ],
      "execution_count": null,
      "outputs": [
        {
          "output_type": "execute_result",
          "data": {
            "text/html": [
              "<div>\n",
              "<style scoped>\n",
              "    .dataframe tbody tr th:only-of-type {\n",
              "        vertical-align: middle;\n",
              "    }\n",
              "\n",
              "    .dataframe tbody tr th {\n",
              "        vertical-align: top;\n",
              "    }\n",
              "\n",
              "    .dataframe thead th {\n",
              "        text-align: right;\n",
              "    }\n",
              "</style>\n",
              "<table border=\"1\" class=\"dataframe\">\n",
              "  <thead>\n",
              "    <tr style=\"text-align: right;\">\n",
              "      <th></th>\n",
              "      <th>Credit_History</th>\n",
              "      <th>Loan_Status</th>\n",
              "      <th>LoanAmount_log</th>\n",
              "      <th>TotalIncome</th>\n",
              "      <th>TotalIncome_log</th>\n",
              "      <th>EMI</th>\n",
              "      <th>Balance_Income</th>\n",
              "      <th>Gender_Female</th>\n",
              "      <th>Gender_Male</th>\n",
              "      <th>Married_No</th>\n",
              "      <th>Married_Yes</th>\n",
              "      <th>Dependents_3</th>\n",
              "      <th>Dependents_0</th>\n",
              "      <th>Dependents_1</th>\n",
              "      <th>Dependents_2</th>\n",
              "      <th>Education_Graduate</th>\n",
              "      <th>Education_Not Graduate</th>\n",
              "      <th>Self_Employed_No</th>\n",
              "      <th>Self_Employed_Yes</th>\n",
              "      <th>Property_Area_Rural</th>\n",
              "      <th>Property_Area_Semiurban</th>\n",
              "      <th>Property_Area_Urban</th>\n",
              "    </tr>\n",
              "  </thead>\n",
              "  <tbody>\n",
              "    <tr>\n",
              "      <th>0</th>\n",
              "      <td>1.0</td>\n",
              "      <td>1</td>\n",
              "      <td>4.852030</td>\n",
              "      <td>5849.0</td>\n",
              "      <td>8.674026</td>\n",
              "      <td>0.355556</td>\n",
              "      <td>5493.444444</td>\n",
              "      <td>0</td>\n",
              "      <td>1</td>\n",
              "      <td>1</td>\n",
              "      <td>0</td>\n",
              "      <td>0</td>\n",
              "      <td>1</td>\n",
              "      <td>0</td>\n",
              "      <td>0</td>\n",
              "      <td>1</td>\n",
              "      <td>0</td>\n",
              "      <td>1</td>\n",
              "      <td>0</td>\n",
              "      <td>0</td>\n",
              "      <td>0</td>\n",
              "      <td>1</td>\n",
              "    </tr>\n",
              "    <tr>\n",
              "      <th>1</th>\n",
              "      <td>1.0</td>\n",
              "      <td>0</td>\n",
              "      <td>4.852030</td>\n",
              "      <td>6091.0</td>\n",
              "      <td>8.714568</td>\n",
              "      <td>0.355556</td>\n",
              "      <td>5735.444444</td>\n",
              "      <td>0</td>\n",
              "      <td>1</td>\n",
              "      <td>0</td>\n",
              "      <td>1</td>\n",
              "      <td>0</td>\n",
              "      <td>0</td>\n",
              "      <td>1</td>\n",
              "      <td>0</td>\n",
              "      <td>1</td>\n",
              "      <td>0</td>\n",
              "      <td>1</td>\n",
              "      <td>0</td>\n",
              "      <td>1</td>\n",
              "      <td>0</td>\n",
              "      <td>0</td>\n",
              "    </tr>\n",
              "    <tr>\n",
              "      <th>2</th>\n",
              "      <td>1.0</td>\n",
              "      <td>1</td>\n",
              "      <td>4.189655</td>\n",
              "      <td>3000.0</td>\n",
              "      <td>8.006368</td>\n",
              "      <td>0.183333</td>\n",
              "      <td>2816.666667</td>\n",
              "      <td>0</td>\n",
              "      <td>1</td>\n",
              "      <td>0</td>\n",
              "      <td>1</td>\n",
              "      <td>0</td>\n",
              "      <td>1</td>\n",
              "      <td>0</td>\n",
              "      <td>0</td>\n",
              "      <td>1</td>\n",
              "      <td>0</td>\n",
              "      <td>0</td>\n",
              "      <td>1</td>\n",
              "      <td>0</td>\n",
              "      <td>0</td>\n",
              "      <td>1</td>\n",
              "    </tr>\n",
              "    <tr>\n",
              "      <th>3</th>\n",
              "      <td>1.0</td>\n",
              "      <td>1</td>\n",
              "      <td>4.787492</td>\n",
              "      <td>4941.0</td>\n",
              "      <td>8.505323</td>\n",
              "      <td>0.333333</td>\n",
              "      <td>4607.666667</td>\n",
              "      <td>0</td>\n",
              "      <td>1</td>\n",
              "      <td>0</td>\n",
              "      <td>1</td>\n",
              "      <td>0</td>\n",
              "      <td>1</td>\n",
              "      <td>0</td>\n",
              "      <td>0</td>\n",
              "      <td>0</td>\n",
              "      <td>1</td>\n",
              "      <td>1</td>\n",
              "      <td>0</td>\n",
              "      <td>0</td>\n",
              "      <td>0</td>\n",
              "      <td>1</td>\n",
              "    </tr>\n",
              "    <tr>\n",
              "      <th>4</th>\n",
              "      <td>1.0</td>\n",
              "      <td>1</td>\n",
              "      <td>4.948760</td>\n",
              "      <td>6000.0</td>\n",
              "      <td>8.699515</td>\n",
              "      <td>0.391667</td>\n",
              "      <td>5608.333333</td>\n",
              "      <td>0</td>\n",
              "      <td>1</td>\n",
              "      <td>1</td>\n",
              "      <td>0</td>\n",
              "      <td>0</td>\n",
              "      <td>1</td>\n",
              "      <td>0</td>\n",
              "      <td>0</td>\n",
              "      <td>1</td>\n",
              "      <td>0</td>\n",
              "      <td>1</td>\n",
              "      <td>0</td>\n",
              "      <td>0</td>\n",
              "      <td>0</td>\n",
              "      <td>1</td>\n",
              "    </tr>\n",
              "  </tbody>\n",
              "</table>\n",
              "</div>"
            ],
            "text/plain": [
              "   Credit_History  Loan_Status  ...  Property_Area_Semiurban  Property_Area_Urban\n",
              "0             1.0            1  ...                        0                    1\n",
              "1             1.0            0  ...                        0                    0\n",
              "2             1.0            1  ...                        0                    1\n",
              "3             1.0            1  ...                        0                    1\n",
              "4             1.0            1  ...                        0                    1\n",
              "\n",
              "[5 rows x 22 columns]"
            ]
          },
          "metadata": {
            "tags": []
          },
          "execution_count": 126
        }
      ]
    },
    {
      "cell_type": "code",
      "metadata": {
        "trusted": true,
        "_uuid": "eec9660b429bbbbd98f9594fb3a5109bd2f3ea67",
        "id": "dH2eU3A_FzKq",
        "colab": {
          "base_uri": "https://localhost:8080/",
          "height": 34
        },
        "outputId": "a0b7b2fa-fc08-4569-de21-809ca56f280a"
      },
      "source": [
        "#train[\"Loan_Status\"].size\n",
        "train[\"Loan_Status\"].count()"
      ],
      "execution_count": null,
      "outputs": [
        {
          "output_type": "execute_result",
          "data": {
            "text/plain": [
              "614"
            ]
          },
          "metadata": {
            "tags": []
          },
          "execution_count": 127
        }
      ]
    },
    {
      "cell_type": "markdown",
      "metadata": {
        "_uuid": "ca4dc6edb96959dc7ceb89e5f6db5b7f71bf5e84",
        "id": "eMUb3NlEFzK7"
      },
      "source": [
        "Size of our target variable is : 614"
      ]
    },
    {
      "cell_type": "code",
      "metadata": {
        "trusted": true,
        "_uuid": "4d3928d89491e777183c7de216d377447ce64186",
        "id": "rOQ7xkrcFzK-",
        "colab": {
          "base_uri": "https://localhost:8080/",
          "height": 67
        },
        "outputId": "a220a766-d152-4fb5-a9eb-5945a2f52d9a"
      },
      "source": [
        "train[\"Loan_Status\"].value_counts()"
      ],
      "execution_count": null,
      "outputs": [
        {
          "output_type": "execute_result",
          "data": {
            "text/plain": [
              "1    422\n",
              "0    192\n",
              "Name: Loan_Status, dtype: int64"
            ]
          },
          "metadata": {
            "tags": []
          },
          "execution_count": 128
        }
      ]
    },
    {
      "cell_type": "markdown",
      "metadata": {
        "_uuid": "647b43c2d0bfe0820ec9b02ab226aa6035fe0130",
        "id": "38S9-oUXFzLQ"
      },
      "source": [
        "Among 614 Loan_Status :\n",
        "Accepted : 422 \n",
        "Rejected : 192"
      ]
    },
    {
      "cell_type": "code",
      "metadata": {
        "trusted": true,
        "_uuid": "7a53f12f542882478747e7f6469b5a2e75727e2c",
        "id": "UXiIfvoHFzLU",
        "colab": {
          "base_uri": "https://localhost:8080/",
          "height": 67
        },
        "outputId": "88694e41-8d00-495d-a678-e95c2303c3b9"
      },
      "source": [
        "# Normalize can be set to True to print proportions instead of number \n",
        "train[\"Loan_Status\"].value_counts(normalize=True)*100"
      ],
      "execution_count": null,
      "outputs": [
        {
          "output_type": "execute_result",
          "data": {
            "text/plain": [
              "1    68.729642\n",
              "0    31.270358\n",
              "Name: Loan_Status, dtype: float64"
            ]
          },
          "metadata": {
            "tags": []
          },
          "execution_count": 129
        }
      ]
    },
    {
      "cell_type": "code",
      "metadata": {
        "trusted": true,
        "_uuid": "d2ffa47ed61b5ac403fc10b5cd935f50fc973ac1",
        "id": "ZCKB1EewFzLh",
        "colab": {
          "base_uri": "https://localhost:8080/",
          "height": 295
        },
        "outputId": "8db17df8-1078-4e08-dc28-49c8f81d6d00"
      },
      "source": [
        "train[\"Loan_Status\"].value_counts(normalize=True).plot.bar(title = 'Loan_Status')"
      ],
      "execution_count": null,
      "outputs": [
        {
          "output_type": "execute_result",
          "data": {
            "text/plain": [
              "<matplotlib.axes._subplots.AxesSubplot at 0x7f147d28cef0>"
            ]
          },
          "metadata": {
            "tags": []
          },
          "execution_count": 130
        },
        {
          "output_type": "display_data",
          "data": {
            "image/png": "[encoded data removed]",
            "text/plain": [
              "<Figure size 432x288 with 1 Axes>"
            ]
          },
          "metadata": {
            "tags": [],
            "needs_background": "light"
          }
        }
      ]
    },
    {
      "cell_type": "markdown",
      "metadata": {
        "_uuid": "4221c45888f97ffd84e346adb396a58f3ab7f98d",
        "id": "NddyPmc5FzLu"
      },
      "source": [
        "The loan of 422(around 69%) people out of 614 was approved."
      ]
    },
    {
      "cell_type": "markdown",
      "metadata": {
        "_uuid": "73435e5742dc631c284df14b12bee4a86fbe3574",
        "id": "J6C4cOdIFzLw"
      },
      "source": [
        "Now lets visualize each variable separately. Different types of variables are Categorical, ordinal and numerical."
      ]
    },
    {
      "cell_type": "markdown",
      "metadata": {
        "_uuid": "2f609146393ec79991fc37b83f75436c607c1661",
        "id": "_F0Nw2BTFzL5"
      },
      "source": [
        "Categorical features: These features have categories (Gender, Married, Self_Employed, Credit_History, Loan_Status)"
      ]
    },
    {
      "cell_type": "markdown",
      "metadata": {
        "_uuid": "b67622450ddb029cb470b125b08c0a06d0c3f29d",
        "id": "OJhFpFvgFzL7"
      },
      "source": [
        "# Independent Variable (Categorical)"
      ]
    },
    {
      "cell_type": "markdown",
      "metadata": {
        "_uuid": "db2ab2be3d65b1d89d336fc3201ca4d0655146fa",
        "id": "ZgLkIrldFzL9"
      },
      "source": [
        "# Analysis on \"Gender\" variable :"
      ]
    },
    {
      "cell_type": "code",
      "metadata": {
        "trusted": true,
        "_uuid": "043ffbc2072e01264f52ff573ad289e57749cc38",
        "id": "0w4AdER6FzMA",
        "colab": {
          "base_uri": "https://localhost:8080/",
          "height": 690
        },
        "outputId": "c330210e-a747-4ee4-9ffa-25dd1d123992"
      },
      "source": [
        "train[\"Gender\"].count()"
      ],
      "execution_count": null,
      "outputs": [
        {
          "output_type": "error",
          "ename": "KeyError",
          "evalue": "ignored",
          "traceback": [
            "\u001b[0;31m---------------------------------------------------------------------------\u001b[0m",
            "\u001b[0;31mKeyError\u001b[0m                                  Traceback (most recent call last)",
            "\u001b[0;32m/usr/local/lib/python3.6/dist-packages/pandas/core/indexes/base.py\u001b[0m in \u001b[0;36mget_loc\u001b[0;34m(self, key, method, tolerance)\u001b[0m\n\u001b[1;32m   2645\u001b[0m             \u001b[0;32mtry\u001b[0m\u001b[0;34m:\u001b[0m\u001b[0;34m\u001b[0m\u001b[0;34m\u001b[0m\u001b[0m\n\u001b[0;32m-> 2646\u001b[0;31m                 \u001b[0;32mreturn\u001b[0m \u001b[0mself\u001b[0m\u001b[0;34m.\u001b[0m\u001b[0m_engine\u001b[0m\u001b[0;34m.\u001b[0m\u001b[0mget_loc\u001b[0m\u001b[0;34m(\u001b[0m\u001b[0mkey\u001b[0m\u001b[0;34m)\u001b[0m\u001b[0;34m\u001b[0m\u001b[0;34m\u001b[0m\u001b[0m\n\u001b[0m\u001b[1;32m   2647\u001b[0m             \u001b[0;32mexcept\u001b[0m \u001b[0mKeyError\u001b[0m\u001b[0;34m:\u001b[0m\u001b[0;34m\u001b[0m\u001b[0;34m\u001b[0m\u001b[0m\n",
            "\u001b[0;32mpandas/_libs/index.pyx\u001b[0m in \u001b[0;36mpandas._libs.index.IndexEngine.get_loc\u001b[0;34m()\u001b[0m\n",
            "\u001b[0;32mpandas/_libs/index.pyx\u001b[0m in \u001b[0;36mpandas._libs.index.IndexEngine.get_loc\u001b[0;34m()\u001b[0m\n",
            "\u001b[0;32mpandas/_libs/hashtable_class_helper.pxi\u001b[0m in \u001b[0;36mpandas._libs.hashtable.PyObjectHashTable.get_item\u001b[0;34m()\u001b[0m\n",
            "\u001b[0;32mpandas/_libs/hashtable_class_helper.pxi\u001b[0m in \u001b[0;36mpandas._libs.hashtable.PyObjectHashTable.get_item\u001b[0;34m()\u001b[0m\n",
            "\u001b[0;31mKeyError\u001b[0m: 'Gender'",
            "\nDuring handling of the above exception, another exception occurred:\n",
            "\u001b[0;31mKeyError\u001b[0m                                  Traceback (most recent call last)",
            "\u001b[0;32m<ipython-input-131-0518c01c30d3>\u001b[0m in \u001b[0;36m<module>\u001b[0;34m()\u001b[0m\n\u001b[0;32m----> 1\u001b[0;31m \u001b[0mtrain\u001b[0m\u001b[0;34m[\u001b[0m\u001b[0;34m\"Gender\"\u001b[0m\u001b[0;34m]\u001b[0m\u001b[0;34m.\u001b[0m\u001b[0mcount\u001b[0m\u001b[0;34m(\u001b[0m\u001b[0;34m)\u001b[0m\u001b[0;34m\u001b[0m\u001b[0;34m\u001b[0m\u001b[0m\n\u001b[0m",
            "\u001b[0;32m/usr/local/lib/python3.6/dist-packages/pandas/core/frame.py\u001b[0m in \u001b[0;36m__getitem__\u001b[0;34m(self, key)\u001b[0m\n\u001b[1;32m   2798\u001b[0m             \u001b[0;32mif\u001b[0m \u001b[0mself\u001b[0m\u001b[0;34m.\u001b[0m\u001b[0mcolumns\u001b[0m\u001b[0;34m.\u001b[0m\u001b[0mnlevels\u001b[0m \u001b[0;34m>\u001b[0m \u001b[0;36m1\u001b[0m\u001b[0;34m:\u001b[0m\u001b[0;34m\u001b[0m\u001b[0;34m\u001b[0m\u001b[0m\n\u001b[1;32m   2799\u001b[0m                 \u001b[0;32mreturn\u001b[0m \u001b[0mself\u001b[0m\u001b[0;34m.\u001b[0m\u001b[0m_getitem_multilevel\u001b[0m\u001b[0;34m(\u001b[0m\u001b[0mkey\u001b[0m\u001b[0;34m)\u001b[0m\u001b[0;34m\u001b[0m\u001b[0;34m\u001b[0m\u001b[0m\n\u001b[0;32m-> 2800\u001b[0;31m             \u001b[0mindexer\u001b[0m \u001b[0;34m=\u001b[0m \u001b[0mself\u001b[0m\u001b[0;34m.\u001b[0m\u001b[0mcolumns\u001b[0m\u001b[0;34m.\u001b[0m\u001b[0mget_loc\u001b[0m\u001b[0;34m(\u001b[0m\u001b[0mkey\u001b[0m\u001b[0;34m)\u001b[0m\u001b[0;34m\u001b[0m\u001b[0;34m\u001b[0m\u001b[0m\n\u001b[0m\u001b[1;32m   2801\u001b[0m             \u001b[0;32mif\u001b[0m \u001b[0mis_integer\u001b[0m\u001b[0;34m(\u001b[0m\u001b[0mindexer\u001b[0m\u001b[0;34m)\u001b[0m\u001b[0;34m:\u001b[0m\u001b[0;34m\u001b[0m\u001b[0;34m\u001b[0m\u001b[0m\n\u001b[1;32m   2802\u001b[0m                 \u001b[0mindexer\u001b[0m \u001b[0;34m=\u001b[0m \u001b[0;34m[\u001b[0m\u001b[0mindexer\u001b[0m\u001b[0;34m]\u001b[0m\u001b[0;34m\u001b[0m\u001b[0;34m\u001b[0m\u001b[0m\n",
            "\u001b[0;32m/usr/local/lib/python3.6/dist-packages/pandas/core/indexes/base.py\u001b[0m in \u001b[0;36mget_loc\u001b[0;34m(self, key, method, tolerance)\u001b[0m\n\u001b[1;32m   2646\u001b[0m                 \u001b[0;32mreturn\u001b[0m \u001b[0mself\u001b[0m\u001b[0;34m.\u001b[0m\u001b[0m_engine\u001b[0m\u001b[0;34m.\u001b[0m\u001b[0mget_loc\u001b[0m\u001b[0;34m(\u001b[0m\u001b[0mkey\u001b[0m\u001b[0;34m)\u001b[0m\u001b[0;34m\u001b[0m\u001b[0;34m\u001b[0m\u001b[0m\n\u001b[1;32m   2647\u001b[0m             \u001b[0;32mexcept\u001b[0m \u001b[0mKeyError\u001b[0m\u001b[0;34m:\u001b[0m\u001b[0;34m\u001b[0m\u001b[0;34m\u001b[0m\u001b[0m\n\u001b[0;32m-> 2648\u001b[0;31m                 \u001b[0;32mreturn\u001b[0m \u001b[0mself\u001b[0m\u001b[0;34m.\u001b[0m\u001b[0m_engine\u001b[0m\u001b[0;34m.\u001b[0m\u001b[0mget_loc\u001b[0m\u001b[0;34m(\u001b[0m\u001b[0mself\u001b[0m\u001b[0;34m.\u001b[0m\u001b[0m_maybe_cast_indexer\u001b[0m\u001b[0;34m(\u001b[0m\u001b[0mkey\u001b[0m\u001b[0;34m)\u001b[0m\u001b[0;34m)\u001b[0m\u001b[0;34m\u001b[0m\u001b[0;34m\u001b[0m\u001b[0m\n\u001b[0m\u001b[1;32m   2649\u001b[0m         \u001b[0mindexer\u001b[0m \u001b[0;34m=\u001b[0m \u001b[0mself\u001b[0m\u001b[0;34m.\u001b[0m\u001b[0mget_indexer\u001b[0m\u001b[0;34m(\u001b[0m\u001b[0;34m[\u001b[0m\u001b[0mkey\u001b[0m\u001b[0;34m]\u001b[0m\u001b[0;34m,\u001b[0m \u001b[0mmethod\u001b[0m\u001b[0;34m=\u001b[0m\u001b[0mmethod\u001b[0m\u001b[0;34m,\u001b[0m \u001b[0mtolerance\u001b[0m\u001b[0;34m=\u001b[0m\u001b[0mtolerance\u001b[0m\u001b[0;34m)\u001b[0m\u001b[0;34m\u001b[0m\u001b[0;34m\u001b[0m\u001b[0m\n\u001b[1;32m   2650\u001b[0m         \u001b[0;32mif\u001b[0m \u001b[0mindexer\u001b[0m\u001b[0;34m.\u001b[0m\u001b[0mndim\u001b[0m \u001b[0;34m>\u001b[0m \u001b[0;36m1\u001b[0m \u001b[0;32mor\u001b[0m \u001b[0mindexer\u001b[0m\u001b[0;34m.\u001b[0m\u001b[0msize\u001b[0m \u001b[0;34m>\u001b[0m \u001b[0;36m1\u001b[0m\u001b[0;34m:\u001b[0m\u001b[0;34m\u001b[0m\u001b[0;34m\u001b[0m\u001b[0m\n",
            "\u001b[0;32mpandas/_libs/index.pyx\u001b[0m in \u001b[0;36mpandas._libs.index.IndexEngine.get_loc\u001b[0;34m()\u001b[0m\n",
            "\u001b[0;32mpandas/_libs/index.pyx\u001b[0m in \u001b[0;36mpandas._libs.index.IndexEngine.get_loc\u001b[0;34m()\u001b[0m\n",
            "\u001b[0;32mpandas/_libs/hashtable_class_helper.pxi\u001b[0m in \u001b[0;36mpandas._libs.hashtable.PyObjectHashTable.get_item\u001b[0;34m()\u001b[0m\n",
            "\u001b[0;32mpandas/_libs/hashtable_class_helper.pxi\u001b[0m in \u001b[0;36mpandas._libs.hashtable.PyObjectHashTable.get_item\u001b[0;34m()\u001b[0m\n",
            "\u001b[0;31mKeyError\u001b[0m: 'Gender'"
          ]
        }
      ]
    },
    {
      "cell_type": "markdown",
      "metadata": {
        "_uuid": "f47db682c421b0005f2dbab0baa77f11ed15dbb1",
        "id": "tMFiepULFzMQ"
      },
      "source": [
        "Size of our \"Gender\" variable is : 614"
      ]
    },
    {
      "cell_type": "code",
      "metadata": {
        "trusted": true,
        "_uuid": "7a7f04b6f1f3463ce52388824dd5d29a7c94beee",
        "id": "YsZCsakhFzMX",
        "colab": {
          "base_uri": "https://localhost:8080/",
          "height": 690
        },
        "outputId": "bce31002-5bf5-4046-ddd6-dc41d1c73bca"
      },
      "source": [
        "train[\"Gender\"].value_counts()"
      ],
      "execution_count": null,
      "outputs": [
        {
          "output_type": "error",
          "ename": "KeyError",
          "evalue": "ignored",
          "traceback": [
            "\u001b[0;31m---------------------------------------------------------------------------\u001b[0m",
            "\u001b[0;31mKeyError\u001b[0m                                  Traceback (most recent call last)",
            "\u001b[0;32m/usr/local/lib/python3.6/dist-packages/pandas/core/indexes/base.py\u001b[0m in \u001b[0;36mget_loc\u001b[0;34m(self, key, method, tolerance)\u001b[0m\n\u001b[1;32m   2645\u001b[0m             \u001b[0;32mtry\u001b[0m\u001b[0;34m:\u001b[0m\u001b[0;34m\u001b[0m\u001b[0;34m\u001b[0m\u001b[0m\n\u001b[0;32m-> 2646\u001b[0;31m                 \u001b[0;32mreturn\u001b[0m \u001b[0mself\u001b[0m\u001b[0;34m.\u001b[0m\u001b[0m_engine\u001b[0m\u001b[0;34m.\u001b[0m\u001b[0mget_loc\u001b[0m\u001b[0;34m(\u001b[0m\u001b[0mkey\u001b[0m\u001b[0;34m)\u001b[0m\u001b[0;34m\u001b[0m\u001b[0;34m\u001b[0m\u001b[0m\n\u001b[0m\u001b[1;32m   2647\u001b[0m             \u001b[0;32mexcept\u001b[0m \u001b[0mKeyError\u001b[0m\u001b[0;34m:\u001b[0m\u001b[0;34m\u001b[0m\u001b[0;34m\u001b[0m\u001b[0m\n",
            "\u001b[0;32mpandas/_libs/index.pyx\u001b[0m in \u001b[0;36mpandas._libs.index.IndexEngine.get_loc\u001b[0;34m()\u001b[0m\n",
            "\u001b[0;32mpandas/_libs/index.pyx\u001b[0m in \u001b[0;36mpandas._libs.index.IndexEngine.get_loc\u001b[0;34m()\u001b[0m\n",
            "\u001b[0;32mpandas/_libs/hashtable_class_helper.pxi\u001b[0m in \u001b[0;36mpandas._libs.hashtable.PyObjectHashTable.get_item\u001b[0;34m()\u001b[0m\n",
            "\u001b[0;32mpandas/_libs/hashtable_class_helper.pxi\u001b[0m in \u001b[0;36mpandas._libs.hashtable.PyObjectHashTable.get_item\u001b[0;34m()\u001b[0m\n",
            "\u001b[0;31mKeyError\u001b[0m: 'Gender'",
            "\nDuring handling of the above exception, another exception occurred:\n",
            "\u001b[0;31mKeyError\u001b[0m                                  Traceback (most recent call last)",
            "\u001b[0;32m<ipython-input-132-0ed18f04a473>\u001b[0m in \u001b[0;36m<module>\u001b[0;34m()\u001b[0m\n\u001b[0;32m----> 1\u001b[0;31m \u001b[0mtrain\u001b[0m\u001b[0;34m[\u001b[0m\u001b[0;34m\"Gender\"\u001b[0m\u001b[0;34m]\u001b[0m\u001b[0;34m.\u001b[0m\u001b[0mvalue_counts\u001b[0m\u001b[0;34m(\u001b[0m\u001b[0;34m)\u001b[0m\u001b[0;34m\u001b[0m\u001b[0;34m\u001b[0m\u001b[0m\n\u001b[0m",
            "\u001b[0;32m/usr/local/lib/python3.6/dist-packages/pandas/core/frame.py\u001b[0m in \u001b[0;36m__getitem__\u001b[0;34m(self, key)\u001b[0m\n\u001b[1;32m   2798\u001b[0m             \u001b[0;32mif\u001b[0m \u001b[0mself\u001b[0m\u001b[0;34m.\u001b[0m\u001b[0mcolumns\u001b[0m\u001b[0;34m.\u001b[0m\u001b[0mnlevels\u001b[0m \u001b[0;34m>\u001b[0m \u001b[0;36m1\u001b[0m\u001b[0;34m:\u001b[0m\u001b[0;34m\u001b[0m\u001b[0;34m\u001b[0m\u001b[0m\n\u001b[1;32m   2799\u001b[0m                 \u001b[0;32mreturn\u001b[0m \u001b[0mself\u001b[0m\u001b[0;34m.\u001b[0m\u001b[0m_getitem_multilevel\u001b[0m\u001b[0;34m(\u001b[0m\u001b[0mkey\u001b[0m\u001b[0;34m)\u001b[0m\u001b[0;34m\u001b[0m\u001b[0;34m\u001b[0m\u001b[0m\n\u001b[0;32m-> 2800\u001b[0;31m             \u001b[0mindexer\u001b[0m \u001b[0;34m=\u001b[0m \u001b[0mself\u001b[0m\u001b[0;34m.\u001b[0m\u001b[0mcolumns\u001b[0m\u001b[0;34m.\u001b[0m\u001b[0mget_loc\u001b[0m\u001b[0;34m(\u001b[0m\u001b[0mkey\u001b[0m\u001b[0;34m)\u001b[0m\u001b[0;34m\u001b[0m\u001b[0;34m\u001b[0m\u001b[0m\n\u001b[0m\u001b[1;32m   2801\u001b[0m             \u001b[0;32mif\u001b[0m \u001b[0mis_integer\u001b[0m\u001b[0;34m(\u001b[0m\u001b[0mindexer\u001b[0m\u001b[0;34m)\u001b[0m\u001b[0;34m:\u001b[0m\u001b[0;34m\u001b[0m\u001b[0;34m\u001b[0m\u001b[0m\n\u001b[1;32m   2802\u001b[0m                 \u001b[0mindexer\u001b[0m \u001b[0;34m=\u001b[0m \u001b[0;34m[\u001b[0m\u001b[0mindexer\u001b[0m\u001b[0;34m]\u001b[0m\u001b[0;34m\u001b[0m\u001b[0;34m\u001b[0m\u001b[0m\n",
            "\u001b[0;32m/usr/local/lib/python3.6/dist-packages/pandas/core/indexes/base.py\u001b[0m in \u001b[0;36mget_loc\u001b[0;34m(self, key, method, tolerance)\u001b[0m\n\u001b[1;32m   2646\u001b[0m                 \u001b[0;32mreturn\u001b[0m \u001b[0mself\u001b[0m\u001b[0;34m.\u001b[0m\u001b[0m_engine\u001b[0m\u001b[0;34m.\u001b[0m\u001b[0mget_loc\u001b[0m\u001b[0;34m(\u001b[0m\u001b[0mkey\u001b[0m\u001b[0;34m)\u001b[0m\u001b[0;34m\u001b[0m\u001b[0;34m\u001b[0m\u001b[0m\n\u001b[1;32m   2647\u001b[0m             \u001b[0;32mexcept\u001b[0m \u001b[0mKeyError\u001b[0m\u001b[0;34m:\u001b[0m\u001b[0;34m\u001b[0m\u001b[0;34m\u001b[0m\u001b[0m\n\u001b[0;32m-> 2648\u001b[0;31m                 \u001b[0;32mreturn\u001b[0m \u001b[0mself\u001b[0m\u001b[0;34m.\u001b[0m\u001b[0m_engine\u001b[0m\u001b[0;34m.\u001b[0m\u001b[0mget_loc\u001b[0m\u001b[0;34m(\u001b[0m\u001b[0mself\u001b[0m\u001b[0;34m.\u001b[0m\u001b[0m_maybe_cast_indexer\u001b[0m\u001b[0;34m(\u001b[0m\u001b[0mkey\u001b[0m\u001b[0;34m)\u001b[0m\u001b[0;34m)\u001b[0m\u001b[0;34m\u001b[0m\u001b[0;34m\u001b[0m\u001b[0m\n\u001b[0m\u001b[1;32m   2649\u001b[0m         \u001b[0mindexer\u001b[0m \u001b[0;34m=\u001b[0m \u001b[0mself\u001b[0m\u001b[0;34m.\u001b[0m\u001b[0mget_indexer\u001b[0m\u001b[0;34m(\u001b[0m\u001b[0;34m[\u001b[0m\u001b[0mkey\u001b[0m\u001b[0;34m]\u001b[0m\u001b[0;34m,\u001b[0m \u001b[0mmethod\u001b[0m\u001b[0;34m=\u001b[0m\u001b[0mmethod\u001b[0m\u001b[0;34m,\u001b[0m \u001b[0mtolerance\u001b[0m\u001b[0;34m=\u001b[0m\u001b[0mtolerance\u001b[0m\u001b[0;34m)\u001b[0m\u001b[0;34m\u001b[0m\u001b[0;34m\u001b[0m\u001b[0m\n\u001b[1;32m   2650\u001b[0m         \u001b[0;32mif\u001b[0m \u001b[0mindexer\u001b[0m\u001b[0;34m.\u001b[0m\u001b[0mndim\u001b[0m \u001b[0;34m>\u001b[0m \u001b[0;36m1\u001b[0m \u001b[0;32mor\u001b[0m \u001b[0mindexer\u001b[0m\u001b[0;34m.\u001b[0m\u001b[0msize\u001b[0m \u001b[0;34m>\u001b[0m \u001b[0;36m1\u001b[0m\u001b[0;34m:\u001b[0m\u001b[0;34m\u001b[0m\u001b[0;34m\u001b[0m\u001b[0m\n",
            "\u001b[0;32mpandas/_libs/index.pyx\u001b[0m in \u001b[0;36mpandas._libs.index.IndexEngine.get_loc\u001b[0;34m()\u001b[0m\n",
            "\u001b[0;32mpandas/_libs/index.pyx\u001b[0m in \u001b[0;36mpandas._libs.index.IndexEngine.get_loc\u001b[0;34m()\u001b[0m\n",
            "\u001b[0;32mpandas/_libs/hashtable_class_helper.pxi\u001b[0m in \u001b[0;36mpandas._libs.hashtable.PyObjectHashTable.get_item\u001b[0;34m()\u001b[0m\n",
            "\u001b[0;32mpandas/_libs/hashtable_class_helper.pxi\u001b[0m in \u001b[0;36mpandas._libs.hashtable.PyObjectHashTable.get_item\u001b[0;34m()\u001b[0m\n",
            "\u001b[0;31mKeyError\u001b[0m: 'Gender'"
          ]
        }
      ]
    },
    {
      "cell_type": "markdown",
      "metadata": {
        "_uuid": "397b6194e78e3b7ab6093a48a4bca9c05f19f6b9",
        "id": "b2n-KLEgFzMk"
      },
      "source": [
        "Among 601 person: \n",
        "Male : 489 \n",
        "Female : 112"
      ]
    },
    {
      "cell_type": "code",
      "metadata": {
        "trusted": true,
        "_uuid": "4952b9d859b49aff3786ff7ea4b68d3e97a8caf4",
        "id": "a4uJ8bR5FzMm",
        "colab": {
          "base_uri": "https://localhost:8080/",
          "height": 67
        },
        "outputId": "f5c08098-dc94-4480-bb73-cd868b1a376e"
      },
      "source": [
        "train['Gender'].value_counts(normalize=True)*100"
      ],
      "execution_count": null,
      "outputs": [
        {
          "output_type": "execute_result",
          "data": {
            "text/plain": [
              "Male      81.364393\n",
              "Female    18.635607\n",
              "Name: Gender, dtype: float64"
            ]
          },
          "metadata": {
            "tags": []
          },
          "execution_count": 16
        }
      ]
    },
    {
      "cell_type": "code",
      "metadata": {
        "trusted": true,
        "_uuid": "8700758af3eeba08aeea0330836def2a97954e79",
        "id": "5t7A5IzrFzMy",
        "colab": {
          "base_uri": "https://localhost:8080/",
          "height": 324
        },
        "outputId": "ff93f179-e7a9-4288-bfa3-2df9e40164e2"
      },
      "source": [
        "train['Gender'].value_counts(normalize=True).plot.bar(title= 'Gender')"
      ],
      "execution_count": null,
      "outputs": [
        {
          "output_type": "execute_result",
          "data": {
            "text/plain": [
              "<matplotlib.axes._subplots.AxesSubplot at 0x7f1483bd56d8>"
            ]
          },
          "metadata": {
            "tags": []
          },
          "execution_count": 17
        },
        {
          "output_type": "display_data",
          "data": {
            "image/png": "[encoded data removed]",
            "text/plain": [
              "<Figure size 432x288 with 1 Axes>"
            ]
          },
          "metadata": {
            "tags": [],
            "needs_background": "light"
          }
        }
      ]
    },
    {
      "cell_type": "markdown",
      "metadata": {
        "_uuid": "0d27005f535781e50731f0bdf4437a6ef5d5c53b",
        "id": "Y3S_C49tFzM-"
      },
      "source": [
        "In our train dataset the \"Gender\" variable contain\n",
        "Male : 81%\n",
        "Female: 19%     "
      ]
    },
    {
      "cell_type": "markdown",
      "metadata": {
        "_uuid": "8716f685afbfad573a547ac1809f2d95497d617e",
        "id": "vRAxBEB4FzNA"
      },
      "source": [
        "# Analysis on \"Married\" variable :"
      ]
    },
    {
      "cell_type": "code",
      "metadata": {
        "trusted": true,
        "_uuid": "5260e5a84a3d612bf12835c062c87fed749bb455",
        "id": "3YtMvLh-FzNC",
        "colab": {
          "base_uri": "https://localhost:8080/"
        },
        "outputId": "dda0d980-e83c-4a16-82b2-021f30e5cf43"
      },
      "source": [
        "train[\"Married\"].count()"
      ],
      "execution_count": null,
      "outputs": [
        {
          "output_type": "execute_result",
          "data": {
            "text/plain": [
              "611"
            ]
          },
          "metadata": {
            "tags": []
          },
          "execution_count": 18
        }
      ]
    },
    {
      "cell_type": "markdown",
      "metadata": {
        "_uuid": "be8e4d52c71f6cf2affbe7a7a2d72acae544403c",
        "id": "gBXto8kCFzNO"
      },
      "source": [
        "Size of our \"Married\" variable is : 611"
      ]
    },
    {
      "cell_type": "code",
      "metadata": {
        "trusted": true,
        "_uuid": "8293c7ca49b90a8643aab93619530e63b0fc6135",
        "id": "KjDSxYBQFzNR",
        "colab": {
          "base_uri": "https://localhost:8080/"
        },
        "outputId": "7dc79d4a-0dad-4140-f02a-498394e68f5d"
      },
      "source": [
        "train[\"Married\"].value_counts()"
      ],
      "execution_count": null,
      "outputs": [
        {
          "output_type": "execute_result",
          "data": {
            "text/plain": [
              "Yes    398\n",
              "No     213\n",
              "Name: Married, dtype: int64"
            ]
          },
          "metadata": {
            "tags": []
          },
          "execution_count": 19
        }
      ]
    },
    {
      "cell_type": "markdown",
      "metadata": {
        "_uuid": "61e540cc94836b7a6f73f50583e2db84cbddd41f",
        "id": "j6xsaVqBFzNg"
      },
      "source": [
        "Total number of people : 611\n",
        "\n",
        "Married : 398\n",
        "\n",
        "Unmarried : 213    "
      ]
    },
    {
      "cell_type": "code",
      "metadata": {
        "trusted": true,
        "_uuid": "ac7b58fce7c19298d3278896dff21e3e2b26deb3",
        "id": "_C6T8p2dFzNj",
        "colab": {
          "base_uri": "https://localhost:8080/"
        },
        "outputId": "58429911-5ec8-4b6f-e90e-62aa5127f735"
      },
      "source": [
        "train['Married'].value_counts(normalize=True)*100"
      ],
      "execution_count": null,
      "outputs": [
        {
          "output_type": "execute_result",
          "data": {
            "text/plain": [
              "Yes    65.139116\n",
              "No     34.860884\n",
              "Name: Married, dtype: float64"
            ]
          },
          "metadata": {
            "tags": []
          },
          "execution_count": 20
        }
      ]
    },
    {
      "cell_type": "code",
      "metadata": {
        "trusted": true,
        "_uuid": "e49d98637a1006ea2e68a69b51094bda42f485d4",
        "id": "gwfK76hzFzNy",
        "colab": {
          "base_uri": "https://localhost:8080/"
        },
        "outputId": "34733457-c794-4101-c98f-7e5892528596"
      },
      "source": [
        "train['Married'].value_counts(normalize=True).plot.bar(title= 'Married')"
      ],
      "execution_count": null,
      "outputs": [
        {
          "output_type": "execute_result",
          "data": {
            "text/plain": [
              "<matplotlib.axes._subplots.AxesSubplot at 0x7f1483711f98>"
            ]
          },
          "metadata": {
            "tags": []
          },
          "execution_count": 21
        },
        {
          "output_type": "display_data",
          "data": {
            "image/png": "[encoded data removed]",
            "text/plain": [
              "<Figure size 432x288 with 1 Axes>"
            ]
          },
          "metadata": {
            "tags": [],
            "needs_background": "light"
          }
        }
      ]
    },
    {
      "cell_type": "markdown",
      "metadata": {
        "_uuid": "564cca5f2adee036022710e24ce05974bda50724",
        "id": "mkcyq9xiFzN-"
      },
      "source": [
        "From the Grapch we see that :\n",
        "\n",
        "Number of married people : 65%\n",
        "\n",
        "Number of unmarried people : 35%    "
      ]
    },
    {
      "cell_type": "markdown",
      "metadata": {
        "_uuid": "bc490415258095a11b7215bb5fa896b4c5b98764",
        "id": "zRrv3HGgFzOA"
      },
      "source": [
        "# Analysis on \"Self_Employed\" variable : "
      ]
    },
    {
      "cell_type": "code",
      "metadata": {
        "trusted": true,
        "_uuid": "82a17178745cc4712493e08fdab6832ab88f0576",
        "id": "Xp750te4FzOD",
        "colab": {
          "base_uri": "https://localhost:8080/"
        },
        "outputId": "07169361-4b32-4ff7-c9da-97324872faf2"
      },
      "source": [
        "train[\"Self_Employed\"].count()"
      ],
      "execution_count": null,
      "outputs": [
        {
          "output_type": "execute_result",
          "data": {
            "text/plain": [
              "582"
            ]
          },
          "metadata": {
            "tags": []
          },
          "execution_count": 22
        }
      ]
    },
    {
      "cell_type": "markdown",
      "metadata": {
        "_uuid": "087451513d74f1aa94f98851c95fbeb2d09fd501",
        "id": "uc75J81UFzOQ"
      },
      "source": [
        "Size of our \"Self_Employed\" variable is : 582"
      ]
    },
    {
      "cell_type": "code",
      "metadata": {
        "trusted": true,
        "_uuid": "576a5f0eaff4f32f0d262b29e3ec2c3c6fb17816",
        "id": "J4bzIVUOFzOS",
        "colab": {
          "base_uri": "https://localhost:8080/"
        },
        "outputId": "158ba060-687e-4ec1-9004-8565b42b9888"
      },
      "source": [
        "train[\"Self_Employed\"].value_counts()"
      ],
      "execution_count": null,
      "outputs": [
        {
          "output_type": "execute_result",
          "data": {
            "text/plain": [
              "No     500\n",
              "Yes     82\n",
              "Name: Self_Employed, dtype: int64"
            ]
          },
          "metadata": {
            "tags": []
          },
          "execution_count": 23
        }
      ]
    },
    {
      "cell_type": "markdown",
      "metadata": {
        "_uuid": "b40e889caacd1fcf4b23904d4dd75bf5a81910e7",
        "id": "Ebgdyll2FzOg"
      },
      "source": [
        "Total number of people : 582\n",
        "\n",
        "Self_Employed : 82\n",
        "\n",
        "Not_Self_Employed : 500"
      ]
    },
    {
      "cell_type": "code",
      "metadata": {
        "trusted": true,
        "_uuid": "b952ab2c65ccdda7de675b96971f16239318ef9b",
        "id": "IYO3gfEmFzOi",
        "colab": {
          "base_uri": "https://localhost:8080/"
        },
        "outputId": "f84534c0-64bc-479b-cb29-c08f6453ee57"
      },
      "source": [
        "train['Self_Employed'].value_counts(normalize=True)*100"
      ],
      "execution_count": null,
      "outputs": [
        {
          "output_type": "execute_result",
          "data": {
            "text/plain": [
              "No     85.910653\n",
              "Yes    14.089347\n",
              "Name: Self_Employed, dtype: float64"
            ]
          },
          "metadata": {
            "tags": []
          },
          "execution_count": 24
        }
      ]
    },
    {
      "cell_type": "code",
      "metadata": {
        "trusted": true,
        "_uuid": "1674948e9f8eefadb3e773e71d25cc539c0a6753",
        "id": "ej5IphZ2FzOx",
        "colab": {
          "base_uri": "https://localhost:8080/"
        },
        "outputId": "8c055614-0c85-41c8-8dcd-fd2c8d1ae3a0"
      },
      "source": [
        "train['Self_Employed'].value_counts(normalize=True).plot.bar(title='Self_Employed')"
      ],
      "execution_count": null,
      "outputs": [
        {
          "output_type": "execute_result",
          "data": {
            "text/plain": [
              "<matplotlib.axes._subplots.AxesSubplot at 0x7f1483674e48>"
            ]
          },
          "metadata": {
            "tags": []
          },
          "execution_count": 25
        },
        {
          "output_type": "display_data",
          "data": {
            "image/png": "[encoded data removed]",
            "text/plain": [
              "<Figure size 432x288 with 1 Axes>"
            ]
          },
          "metadata": {
            "tags": [],
            "needs_background": "light"
          }
        }
      ]
    },
    {
      "cell_type": "markdown",
      "metadata": {
        "_uuid": "a92815e3138a5cfee5cad0b0f84c3ef6e2663f09",
        "id": "fufDul2xFzO-"
      },
      "source": [
        "Among 582 people only 14% are Self_Employed and rest of the 86% are Not_Self_Employed"
      ]
    },
    {
      "cell_type": "markdown",
      "metadata": {
        "_uuid": "3d320b376831726b8796e75fb6f39f7b0dcbeb29",
        "id": "Xf9k-4fnFzPB"
      },
      "source": [
        "# Analysis on \"Credit_History\" variable :"
      ]
    },
    {
      "cell_type": "code",
      "metadata": {
        "trusted": true,
        "_uuid": "75f5b4efdcb7aa91398b66e83693e41a7830b05d",
        "id": "7nzuxLbvFzPD",
        "colab": {
          "base_uri": "https://localhost:8080/",
          "height": 34
        },
        "outputId": "1fddfc82-fbcd-4c66-9ba4-1f4d68233c97"
      },
      "source": [
        "train[\"Credit_History\"].count()"
      ],
      "execution_count": null,
      "outputs": [
        {
          "output_type": "execute_result",
          "data": {
            "text/plain": [
              "564"
            ]
          },
          "metadata": {
            "tags": []
          },
          "execution_count": 26
        }
      ]
    },
    {
      "cell_type": "markdown",
      "metadata": {
        "_uuid": "5266c4c56d54f37bf4ac95a6a32f3debf668e62e",
        "id": "nUzsI46vFzPO"
      },
      "source": [
        "Size of our \"Credit_History\" variable is : 564"
      ]
    },
    {
      "cell_type": "code",
      "metadata": {
        "trusted": true,
        "_uuid": "94e79d30be08624c95d72e38ec7ea777cdc69e9d",
        "id": "E3nAzPewFzPQ",
        "colab": {
          "base_uri": "https://localhost:8080/",
          "height": 67
        },
        "outputId": "e9bcddfc-8b45-46a4-bbc9-3c5ad72f57a2"
      },
      "source": [
        "train[\"Credit_History\"].value_counts()"
      ],
      "execution_count": null,
      "outputs": [
        {
          "output_type": "execute_result",
          "data": {
            "text/plain": [
              "1.0    475\n",
              "0.0     89\n",
              "Name: Credit_History, dtype: int64"
            ]
          },
          "metadata": {
            "tags": []
          },
          "execution_count": 27
        }
      ]
    },
    {
      "cell_type": "markdown",
      "metadata": {
        "_uuid": "242303aa89d615f66169c83c2e3c6fcddd283592",
        "id": "13_KgiLJFzPc"
      },
      "source": [
        "Total number of debts : 564\n",
        "\n",
        "Repaid Debts : 475\n",
        "\n",
        "Not Repaid Debts : 89    "
      ]
    },
    {
      "cell_type": "code",
      "metadata": {
        "trusted": true,
        "_uuid": "5d3aa37f879e88d0433b4a9a86a7c771d560a156",
        "id": "n_2dW7fKFzPf",
        "colab": {
          "base_uri": "https://localhost:8080/",
          "height": 67
        },
        "outputId": "f3c70a77-be90-4710-9d1b-07bc52937788"
      },
      "source": [
        "train['Credit_History'].value_counts(normalize=True)*100"
      ],
      "execution_count": null,
      "outputs": [
        {
          "output_type": "execute_result",
          "data": {
            "text/plain": [
              "1.0    84.219858\n",
              "0.0    15.780142\n",
              "Name: Credit_History, dtype: float64"
            ]
          },
          "metadata": {
            "tags": []
          },
          "execution_count": 28
        }
      ]
    },
    {
      "cell_type": "code",
      "metadata": {
        "trusted": true,
        "_uuid": "630a2649c89f664e2874a47f92ac8e09fe85c9a3",
        "id": "4ckeD66WFzP1",
        "colab": {
          "base_uri": "https://localhost:8080/",
          "height": 304
        },
        "outputId": "6469e436-5888-4105-ac11-484001954fbd"
      },
      "source": [
        "train['Credit_History'].value_counts(normalize=True).plot.bar(title='Credit_History')\n"
      ],
      "execution_count": null,
      "outputs": [
        {
          "output_type": "execute_result",
          "data": {
            "text/plain": [
              "<matplotlib.axes._subplots.AxesSubplot at 0x7f148364aba8>"
            ]
          },
          "metadata": {
            "tags": []
          },
          "execution_count": 29
        },
        {
          "output_type": "display_data",
          "data": {
            "image/png": "[encoded data removed]",
            "text/plain": [
              "<Figure size 432x288 with 1 Axes>"
            ]
          },
          "metadata": {
            "tags": [],
            "needs_background": "light"
          }
        }
      ]
    },
    {
      "cell_type": "markdown",
      "metadata": {
        "_uuid": "f9cb0b59105dc8b44cc75d56a00dc3c8a298416d",
        "id": "VDPi-N8HFzQI"
      },
      "source": [
        "Around 84% applicants have repaid their debts."
      ]
    },
    {
      "cell_type": "markdown",
      "metadata": {
        "_uuid": "8f5866e8f4165b3d8411cdd39e27f087b73a95fe",
        "id": "nVA13_MYFzQK"
      },
      "source": [
        "Ordinal features: Variables in categorical features having some order involved (Dependents, Education, Property_Area)"
      ]
    },
    {
      "cell_type": "markdown",
      "metadata": {
        "_uuid": "1d0876e4a9e5c3458f5258b8fc7ee35061cb1b44",
        "id": "Gs9Szy2DFzQT"
      },
      "source": [
        "# Independent Variable (Ordinal)"
      ]
    },
    {
      "cell_type": "markdown",
      "metadata": {
        "_uuid": "162ff964d3c5a0d1de6a663f09968c3221a70911",
        "id": "Nz_-ry2GFzQV"
      },
      "source": [
        "Ordinal features: Variables in categorical features having some order involved (Dependents, Education, Property_Area)"
      ]
    },
    {
      "cell_type": "markdown",
      "metadata": {
        "_uuid": "62a4ac2bac000b763a1d97fe6879895888224661",
        "id": "2p6EJRctFzQY"
      },
      "source": [
        "# Analysis on \"Dependents\" variable :"
      ]
    },
    {
      "cell_type": "code",
      "metadata": {
        "trusted": true,
        "_uuid": "0627a1636e2a28fb9f1847b7a303775809da0f64",
        "id": "Z6SZOMVQFzQa",
        "colab": {
          "base_uri": "https://localhost:8080/",
          "height": 34
        },
        "outputId": "f5e2f8fe-1d36-4f9b-fa43-efcd67567da5"
      },
      "source": [
        "train['Dependents'].count()"
      ],
      "execution_count": null,
      "outputs": [
        {
          "output_type": "execute_result",
          "data": {
            "text/plain": [
              "599"
            ]
          },
          "metadata": {
            "tags": []
          },
          "execution_count": 30
        }
      ]
    },
    {
      "cell_type": "markdown",
      "metadata": {
        "_uuid": "7cfcc8ee54d6a89ef6cb5a12180e1100a968649d",
        "id": "n_yhZDwhFzQo"
      },
      "source": [
        "Size of our \"Dependents\" variable is : 599"
      ]
    },
    {
      "cell_type": "code",
      "metadata": {
        "trusted": true,
        "_uuid": "e89cc36eaebc8aa69c24a7cfec01ddc8ebf9b152",
        "id": "YHyIrHtCFzQq",
        "colab": {
          "base_uri": "https://localhost:8080/",
          "height": 101
        },
        "outputId": "45cd0e7c-9b5e-42b6-970c-cdc42be83bfe"
      },
      "source": [
        "train[\"Dependents\"].value_counts()"
      ],
      "execution_count": null,
      "outputs": [
        {
          "output_type": "execute_result",
          "data": {
            "text/plain": [
              "0     345\n",
              "1     102\n",
              "2     101\n",
              "3+     51\n",
              "Name: Dependents, dtype: int64"
            ]
          },
          "metadata": {
            "tags": []
          },
          "execution_count": 31
        }
      ]
    },
    {
      "cell_type": "markdown",
      "metadata": {
        "_uuid": "7022370553f01e8a176bc1d289b00f1673e59499",
        "id": "iOttfBeTFzQ3"
      },
      "source": [
        "Number of 0 Dependent : 345\n",
        "\n",
        "Number of 1 Dependent : 102\n",
        "\n",
        "Number of 2 Dependesnt : 101\n",
        "\n",
        "Number of 3+ Dependent : 51"
      ]
    },
    {
      "cell_type": "code",
      "metadata": {
        "trusted": true,
        "_uuid": "8d74b3b0e9fc096c4e28a975c79aa123316645d2",
        "id": "DRNR7fqMFzQ6",
        "colab": {
          "base_uri": "https://localhost:8080/",
          "height": 101
        },
        "outputId": "9091ead2-1062-4d76-ab02-c40b144079eb"
      },
      "source": [
        "train['Dependents'].value_counts(normalize=True)*100"
      ],
      "execution_count": null,
      "outputs": [
        {
          "output_type": "execute_result",
          "data": {
            "text/plain": [
              "0     57.595993\n",
              "1     17.028381\n",
              "2     16.861436\n",
              "3+     8.514190\n",
              "Name: Dependents, dtype: float64"
            ]
          },
          "metadata": {
            "tags": []
          },
          "execution_count": 32
        }
      ]
    },
    {
      "cell_type": "code",
      "metadata": {
        "trusted": true,
        "_uuid": "d9a5fe8558178314adbff17efb19aed42596761c",
        "id": "JrY7uBfKFzRH",
        "colab": {
          "base_uri": "https://localhost:8080/",
          "height": 303
        },
        "outputId": "60c7b33d-36a5-42d4-9e9e-93f102a2e0a7"
      },
      "source": [
        "train['Dependents'].value_counts(normalize=True).plot.bar(title=\"Dependents\")"
      ],
      "execution_count": null,
      "outputs": [
        {
          "output_type": "execute_result",
          "data": {
            "text/plain": [
              "<matplotlib.axes._subplots.AxesSubplot at 0x7f14835c2d68>"
            ]
          },
          "metadata": {
            "tags": []
          },
          "execution_count": 33
        },
        {
          "output_type": "display_data",
          "data": {
            "image/png": "[encoded data removed]",
            "text/plain": [
              "<Figure size 432x288 with 1 Axes>"
            ]
          },
          "metadata": {
            "tags": [],
            "needs_background": "light"
          }
        }
      ]
    },
    {
      "cell_type": "markdown",
      "metadata": {
        "_uuid": "c7b3a497f41df12ea285efffb90b204f1d565545",
        "id": "wtK971AzFzRU"
      },
      "source": [
        "58% people have 0 dependent\n",
        "\n",
        "17% people have 1 dependent\n",
        "\n",
        "17% people have 2 dependent\n",
        "\n",
        "8% people have 3+ dependent"
      ]
    },
    {
      "cell_type": "markdown",
      "metadata": {
        "_uuid": "413a4e61a815d13009dc498d9e49eed3d3ffafd9",
        "id": "xNk_1SmNFzRX"
      },
      "source": [
        "# Analysis on \"Education\" variable :"
      ]
    },
    {
      "cell_type": "code",
      "metadata": {
        "trusted": true,
        "_uuid": "6a2b4dcc6c8db8fc1b940d872d7fca59cc619574",
        "id": "rRf2HRWzFzRc",
        "colab": {
          "base_uri": "https://localhost:8080/"
        },
        "outputId": "d2420fe2-5e04-4708-e9dd-46a28d19b7f1"
      },
      "source": [
        "train[\"Education\"].count()"
      ],
      "execution_count": null,
      "outputs": [
        {
          "output_type": "execute_result",
          "data": {
            "text/plain": [
              "614"
            ]
          },
          "metadata": {
            "tags": []
          },
          "execution_count": 34
        }
      ]
    },
    {
      "cell_type": "markdown",
      "metadata": {
        "_uuid": "23bf5801a119596164795a95cc6e1ed2942e1dab",
        "id": "tGzZqbH3FzR1"
      },
      "source": [
        "Size of Education variable : 614"
      ]
    },
    {
      "cell_type": "code",
      "metadata": {
        "trusted": true,
        "_uuid": "535edaeb4c1941d4b936d83c19860acfa2472a6b",
        "id": "cP8XePoTFzR3",
        "colab": {
          "base_uri": "https://localhost:8080/"
        },
        "outputId": "449f47da-fbf2-4e79-bc83-c4fcff89c670"
      },
      "source": [
        "train[\"Education\"].value_counts()"
      ],
      "execution_count": null,
      "outputs": [
        {
          "output_type": "execute_result",
          "data": {
            "text/plain": [
              "Graduate        480\n",
              "Not Graduate    134\n",
              "Name: Education, dtype: int64"
            ]
          },
          "metadata": {
            "tags": []
          },
          "execution_count": 35
        }
      ]
    },
    {
      "cell_type": "markdown",
      "metadata": {
        "_uuid": "c8b60ae414b444ac68b9535316c01b404badd6b9",
        "id": "HCLUT_ttFzSJ"
      },
      "source": [
        "People who are Graduated : 480\n",
        "\n",
        "People who are not Graduated : 134"
      ]
    },
    {
      "cell_type": "code",
      "metadata": {
        "trusted": true,
        "_uuid": "e4af36d23023c97b3a5d9d94347bb6a84a9cd2c0",
        "id": "D9IGcLtGFzSL",
        "colab": {
          "base_uri": "https://localhost:8080/"
        },
        "outputId": "09ce0ebb-9f9f-4650-960a-b84109b5f396"
      },
      "source": [
        "train[\"Education\"].value_counts(normalize=True)*100"
      ],
      "execution_count": null,
      "outputs": [
        {
          "output_type": "execute_result",
          "data": {
            "text/plain": [
              "Graduate        78.175896\n",
              "Not Graduate    21.824104\n",
              "Name: Education, dtype: float64"
            ]
          },
          "metadata": {
            "tags": []
          },
          "execution_count": 36
        }
      ]
    },
    {
      "cell_type": "code",
      "metadata": {
        "trusted": true,
        "_uuid": "e8f7a19ca48a78b23c25bf8a04a8ebf7e174e0e0",
        "id": "L_AOZzmnFzST",
        "colab": {
          "base_uri": "https://localhost:8080/"
        },
        "outputId": "cdc7f023-84fd-4b90-ae25-96e90bb8a436"
      },
      "source": [
        "train[\"Education\"].value_counts(normalize=True).plot.bar(title = \"Education\")"
      ],
      "execution_count": null,
      "outputs": [
        {
          "output_type": "execute_result",
          "data": {
            "text/plain": [
              "<matplotlib.axes._subplots.AxesSubplot at 0x7f1483535550>"
            ]
          },
          "metadata": {
            "tags": []
          },
          "execution_count": 37
        },
        {
          "output_type": "display_data",
          "data": {
            "image/png": "[encoded data removed]",
            "text/plain": [
              "<Figure size 432x288 with 1 Axes>"
            ]
          },
          "metadata": {
            "tags": [],
            "needs_background": "light"
          }
        }
      ]
    },
    {
      "cell_type": "markdown",
      "metadata": {
        "_uuid": "8de010f77bd6db55428ee0829bda484f96e6db60",
        "id": "VMcmaGl7FzSc"
      },
      "source": [
        "Total number of People : 614\n",
        "\n",
        "78% are Graduated and 22% are not Graduated"
      ]
    },
    {
      "cell_type": "markdown",
      "metadata": {
        "_uuid": "06020d0e583d1730ef7ca36551e096b9807a81ba",
        "id": "8VzK7Y8gFzSe"
      },
      "source": [
        "# Analysis on \"Property_Area\" variable :"
      ]
    },
    {
      "cell_type": "code",
      "metadata": {
        "trusted": true,
        "_uuid": "5473c754913bfd0f8ff7804e5a40dfe17a491d86",
        "id": "y8HB1tgbFzSj",
        "colab": {
          "base_uri": "https://localhost:8080/"
        },
        "outputId": "308436d4-ea77-4e6e-c8b6-a7b4072e5213"
      },
      "source": [
        "train[\"Property_Area\"].count()"
      ],
      "execution_count": null,
      "outputs": [
        {
          "output_type": "execute_result",
          "data": {
            "text/plain": [
              "614"
            ]
          },
          "metadata": {
            "tags": []
          },
          "execution_count": 38
        }
      ]
    },
    {
      "cell_type": "markdown",
      "metadata": {
        "_uuid": "296c42c65984ca1c06175c711ad5c3694ea4c455",
        "id": "iMkVjb4oFzSx"
      },
      "source": [
        "Size of \"Property_Area\" variable : 614"
      ]
    },
    {
      "cell_type": "code",
      "metadata": {
        "trusted": true,
        "_uuid": "b61cad840f8a1330ca24f0e16756f3f79c8be65c",
        "id": "kOvEIbPiFzSz",
        "colab": {
          "base_uri": "https://localhost:8080/"
        },
        "outputId": "e9d5fbce-65c1-4c9b-c71d-caf145492fbd"
      },
      "source": [
        "train[\"Property_Area\"].value_counts()"
      ],
      "execution_count": null,
      "outputs": [
        {
          "output_type": "execute_result",
          "data": {
            "text/plain": [
              "Semiurban    233\n",
              "Urban        202\n",
              "Rural        179\n",
              "Name: Property_Area, dtype: int64"
            ]
          },
          "metadata": {
            "tags": []
          },
          "execution_count": 39
        }
      ]
    },
    {
      "cell_type": "markdown",
      "metadata": {
        "_uuid": "9044cabdce191e13aa63d1339d0b315fdc523771",
        "id": "QFnRU3WdFzS8"
      },
      "source": [
        "Total number of People : 614\n",
        "\n",
        "People from Semiurban area : 233\n",
        "\n",
        "People from Urban area : 202\n",
        "\n",
        "People from Rural area : 179\n",
        "    "
      ]
    },
    {
      "cell_type": "code",
      "metadata": {
        "trusted": true,
        "_uuid": "dfd0daa2891f14cc82d2c621be68bb338d304606",
        "id": "Bdy7QkwDFzS9",
        "colab": {
          "base_uri": "https://localhost:8080/"
        },
        "outputId": "e33d0a15-8246-4e43-8e60-700383c2fb17"
      },
      "source": [
        "train[\"Property_Area\"].value_counts(normalize=True)*100"
      ],
      "execution_count": null,
      "outputs": [
        {
          "output_type": "execute_result",
          "data": {
            "text/plain": [
              "Semiurban    37.947883\n",
              "Urban        32.899023\n",
              "Rural        29.153094\n",
              "Name: Property_Area, dtype: float64"
            ]
          },
          "metadata": {
            "tags": []
          },
          "execution_count": 40
        }
      ]
    },
    {
      "cell_type": "code",
      "metadata": {
        "trusted": true,
        "_uuid": "6c6c8f8db1d22bd69fddfbf4b5fff47653a4107d",
        "id": "AW-9Uh14FzTe",
        "colab": {
          "base_uri": "https://localhost:8080/"
        },
        "outputId": "3466d050-3b94-4fb7-f13c-9ee0bb271cf2"
      },
      "source": [
        "train[\"Property_Area\"].value_counts(normalize=True).plot.bar(title=\"Property_Area\")"
      ],
      "execution_count": null,
      "outputs": [
        {
          "output_type": "execute_result",
          "data": {
            "text/plain": [
              "<matplotlib.axes._subplots.AxesSubplot at 0x7f1483520048>"
            ]
          },
          "metadata": {
            "tags": []
          },
          "execution_count": 41
        },
        {
          "output_type": "display_data",
          "data": {
            "image/png": "[encoded data removed]",
            "text/plain": [
              "<Figure size 432x288 with 1 Axes>"
            ]
          },
          "metadata": {
            "tags": [],
            "needs_background": "light"
          }
        }
      ]
    },
    {
      "cell_type": "markdown",
      "metadata": {
        "_uuid": "cad30f1e73cba001237ef4650e32c741afe71f10",
        "id": "gy2gEnLUFzTk"
      },
      "source": [
        "38% people from Semiurban area\n",
        "\n",
        "33% people from Urban area\n",
        "\n",
        "29% people from Rural area"
      ]
    },
    {
      "cell_type": "markdown",
      "metadata": {
        "_uuid": "93104b0a05058d336004556796adc9c16541dd63",
        "id": "zaibv4MDFzTm"
      },
      "source": [
        "# Independent Variable (Numerical)"
      ]
    },
    {
      "cell_type": "markdown",
      "metadata": {
        "_uuid": "6bd2476eee9e0665849d93385cb0f216f7bc7d04",
        "id": "CTUepKVVFzTn"
      },
      "source": [
        "Numerical features: These features have numerical values (ApplicantIncome, CoapplicantIncome, LoanAmount, Loan_Amount_Term)"
      ]
    },
    {
      "cell_type": "markdown",
      "metadata": {
        "_uuid": "bc5b58d7c735cd06d21450d06d5a605bf7b87f46",
        "id": "EH8Sf8UgFzTo"
      },
      "source": [
        "# \"ApplicantIncome\" distribution :"
      ]
    },
    {
      "cell_type": "code",
      "metadata": {
        "trusted": true,
        "_uuid": "f947095ee79ede803a415810675121087fef00ff",
        "id": "Ix-yuxUiFzTp",
        "colab": {
          "base_uri": "https://localhost:8080/"
        },
        "outputId": "2a49ecf5-8a5f-4b70-df45-dbcfeae9b4ac"
      },
      "source": [
        "plt.figure(1)\n",
        "plt.subplot(121)\n",
        "sns.distplot(train[\"ApplicantIncome\"]);\n",
        "\n",
        "plt.subplot(122)\n",
        "train[\"ApplicantIncome\"].plot.box(figsize=(16,5))\n",
        "plt.show()"
      ],
      "execution_count": null,
      "outputs": [
        {
          "output_type": "display_data",
          "data": {
            "image/png": "[encoded data removed]",
            "text/plain": [
              "<Figure size 1152x360 with 2 Axes>"
            ]
          },
          "metadata": {
            "tags": [],
            "needs_background": "light"
          }
        }
      ]
    },
    {
      "cell_type": "markdown",
      "metadata": {
        "_uuid": "8ffa5588a51db431a0610d3e8890c18c7c856d30",
        "id": "J-inIV5FFzTy"
      },
      "source": [
        "It can be inferred that most of the data in the distribution of applicant income is towards left which means it is not normally distributed. We will try to make it normal in later sections as algorithms works better if the data is normally distributed.\n",
        "\n",
        "The boxplot confirms the presence of a lot of outliers/extreme values. This can be attributed to the income disparity in the society."
      ]
    },
    {
      "cell_type": "markdown",
      "metadata": {
        "_uuid": "8689c62bad73da42141e36cb9fb9105ab822154b",
        "id": "eorLWSa0FzT0"
      },
      "source": [
        "Part of this can be driven by the fact that we are looking at people with different education levels. Let us segregate them by Education:"
      ]
    },
    {
      "cell_type": "code",
      "metadata": {
        "trusted": true,
        "_uuid": "f7de79199eeafef79d545d3f008e584b9cf213fb",
        "id": "g-w6CC7TFzT1",
        "colab": {
          "base_uri": "https://localhost:8080/"
        },
        "outputId": "9d0c4c98-c0b8-45fb-c344-0263db5c99e8"
      },
      "source": [
        "train.boxplot(column='ApplicantIncome',by=\"Education\" )\n",
        "plt.suptitle(\" \")\n",
        "plt.show()"
      ],
      "execution_count": null,
      "outputs": [
        {
          "output_type": "display_data",
          "data": {
            "image/png": "[encoded data removed]",
            "text/plain": [
              "<Figure size 432x288 with 1 Axes>"
            ]
          },
          "metadata": {
            "tags": [],
            "needs_background": "light"
          }
        }
      ]
    },
    {
      "cell_type": "markdown",
      "metadata": {
        "_uuid": "f20c2f3fff9c5e66cfb9d8021b21e317f1a0078a",
        "id": "7DY6HK2JFzT-"
      },
      "source": [
        "We can see that there are a higher number of graduates with very high incomes, which are appearing to be the outliers."
      ]
    },
    {
      "cell_type": "markdown",
      "metadata": {
        "_uuid": "88fab85ad99dad708c91fbf16ca80ac51ce21f6d",
        "id": "hcvsDMBNFzT_"
      },
      "source": [
        "# Let’s look at the \"CoapplicantIncome\" distribution:\n"
      ]
    },
    {
      "cell_type": "code",
      "metadata": {
        "scrolled": true,
        "trusted": true,
        "_uuid": "78ceae0bb3459a3baf7b94d2886d10e1da3e349a",
        "id": "jPjL2fEWFzUA",
        "colab": {
          "base_uri": "https://localhost:8080/"
        },
        "outputId": "1fe2eb80-a9b6-4191-8f4c-24ec6a2a5d8e"
      },
      "source": [
        "plt.figure(1)\n",
        "plt.subplot(121)\n",
        "sns.distplot(train[\"CoapplicantIncome\"]);\n",
        "\n",
        "plt.subplot(122)\n",
        "train[\"CoapplicantIncome\"].plot.box(figsize=(16,5))\n",
        "plt.show()"
      ],
      "execution_count": null,
      "outputs": [
        {
          "output_type": "display_data",
          "data": {
            "image/png": "[encoded data removed]",
            "text/plain": [
              "<Figure size 1152x360 with 2 Axes>"
            ]
          },
          "metadata": {
            "tags": [],
            "needs_background": "light"
          }
        }
      ]
    },
    {
      "cell_type": "markdown",
      "metadata": {
        "_uuid": "6c3886f52129e84b9a6e3aba1f8b922e28da14b6",
        "id": "0bUiVRLPFzUH"
      },
      "source": [
        "We see a similar distribution as that of the applicant income. Majority of coapplicant’s income ranges from 0 to 5000. We also see a lot of outliers in the coapplicant income and it is not normally distributed."
      ]
    },
    {
      "cell_type": "markdown",
      "metadata": {
        "_uuid": "09024ce0065d29398cdb4eafea33990ef1e686da",
        "id": "38jl4ILWFzUI"
      },
      "source": [
        "# Let’s look at the distribution of \"LoanAmount\" variable :"
      ]
    },
    {
      "cell_type": "code",
      "metadata": {
        "trusted": true,
        "_uuid": "5948a1968c78125a467ca71cd05fb3cb1cf1dba0",
        "id": "-hze1sdUFzUK",
        "colab": {
          "base_uri": "https://localhost:8080/"
        },
        "outputId": "c19a788b-876e-4530-8503-ceeb148441df"
      },
      "source": [
        "plt.figure(1)\n",
        "plt.subplot(121)\n",
        "df=train.dropna()\n",
        "sns.distplot(df['LoanAmount']);\n",
        "\n",
        "plt.subplot(122)\n",
        "train['LoanAmount'].plot.box(figsize=(16,5))\n",
        "\n",
        "plt.show()"
      ],
      "execution_count": null,
      "outputs": [
        {
          "output_type": "display_data",
          "data": {
            "image/png": "[encoded data removed]",
            "text/plain": [
              "<Figure size 1152x360 with 2 Axes>"
            ]
          },
          "metadata": {
            "tags": [],
            "needs_background": "light"
          }
        }
      ]
    },
    {
      "cell_type": "markdown",
      "metadata": {
        "_uuid": "331754993368ad6e09084e855f0dd3ea17c78670",
        "id": "UUt90SOPFzUR"
      },
      "source": [
        "We see a lot of outliers in this variable and the distribution is fairly normal. We will treat the outliers in later sections."
      ]
    },
    {
      "cell_type": "markdown",
      "metadata": {
        "_uuid": "cbc26856fe8e26a664b5e5a2ceb7fecc0c4dca03",
        "id": "jMUgE0zkFzUT"
      },
      "source": [
        "# distribution of \"LoanAmountTerm\" variable :"
      ]
    },
    {
      "cell_type": "code",
      "metadata": {
        "trusted": true,
        "_uuid": "c393db36719526292ab83ec64e2a3764b45ef374",
        "id": "zEOWcRQDFzUV",
        "colab": {
          "base_uri": "https://localhost:8080/"
        },
        "outputId": "b0558101-1438-4f29-9fd0-609678b6d148"
      },
      "source": [
        "plt.figure(1)\n",
        "plt.subplot(121)\n",
        "df = train.dropna()\n",
        "sns.distplot(df[\"Loan_Amount_Term\"]);\n",
        "\n",
        "plt.subplot(122)\n",
        "df[\"Loan_Amount_Term\"].plot.box(figsize=(16,5))\n",
        "plt.show()"
      ],
      "execution_count": null,
      "outputs": [
        {
          "output_type": "display_data",
          "data": {
            "image/png": "[encoded data removed]",
            "text/plain": [
              "<Figure size 1152x360 with 2 Axes>"
            ]
          },
          "metadata": {
            "tags": [],
            "needs_background": "light"
          }
        }
      ]
    },
    {
      "cell_type": "markdown",
      "metadata": {
        "_uuid": "c92abb1f4e6d692e772303d391a302702c8a486c",
        "id": "0npK-ctyFzUd"
      },
      "source": [
        "We see a lot of outliers in this variable and the distribution is fairly normal. We will treat the outliers in later sections."
      ]
    },
    {
      "cell_type": "markdown",
      "metadata": {
        "collapsed": true,
        "_uuid": "f02af0b1471d625bed93a15e8cea76994cf34f59",
        "id": "G4KKTazDFzUe"
      },
      "source": [
        "# Bivariate Analysis"
      ]
    },
    {
      "cell_type": "markdown",
      "metadata": {
        "_uuid": "5400ee8a7482f297559b982d3af2ed3deccd585b",
        "id": "oRxR6Ir1FzUh"
      },
      "source": [
        "Lets recall some of the hypotheses that we generated earlier:"
      ]
    },
    {
      "cell_type": "markdown",
      "metadata": {
        "_uuid": "f078f6348612d77182848563b42fe97423004c51",
        "id": "-UCIvfKeFzUi"
      },
      "source": [
        "i)Applicants with high income should have more chances of loan approval.\n",
        "\n",
        "ii)Applicants who have repaid their previous debts should have higher chances of loan approval.\n",
        "\n",
        "iii)Loan approval should also depend on the loan amount. If the loan amount is less, chances of loan approval should be high.\n",
        "\n",
        "iv)Lesser the amount to be paid monthly to repay the loan, higher the chances of loan approval."
      ]
    },
    {
      "cell_type": "markdown",
      "metadata": {
        "_uuid": "60ae1ecd137748a7fcb6627781441c6404eb6c3f",
        "id": "YvaHiFnZFzUj"
      },
      "source": [
        "Lets try to test the above mentioned hypotheses using bivariate analysis."
      ]
    },
    {
      "cell_type": "markdown",
      "metadata": {
        "_uuid": "c762c9b17432c8cbe05566cd5e2eac362fd6d856",
        "id": "2KTpCX3eFzUk"
      },
      "source": [
        "After looking at every variable individually in univariate analysis, we will now explore them again with respect to the target variable."
      ]
    },
    {
      "cell_type": "markdown",
      "metadata": {
        "_uuid": "57a6fdfba8cfc73650d87aa9873395fba137933d",
        "id": "2cXzeYoeFzUl"
      },
      "source": [
        "# Categorical Independent Variable vs Target Variable"
      ]
    },
    {
      "cell_type": "markdown",
      "metadata": {
        "_uuid": "f3267971565c2a5e70456632a044db71006b429e",
        "id": "utBnfg2hFzUn"
      },
      "source": [
        "First of all we will find the relation between target variable and categorical independent variables. Let us look at the stacked bar plot now which will give us the proportion of approved and unapproved loans."
      ]
    },
    {
      "cell_type": "markdown",
      "metadata": {
        "_uuid": "3b1958af136fbe44c4ab702d5b2213e66ab15f87",
        "id": "lvjyiWwcFzUo"
      },
      "source": [
        "# Relation between \"Loan_Status\" and \"Gender\""
      ]
    },
    {
      "cell_type": "code",
      "metadata": {
        "trusted": true,
        "_uuid": "f08f2c5054589c63eb3ac5c492140e53518aa051",
        "id": "TSbp33hnFzUp",
        "colab": {
          "base_uri": "https://localhost:8080/"
        },
        "outputId": "77e9ce79-051d-4efe-f2ee-bbb0eb4e7d2a"
      },
      "source": [
        "print(pd.crosstab(train[\"Gender\"],train[\"Loan_Status\"]))\n",
        "Gender = pd.crosstab(train[\"Gender\"],train[\"Loan_Status\"])\n",
        "Gender.div(Gender.sum(1).astype(float),axis=0).plot(kind=\"bar\",stacked=True,figsize=(4,4))\n",
        "plt.xlabel(\"Gender\")\n",
        "plt.ylabel(\"Percentage\")\n",
        "plt.show()"
      ],
      "execution_count": null,
      "outputs": [
        {
          "output_type": "stream",
          "text": [
            "Loan_Status    N    Y\n",
            "Gender               \n",
            "Female        37   75\n",
            "Male         150  339\n"
          ],
          "name": "stdout"
        },
        {
          "output_type": "display_data",
          "data": {
            "image/png": "[encoded data removed]",
            "text/plain": [
              "<Figure size 288x288 with 1 Axes>"
            ]
          },
          "metadata": {
            "tags": [],
            "needs_background": "light"
          }
        }
      ]
    },
    {
      "cell_type": "markdown",
      "metadata": {
        "_uuid": "b6ca4bbea9bd0071eae52fc4bdfff95cdea66835",
        "id": "eNIyIIcWFzUv"
      },
      "source": [
        "Number of Female whose Loan was approed : 75\n",
        "\n",
        "Number of Male whose Loan was approed : 339\n",
        "\n",
        "Number of Female whose Loan was not approed : 37\n",
        "\n",
        "Number of Male whose Loan was not approed : 150\n",
        "\n",
        "Proportion of Male applicants is higher for the approved loans."
      ]
    },
    {
      "cell_type": "markdown",
      "metadata": {
        "_uuid": "6ade553afd44ea3ddbc3ded73c06ebf83a1a7559",
        "id": "K5zYn1mOFzUw"
      },
      "source": [
        "# Relation between \"Loan_Status\" and \"Married\""
      ]
    },
    {
      "cell_type": "code",
      "metadata": {
        "trusted": true,
        "_uuid": "1749de913d87fed68a9c8631abc1cfef0af7afc9",
        "id": "7MavgkOLFzUx",
        "colab": {
          "base_uri": "https://localhost:8080/"
        },
        "outputId": "490c09fc-9be9-4c28-9516-bff700ed5e6a"
      },
      "source": [
        "print(pd.crosstab(train[\"Married\"],train[\"Loan_Status\"]))\n",
        "Married=pd.crosstab(train[\"Married\"],train[\"Loan_Status\"])\n",
        "Married.div(Married.sum(1).astype(float),axis=0).plot(kind=\"bar\",stacked=True,figsize=(4,4))\n",
        "plt.xlabel(\"Married\")\n",
        "plt.ylabel(\"Percentage\")\n",
        "plt.show()"
      ],
      "execution_count": null,
      "outputs": [
        {
          "output_type": "stream",
          "text": [
            "Loan_Status    N    Y\n",
            "Married              \n",
            "No            79  134\n",
            "Yes          113  285\n"
          ],
          "name": "stdout"
        },
        {
          "output_type": "display_data",
          "data": {
            "image/png": "[encoded data removed]",
            "text/plain": [
              "<Figure size 288x288 with 1 Axes>"
            ]
          },
          "metadata": {
            "tags": [],
            "needs_background": "light"
          }
        }
      ]
    },
    {
      "cell_type": "markdown",
      "metadata": {
        "_uuid": "dc90ed3a4f11586e285b4bd0d6fd54de8ab49927",
        "id": "3NdBe_k_FzU3"
      },
      "source": [
        "Number of married people whose Loan was approed : 285\n",
        "\n",
        "Number of married people whose Loan was not approed : 113\n",
        "\n",
        "Number of unmarried people whose Loan was approed : 134\n",
        "\n",
        "Number of unmarried people whose Loan was not approed : 79\n",
        "\n",
        "Proportion of Married applicants is higher for the approved loans."
      ]
    },
    {
      "cell_type": "markdown",
      "metadata": {
        "_uuid": "ab7bad7faa28d7033cc39cd885be07c275f0dbe2",
        "id": "2QlJnpx7FzU4"
      },
      "source": [
        "# Relation between \"Loan_Status\" and \"Dependents\""
      ]
    },
    {
      "cell_type": "code",
      "metadata": {
        "trusted": true,
        "_uuid": "0bf88f9f09f98b1611fba3fa00b14f6ca7659f80",
        "id": "uHpLaSpiFzU5",
        "colab": {
          "base_uri": "https://localhost:8080/"
        },
        "outputId": "06205a20-4766-4451-c683-78196c32f7e4"
      },
      "source": [
        "print(pd.crosstab(train['Dependents'],train[\"Loan_Status\"]))\n",
        "Dependents = pd.crosstab(train['Dependents'],train[\"Loan_Status\"])\n",
        "Dependents.div(Dependents.sum(1).astype(float),axis=0).plot(kind=\"bar\",stacked=True,figsize=(4,4))\n",
        "plt.xlabel(\"Dependents\")\n",
        "plt.ylabel(\"Percentage\")\n",
        "plt.show()"
      ],
      "execution_count": null,
      "outputs": [
        {
          "output_type": "stream",
          "text": [
            "Loan_Status    N    Y\n",
            "Dependents           \n",
            "0            107  238\n",
            "1             36   66\n",
            "2             25   76\n",
            "3+            18   33\n"
          ],
          "name": "stdout"
        },
        {
          "output_type": "display_data",
          "data": {
            "image/png": "[encoded data removed]",
            "text/plain": [
              "<Figure size 288x288 with 1 Axes>"
            ]
          },
          "metadata": {
            "tags": [],
            "needs_background": "light"
          }
        }
      ]
    },
    {
      "cell_type": "markdown",
      "metadata": {
        "_uuid": "2d60fc0ddb8c66a0f62e0893a0da0d97d6c06851",
        "id": "yPiwnriuFzU_"
      },
      "source": [
        "Number of dependents on the loan applicant : 0  and Loan was approed : 238\n",
        "\n",
        "Number of dependents on the loan applicant : 0  and Loan was not approed : 107\n",
        "\n",
        "Number of dependents on the loan applicant : 1  and Loan was approed : 66\n",
        "\n",
        "Number of dependents on the loan applicant : 1  and Loan was not approed : 36\n",
        "\n",
        "Number of dependents on the loan applicant : 2  and Loan was approed : 76\n",
        "\n",
        "Number of dependents on the loan applicant : 2  and Loan was not approed : 25\n",
        "\n",
        "Number of dependents on the loan applicant : 3+  and Loan was approed : 33\n",
        "\n",
        "Number of dependents on the loan applicant : 3+  and Loan was not approed : 18\n",
        "\n",
        "Distribution of applicants with 1 or 3+ dependents is similar across both the categories of Loan_Status."
      ]
    },
    {
      "cell_type": "markdown",
      "metadata": {
        "_uuid": "f332993c8025970b16bf1e451d96cc8764e5be02",
        "id": "hY4VC_WIFzVA"
      },
      "source": [
        "# Relation between \"Loan_Status\" and \"Education\""
      ]
    },
    {
      "cell_type": "code",
      "metadata": {
        "trusted": true,
        "_uuid": "20a72ae2ad187da86306df67e23c738efcb9878e",
        "id": "bCS2elQwFzVB",
        "colab": {
          "base_uri": "https://localhost:8080/"
        },
        "outputId": "e045ebe1-655c-437d-fbb9-1d9a59858391"
      },
      "source": [
        "print(pd.crosstab(train[\"Education\"],train[\"Loan_Status\"]))\n",
        "Education = pd.crosstab(train[\"Education\"],train[\"Loan_Status\"])\n",
        "Education.div(Education.sum(1).astype(float),axis=0).plot(kind=\"bar\",stacked=True,figsize=(4,4))\n",
        "plt.xlabel(\"Education\")\n",
        "plt.ylabel(\"Percentage\")\n",
        "plt.show()"
      ],
      "execution_count": null,
      "outputs": [
        {
          "output_type": "stream",
          "text": [
            "Loan_Status     N    Y\n",
            "Education             \n",
            "Graduate      140  340\n",
            "Not Graduate   52   82\n"
          ],
          "name": "stdout"
        },
        {
          "output_type": "display_data",
          "data": {
            "image/png": "[encoded data removed]",
            "text/plain": [
              "<Figure size 288x288 with 1 Axes>"
            ]
          },
          "metadata": {
            "tags": [],
            "needs_background": "light"
          }
        }
      ]
    },
    {
      "cell_type": "markdown",
      "metadata": {
        "_uuid": "a3c9106528e2501ba6f14779ecf9d5869b2a1cef",
        "id": "S9ZIyr9CFzVH"
      },
      "source": [
        "Number of people who are Graduate and Loan was approed : 340\n",
        "\n",
        "Number of people who are Graduate and Loan was no approed : 140\n",
        "\n",
        "Number of people who are Not Graduate and Loan was approed : 82\n",
        "\n",
        "Number of people who are Not Graduate and Loan was not approed : 52\n",
        "\n",
        "Proportion of Graduate applicants is higher for the approved loans.\n"
      ]
    },
    {
      "cell_type": "markdown",
      "metadata": {
        "_uuid": "ad20e92d7c7c9020018c8d9762f8cb0815e3de3c",
        "id": "QCxObVs9FzVI"
      },
      "source": [
        "# Relation between \"Loan_Status\" and \"Self_Employed\""
      ]
    },
    {
      "cell_type": "code",
      "metadata": {
        "trusted": true,
        "_uuid": "e78c865b29ccfd76eb0c72c7f7799526b13d4aa4",
        "id": "MviFHTD8FzVJ",
        "colab": {
          "base_uri": "https://localhost:8080/"
        },
        "outputId": "8fbea0dd-5330-42c5-e1ab-712042c649f8"
      },
      "source": [
        "print(pd.crosstab(train[\"Self_Employed\"],train[\"Loan_Status\"]))\n",
        "SelfEmployed = pd.crosstab(train[\"Self_Employed\"],train[\"Loan_Status\"])\n",
        "SelfEmployed.div(SelfEmployed.sum(1).astype(float),axis=0).plot(kind=\"bar\",stacked=True,figsize=(4,4))\n",
        "plt.xlabel(\"Self_Employed\")\n",
        "plt.ylabel(\"Percentage\")\n",
        "plt.show()"
      ],
      "execution_count": null,
      "outputs": [
        {
          "output_type": "stream",
          "text": [
            "Loan_Status      N    Y\n",
            "Self_Employed          \n",
            "No             157  343\n",
            "Yes             26   56\n"
          ],
          "name": "stdout"
        },
        {
          "output_type": "display_data",
          "data": {
            "image/png": "[encoded data removed]",
            "text/plain": [
              "<Figure size 288x288 with 1 Axes>"
            ]
          },
          "metadata": {
            "tags": [],
            "needs_background": "light"
          }
        }
      ]
    },
    {
      "cell_type": "markdown",
      "metadata": {
        "_uuid": "a2915397b5e7250e09e02600c9594957deafa6d5",
        "id": "hAsNp3XaFzVO"
      },
      "source": [
        "People who are Self_Employed and Loan was approed : 56\n",
        "\n",
        "People who are Self_Employed and Loan was not approed : 26\n",
        "\n",
        "People who are not Self_Employed and Loan was approed : 343\n",
        "\n",
        "People who are not Self_Employed and Loan was not approed : 157\n",
        "\n",
        "There is nothing significant we can infer from Self_Employed vs Loan_Status plot."
      ]
    },
    {
      "cell_type": "markdown",
      "metadata": {
        "_uuid": "71fda39d4bc8b179db78a42de7951392b61e5a4c",
        "id": "4VTMW-PLFzVP"
      },
      "source": [
        "# Relation between \"Loan_Status\" and \"Credit_History\""
      ]
    },
    {
      "cell_type": "code",
      "metadata": {
        "trusted": true,
        "_uuid": "1b70c061e794a7d3331f44b6d83408103bf959dd",
        "id": "oByfTKreFzVQ",
        "colab": {
          "base_uri": "https://localhost:8080/"
        },
        "outputId": "798a73b1-62f7-4b60-f925-d629fa6436d7"
      },
      "source": [
        "print(pd.crosstab(train[\"Credit_History\"],train[\"Loan_Status\"]))\n",
        "CreditHistory = pd.crosstab(train[\"Credit_History\"],train[\"Loan_Status\"])\n",
        "CreditHistory.div(CreditHistory.sum(1).astype(float),axis=0).plot(kind=\"bar\",stacked=True,figsize=(4,4))\n",
        "plt.xlabel(\"Credit_History\")\n",
        "plt.ylabel(\"Percentage\")\n",
        "plt.show()"
      ],
      "execution_count": null,
      "outputs": [
        {
          "output_type": "stream",
          "text": [
            "Loan_Status      N    Y\n",
            "Credit_History         \n",
            "0.0             82    7\n",
            "1.0             97  378\n"
          ],
          "name": "stdout"
        },
        {
          "output_type": "display_data",
          "data": {
            "image/png": "[encoded data removed]",
            "text/plain": [
              "<Figure size 288x288 with 1 Axes>"
            ]
          },
          "metadata": {
            "tags": [],
            "needs_background": "light"
          }
        }
      ]
    },
    {
      "cell_type": "markdown",
      "metadata": {
        "_uuid": "7b52face0dd82195454b1f3588f0d6666316191f",
        "id": "YZp7Gt8cFzVh"
      },
      "source": [
        "People with credit history as 1 and loan was approved : 378\n",
        "\n",
        "People with credit history as 1 and loan was not approved : 97\n",
        "\n",
        "People with credit history as 0 and loan was approved : 7\n",
        "\n",
        "People with credit history as 0 and loan was not approved : 82\n",
        "\n",
        "It seems people with credit history as 1 are more likely to get their loans approved."
      ]
    },
    {
      "cell_type": "markdown",
      "metadata": {
        "_uuid": "72de98e2d3e750590839aa2c4298b777a05f90a8",
        "id": "_x6G1eCbFzVi"
      },
      "source": [
        "# Relation between \"Loan_Status\" and \"Property_Area\""
      ]
    },
    {
      "cell_type": "code",
      "metadata": {
        "trusted": true,
        "_uuid": "76ae79669bd2b4feea9feba66d096d0c88be6372",
        "id": "SZHlJS-hFzVj",
        "colab": {
          "base_uri": "https://localhost:8080/"
        },
        "outputId": "6f6b58f5-accb-41b2-e8a2-6b0a9628770c"
      },
      "source": [
        "print(pd.crosstab(train[\"Property_Area\"],train[\"Loan_Status\"]))\n",
        "PropertyArea = pd.crosstab(train[\"Property_Area\"],train[\"Loan_Status\"])\n",
        "PropertyArea.div(PropertyArea.sum(1).astype(float),axis=0).plot(kind=\"bar\",stacked=True,figsize=(4,4))\n",
        "plt.xlabel(\"Property_Area\")\n",
        "plt.ylabel(\"Loan_Status\")\n",
        "plt.show()"
      ],
      "execution_count": null,
      "outputs": [
        {
          "output_type": "stream",
          "text": [
            "Loan_Status     N    Y\n",
            "Property_Area         \n",
            "Rural          69  110\n",
            "Semiurban      54  179\n",
            "Urban          69  133\n"
          ],
          "name": "stdout"
        },
        {
          "output_type": "display_data",
          "data": {
            "image/png": "[encoded data removed]",
            "text/plain": [
              "<Figure size 288x288 with 1 Axes>"
            ]
          },
          "metadata": {
            "tags": [],
            "needs_background": "light"
          }
        }
      ]
    },
    {
      "cell_type": "markdown",
      "metadata": {
        "_uuid": "e1c5b1fc8e99740c9a02c8df0fadc292533c94f5",
        "id": "8HnlsDKsFzVp"
      },
      "source": [
        "People who are from Rural area and loan was approved : 110\n",
        "\n",
        "People who are from Rural area and loan was not approved : 69\n",
        "\n",
        "People who are from Semiurban area and loan was approved : 179\n",
        "\n",
        "People who are from Semiurban area and loan was not approved : 54\n",
        "\n",
        "People who are from Urban area and loan was approved : 133\n",
        "\n",
        "People who are from Semiurban area and loan was not approved : 69\n",
        "\n",
        "Proportion of loans getting approved in semiurban area is higher as compared to that in rural or urban areas."
      ]
    },
    {
      "cell_type": "markdown",
      "metadata": {
        "_uuid": "2580c98dec55229e437160afe633093528f8a7a0",
        "id": "ugi07FpQFzVq"
      },
      "source": [
        "# Numerical Independent Variable vs Target Variable"
      ]
    },
    {
      "cell_type": "markdown",
      "metadata": {
        "_uuid": "29a0804ed130c97fe8eb00592ab131d30bfc0c16",
        "id": "nVEN7G55FzVv"
      },
      "source": [
        "# Relation between \"Loan_Status\" and \"Income\""
      ]
    },
    {
      "cell_type": "markdown",
      "metadata": {
        "_uuid": "1f2ef9186de6e39d2685b9ee92edb2879825ed11",
        "id": "Jv7cLlhFFzVw"
      },
      "source": [
        "We will try to find the mean income of people for which the loan has been approved vs the mean income of people for which the loan has not been approved."
      ]
    },
    {
      "cell_type": "code",
      "metadata": {
        "trusted": true,
        "_uuid": "e45c4ab0b708d67de708b9af4c5df9baab34efb4",
        "id": "aSQ2LM2jFzVx",
        "colab": {
          "base_uri": "https://localhost:8080/"
        },
        "outputId": "ec90a14e-eeec-4196-948a-bf71ac5c7280"
      },
      "source": [
        "train.groupby(\"Loan_Status\")['ApplicantIncome'].mean().plot.bar()"
      ],
      "execution_count": null,
      "outputs": [
        {
          "output_type": "execute_result",
          "data": {
            "text/plain": [
              "<matplotlib.axes._subplots.AxesSubplot at 0x7f148347a780>"
            ]
          },
          "metadata": {
            "tags": []
          },
          "execution_count": 54
        },
        {
          "output_type": "display_data",
          "data": {
            "image/png": "[encoded data removed]",
            "text/plain": [
              "<Figure size 432x288 with 1 Axes>"
            ]
          },
          "metadata": {
            "tags": [],
            "needs_background": "light"
          }
        }
      ]
    },
    {
      "cell_type": "markdown",
      "metadata": {
        "_uuid": "d6a67d71cf240bb589609fe504947d26d4561dbd",
        "id": "ayupTpIHFzV5"
      },
      "source": [
        "Here the y-axis represents the mean applicant income. We don’t see any change in the mean income.\n",
        "So, let’s make bins for the applicant income variable based on the values in it and analyze the corresponding loan status for each bin."
      ]
    },
    {
      "cell_type": "code",
      "metadata": {
        "trusted": true,
        "_uuid": "ef1c27d89ba1a897bd5a7aad82a95c7f3ccb3df0",
        "id": "oUr0k-aAFzV6"
      },
      "source": [
        "bins=[0,2500,4000,6000,81000]\n",
        "group=['Low','Average','High', 'Very high']\n",
        "train['Income_bin']=pd.cut(df['ApplicantIncome'],bins,labels=group)\n"
      ],
      "execution_count": null,
      "outputs": []
    },
    {
      "cell_type": "code",
      "metadata": {
        "trusted": true,
        "_uuid": "30bc0e509468d9a7390bce42ac69a1f8109e05b5",
        "id": "LTv3-_IsFzWD",
        "colab": {
          "base_uri": "https://localhost:8080/"
        },
        "outputId": "240076c9-1a5a-46d3-9fb2-9cb22aa36128"
      },
      "source": [
        "print(pd.crosstab(train[\"Income_bin\"],train[\"Loan_Status\"]))\n",
        "Income_bin = pd.crosstab(train[\"Income_bin\"],train[\"Loan_Status\"])\n",
        "Income_bin.div(Income_bin.sum(1).astype(float),axis=0).plot(kind=\"bar\",stacked=True,figsize=(4,4))\n",
        "plt.xlabel(\"ApplicantIncome\")\n",
        "plt.ylabel(\"Percentage\")\n",
        "plt.show()"
      ],
      "execution_count": null,
      "outputs": [
        {
          "output_type": "stream",
          "text": [
            "Loan_Status   N    Y\n",
            "Income_bin          \n",
            "Low          26   57\n",
            "Average      51  123\n",
            "High         32   79\n",
            "Very high    39   73\n"
          ],
          "name": "stdout"
        },
        {
          "output_type": "display_data",
          "data": {
            "image/png": "[encoded data removed]",
            "text/plain": [
              "<Figure size 288x288 with 1 Axes>"
            ]
          },
          "metadata": {
            "tags": [],
            "needs_background": "light"
          }
        }
      ]
    },
    {
      "cell_type": "markdown",
      "metadata": {
        "_uuid": "d6a2ea8f9f7e1575eada043928d299c4e89ac007",
        "id": "LzOx9uuvFzWT"
      },
      "source": [
        "It can be inferred that Applicant income does not affect the chances of loan approval which contradicts our hypothesis in which we assumed that if the applicant income is high the chances of loan approval will also be high."
      ]
    },
    {
      "cell_type": "markdown",
      "metadata": {
        "_uuid": "27724a727f13859a6b3ea416393a1c43c43f50ed",
        "id": "U1mcwr4JFzWU"
      },
      "source": [
        "We will analyze the coapplicant income and loan amount variable in similar way."
      ]
    },
    {
      "cell_type": "code",
      "metadata": {
        "trusted": true,
        "_uuid": "483fd6aed8a8c669ee3e864b42d7c6e7970e0bbb",
        "id": "cv__RLB4FzWW"
      },
      "source": [
        "bins=[0,1000,3000,42000]\n",
        "group =['Low','Average','High']\n",
        "train['CoapplicantIncome_bin']=pd.cut(df[\"CoapplicantIncome\"],bins,labels=group)"
      ],
      "execution_count": null,
      "outputs": []
    },
    {
      "cell_type": "code",
      "metadata": {
        "trusted": true,
        "_uuid": "31e62f58910db5b3b5d2230eaf3ef372afb61b10",
        "id": "z5MaSI1hFzWb",
        "colab": {
          "base_uri": "https://localhost:8080/"
        },
        "outputId": "f9bae981-7f85-422c-a849-e811877bd5a9"
      },
      "source": [
        "print(pd.crosstab(train[\"CoapplicantIncome_bin\"],train[\"Loan_Status\"]))\n",
        "CoapplicantIncome_Bin = pd.crosstab(train[\"CoapplicantIncome_bin\"],train[\"Loan_Status\"])\n",
        "CoapplicantIncome_Bin.div(CoapplicantIncome_Bin.sum(1).astype(float),axis=0).plot(kind='bar',stacked=True,figsize=(4,4))\n",
        "plt.xlabel(\"CoapplicantIncome\")\n",
        "plt.ylabel(\"Percentage\")\n",
        "plt.show()"
      ],
      "execution_count": null,
      "outputs": [
        {
          "output_type": "stream",
          "text": [
            "Loan_Status             N    Y\n",
            "CoapplicantIncome_bin         \n",
            "Low                     3   15\n",
            "Average                46  123\n",
            "High                   24   53\n"
          ],
          "name": "stdout"
        },
        {
          "output_type": "display_data",
          "data": {
            "image/png": "[encoded data removed]",
            "text/plain": [
              "<Figure size 288x288 with 1 Axes>"
            ]
          },
          "metadata": {
            "tags": [],
            "needs_background": "light"
          }
        }
      ]
    },
    {
      "cell_type": "markdown",
      "metadata": {
        "_uuid": "e14f607b2bf538c130b796fc053c44cd9980ce7f",
        "id": "CA4W7nsDFzWl"
      },
      "source": [
        "It shows that if coapplicant’s income is less the chances of loan approval are high. But this does not look right. The possible reason behind this may be that most of the applicants don’t have any coapplicant so the coapplicant income for such applicants is 0 and hence the loan approval is not dependent on it. So we can make a new variable in which we will combine the applicant’s and coapplicant’s income to visualize the combined effect of income on loan approval."
      ]
    },
    {
      "cell_type": "code",
      "metadata": {
        "trusted": true,
        "_uuid": "73961afc9809f827800960fc1f7367d5036ffb42",
        "id": "Dw4a7UGHFzWm"
      },
      "source": [
        "train[\"TotalIncome\"]=train[\"ApplicantIncome\"]+train[\"CoapplicantIncome\"]"
      ],
      "execution_count": null,
      "outputs": []
    },
    {
      "cell_type": "code",
      "metadata": {
        "trusted": true,
        "_uuid": "c7728515c3cd6b5e1331d5b1a32be4bbbaaf1e0b",
        "id": "mOeh3L2tFzWu"
      },
      "source": [
        "bins =[0,2500,4000,6000,81000]\n",
        "group=['Low','Average','High','Very High']\n",
        "train[\"TotalIncome_bin\"]=pd.cut(train[\"TotalIncome\"],bins,labels=group)"
      ],
      "execution_count": null,
      "outputs": []
    },
    {
      "cell_type": "code",
      "metadata": {
        "scrolled": true,
        "trusted": true,
        "_uuid": "bcb2e258ff189b60740e01266667b3639072bb7c",
        "id": "8YJhLaApFzW0",
        "colab": {
          "base_uri": "https://localhost:8080/"
        },
        "outputId": "15d1e807-9a80-422a-8204-e455092d3e56"
      },
      "source": [
        "print(pd.crosstab(train[\"TotalIncome_bin\"],train[\"Loan_Status\"]))\n",
        "TotalIncome = pd.crosstab(train[\"TotalIncome_bin\"],train[\"Loan_Status\"])\n",
        "TotalIncome.div(TotalIncome.sum(1).astype(float),axis=0).plot(kind='bar',stacked=True,figsize=(2,2))\n",
        "plt.xlabel(\"TotalIncome\")\n",
        "plt.ylabel(\"Percentage\")\n",
        "plt.show()"
      ],
      "execution_count": null,
      "outputs": [
        {
          "output_type": "stream",
          "text": [
            "Loan_Status       N    Y\n",
            "TotalIncome_bin         \n",
            "Low              14   10\n",
            "Average          32   87\n",
            "High             65  159\n",
            "Very High        81  166\n"
          ],
          "name": "stdout"
        },
        {
          "output_type": "display_data",
          "data": {
            "image/png": "[encoded data removed]",
            "text/plain": [
              "<Figure size 144x144 with 1 Axes>"
            ]
          },
          "metadata": {
            "tags": [],
            "needs_background": "light"
          }
        }
      ]
    },
    {
      "cell_type": "markdown",
      "metadata": {
        "_uuid": "1fccaa94a96e852360e4f8a255e3dd7a19f42de1",
        "id": "gtGH4l4TFzW5"
      },
      "source": [
        "Whose TotalIncome was Low and loan was approved : 10\n",
        "\n",
        "Whose TotalIncome was Low and loan was not approved : 14\n",
        "\n",
        "Whose TotalIncome was Aerage and loan was apprvoed : 87\n",
        "\n",
        "Whose TotalIncome was Average and loan was not approved : 32\n",
        "\n",
        "Whose TotalIncome was High and loan was approved : 159\n",
        "\n",
        "Whose TotalIncome was High and loan was not approved : 65\n",
        "\n",
        "Whose TotalIncome was Very High and loan was approved : 166\n",
        "\n",
        "Whose TotalIncome was Very High and loan was not approed : 81\n",
        "\n",
        "We can see that Proportion of loans getting approved for applicants having low Total_Income is very less as compared to that of applicants with Average, High and Very High Income."
      ]
    },
    {
      "cell_type": "markdown",
      "metadata": {
        "_uuid": "3e6c02840914d1f82ebbf3d5e4f46fe25ed9d24e",
        "id": "8Rqik741FzW8"
      },
      "source": [
        "# Relation between \"Loan_Status\" and \"Loan Amount\""
      ]
    },
    {
      "cell_type": "code",
      "metadata": {
        "trusted": true,
        "_uuid": "3ada6e2180487fd221049a81c00355f8a5ff08d3",
        "id": "-88Zv0TUFzW9"
      },
      "source": [
        "bins = [0,100,200,700]\n",
        "group=['Low','Average','High']\n",
        "train[\"LoanAmount_bin\"]=pd.cut(df[\"LoanAmount\"],bins,labels=group)"
      ],
      "execution_count": null,
      "outputs": []
    },
    {
      "cell_type": "code",
      "metadata": {
        "trusted": true,
        "_uuid": "c8107671682a446053c908a62806894cfc3c98e9",
        "id": "ADHFaa3fFzXD",
        "colab": {
          "base_uri": "https://localhost:8080/"
        },
        "outputId": "ec5a32f5-3cbf-47d8-c7d1-1bd99fc46403"
      },
      "source": [
        "print(pd.crosstab(train[\"LoanAmount_bin\"],train[\"Loan_Status\"]))\n",
        "LoanAmount=pd.crosstab(train[\"LoanAmount_bin\"],train[\"Loan_Status\"])\n",
        "LoanAmount.div(LoanAmount.sum(1).astype(float),axis=0).plot(kind='bar',stacked=True,figsize=(4,4))\n",
        "plt.xlabel(\"LoanAmount\")\n",
        "plt.ylabel(\"Percentage\")\n",
        "plt.show()"
      ],
      "execution_count": null,
      "outputs": [
        {
          "output_type": "stream",
          "text": [
            "Loan_Status      N    Y\n",
            "LoanAmount_bin         \n",
            "Low             38   86\n",
            "Average         83  207\n",
            "High            27   39\n"
          ],
          "name": "stdout"
        },
        {
          "output_type": "display_data",
          "data": {
            "image/png": "[encoded data removed]",
            "text/plain": [
              "<Figure size 288x288 with 1 Axes>"
            ]
          },
          "metadata": {
            "tags": [],
            "needs_background": "light"
          }
        }
      ]
    },
    {
      "cell_type": "markdown",
      "metadata": {
        "_uuid": "bfe923bd9537d0d943536155646e7d8c327edfc2",
        "id": "7v26mpnfFzXJ"
      },
      "source": [
        "Whose Loan Amount was low and Loan was approved : 86\n",
        "\n",
        "Whose Loan Amount was low and Loan was not approved : 38\n",
        "\n",
        "Whose Loan Amount was Average and Loan was approved : 207\n",
        "\n",
        "Whose Loan Amount was Average and Loan was not approved : 83\n",
        "\n",
        "Whose Loan Amount was High and Loan was approved : 39\n",
        "\n",
        "Whose Loan Amount was High and Loan was not approved : 27\n",
        "\n",
        "It can be seen that the proportion of approved loans is higher for Low and Average Loan Amount as compared to that of High Loan Amount which supports our hypothesis in which we considered that the chances of loan approval will be high when the loan amount is less."
      ]
    },
    {
      "cell_type": "markdown",
      "metadata": {
        "_uuid": "f48511e120c6f21ca38a48dbab09469cbb6c01ab",
        "id": "LrC2p2GsFzXK"
      },
      "source": [
        "# Let’s drop the bins which we created for the exploration part. We will change the 3+ in dependents variable to 3 to make it a numerical variable"
      ]
    },
    {
      "cell_type": "code",
      "metadata": {
        "trusted": true,
        "_uuid": "b08a7b528e14b537ee61c02215d453f7819b3d05",
        "id": "v6iX9_Q8FzXL"
      },
      "source": [
        "train=train.drop([\"Income_bin\",\"CoapplicantIncome_bin\",\"LoanAmount_bin\",\"TotalIncome\",\"TotalIncome_bin\"],axis=1)"
      ],
      "execution_count": null,
      "outputs": []
    },
    {
      "cell_type": "code",
      "metadata": {
        "trusted": true,
        "_uuid": "80f3981c7945c7a4e7c08cc953f64f9caa5b9b1a",
        "id": "XzN38ZG2FzXP"
      },
      "source": [
        "#train['Dependents'].replace(('0', '1', '2', '3+'), (0, 1, 2, 3),inplace=True)\n",
        "#test['Dependents'].replace(('0', '1', '2', '3+'), (0, 1, 2, 3),inplace=True)\n",
        "train['Dependents'].replace('3+',3,inplace=True)\n",
        "test['Dependents'].replace('3+',3,inplace=True)\n",
        "train['Loan_Status'].replace('N', 0,inplace=True)\n",
        "train['Loan_Status'].replace('Y', 1,inplace=True)"
      ],
      "execution_count": null,
      "outputs": []
    },
    {
      "cell_type": "markdown",
      "metadata": {
        "_uuid": "82e9937838a888c7300daa1860f40e1ab16cdbe4",
        "id": "tOaTPz9GFzXU"
      },
      "source": [
        "Now lets look at the correlation between all the numerical variables. We will use the heat map to visualize the correlation. Heatmaps visualize data through variations in coloring.\n",
        "The variables with darker color means their correlation is more."
      ]
    },
    {
      "cell_type": "code",
      "metadata": {
        "trusted": true,
        "_uuid": "903e5265051a7abb7de3f501be7bff9f35784781",
        "id": "D-RdCLt2FzXV",
        "colab": {
          "base_uri": "https://localhost:8080/"
        },
        "outputId": "1a24a199-aeae-4c43-bbb0-52976e80be42"
      },
      "source": [
        "matrix = train.corr()\n",
        "f, ax = plt.subplots(figsize=(10, 12))\n",
        "sns.heatmap(matrix, vmax=.8, square=True, cmap=\"BuPu\",annot=True);"
      ],
      "execution_count": null,
      "outputs": [
        {
          "output_type": "display_data",
          "data": {
            "image/png": "[encoded data removed]",
            "text/plain": [
              "<Figure size 720x864 with 2 Axes>"
            ]
          },
          "metadata": {
            "tags": [],
            "needs_background": "light"
          }
        }
      ]
    },
    {
      "cell_type": "markdown",
      "metadata": {
        "_uuid": "24d53f8f20c42ec9003ade811f7c4cda72bafd6b",
        "id": "4wzUzsPGFzXc"
      },
      "source": [
        "We see that the most correlated variables are (ApplicantIncome - LoanAmount) and (Credit_History - Loan_Status)."
      ]
    },
    {
      "cell_type": "markdown",
      "metadata": {
        "_uuid": "0ad355ad4e43fb5a904eef7ddf8c82ec03179eec",
        "id": "aUtGwQ76FzXd"
      },
      "source": [
        "# Missing Value and Outlier Treatment"
      ]
    },
    {
      "cell_type": "markdown",
      "metadata": {
        "_uuid": "a1be6f32fadeea6a9728283b8a0fe32be711ae40",
        "id": "sVIN7G-YFzXe"
      },
      "source": [
        "After exploring all the variables in our data, we can now impute the missing values and treat the outliers because missing data and outliers can have adverse effect on the model performance."
      ]
    },
    {
      "cell_type": "markdown",
      "metadata": {
        "_uuid": "8455d9028e259c95566cf828a1ca13bd99b49fa5",
        "id": "sgbht5BMFzXf"
      },
      "source": [
        "# Missing value imputation"
      ]
    },
    {
      "cell_type": "markdown",
      "metadata": {
        "_uuid": "f588dc000527767c768f9a33bad9e91783db6333",
        "id": "5abGiJB4FzXg"
      },
      "source": [
        "Let’s list out feature-wise count of missing values."
      ]
    },
    {
      "cell_type": "code",
      "metadata": {
        "trusted": true,
        "_uuid": "544dbbde4536fc9a575e4a178b5c6d83cc1689a9",
        "id": "dJvb0qPsFzXh",
        "colab": {
          "base_uri": "https://localhost:8080/"
        },
        "outputId": "06b241b8-4e52-455b-96d2-0e1f706aec64"
      },
      "source": [
        "train.isnull().sum()"
      ],
      "execution_count": null,
      "outputs": [
        {
          "output_type": "execute_result",
          "data": {
            "text/plain": [
              "Loan_ID               0\n",
              "Gender               13\n",
              "Married               3\n",
              "Dependents           15\n",
              "Education             0\n",
              "Self_Employed        32\n",
              "ApplicantIncome       0\n",
              "CoapplicantIncome     0\n",
              "LoanAmount           22\n",
              "Loan_Amount_Term     14\n",
              "Credit_History       50\n",
              "Property_Area         0\n",
              "Loan_Status           0\n",
              "dtype: int64"
            ]
          },
          "metadata": {
            "tags": []
          },
          "execution_count": 67
        }
      ]
    },
    {
      "cell_type": "markdown",
      "metadata": {
        "_uuid": "eabe4c0ab6e1f881eda4aa582f66e4a735f39a34",
        "id": "4wNoN0tJFzXm"
      },
      "source": [
        "There are missing values in Gender, Married, Dependents, Self_Employed, LoanAmount, Loan_Amount_Term and Credit_History features."
      ]
    },
    {
      "cell_type": "markdown",
      "metadata": {
        "_uuid": "16693011afaa2de451480016337eddbfd1eea2d2",
        "id": "qlkZGFukFzXn"
      },
      "source": [
        "We will treat the missing values in all the features one by one.\n",
        "\n",
        "We can consider these methods to fill the missing values:\n",
        "\n",
        "For numerical variables: imputation using mean or median\n",
        "    \n",
        "For categorical variables: imputation using mode"
      ]
    },
    {
      "cell_type": "markdown",
      "metadata": {
        "_uuid": "a0d097654ada2a2510f5005fb78fc41fc9b25c55",
        "id": "B1kMp-OwFzXo"
      },
      "source": [
        "There are very less missing values in Gender, Married, Dependents, Credit_History and Self_Employed features so we can fill them using the mode of the features"
      ]
    },
    {
      "cell_type": "code",
      "metadata": {
        "trusted": true,
        "_uuid": "9eabedbb9a79ccfb3202a710310d9ee1efcf1422",
        "id": "hZL-SYmGFzXp"
      },
      "source": [
        "train[\"Gender\"].fillna(train[\"Gender\"].mode()[0],inplace=True)\n",
        "train[\"Married\"].fillna(train[\"Married\"].mode()[0],inplace=True)\n",
        "train['Dependents'].fillna(train[\"Dependents\"].mode()[0],inplace=True)\n",
        "train[\"Self_Employed\"].fillna(train[\"Self_Employed\"].mode()[0],inplace=True)\n",
        "train[\"Credit_History\"].fillna(train[\"Credit_History\"].mode()[0],inplace=True)"
      ],
      "execution_count": null,
      "outputs": []
    },
    {
      "cell_type": "markdown",
      "metadata": {
        "_uuid": "b7fe48aa5e2cbda85180bc5890e82f90ffa0d085",
        "id": "ai5sm07TFzXu"
      },
      "source": [
        "Now let’s try to find a way to fill the missing values in Loan_Amount_Term. \n",
        "We will look at the value count of the Loan amount term variable."
      ]
    },
    {
      "cell_type": "code",
      "metadata": {
        "trusted": true,
        "_uuid": "4e21c285a2ae24c503340bd879bbcc7d4cae981b",
        "id": "4XeZSAWtFzXv",
        "colab": {
          "base_uri": "https://localhost:8080/"
        },
        "outputId": "d5cbfb73-566c-421a-d163-7b0aef8fe8da"
      },
      "source": [
        "train[\"Loan_Amount_Term\"].value_counts()"
      ],
      "execution_count": null,
      "outputs": [
        {
          "output_type": "execute_result",
          "data": {
            "text/plain": [
              "360.0    512\n",
              "180.0     44\n",
              "480.0     15\n",
              "300.0     13\n",
              "84.0       4\n",
              "240.0      4\n",
              "120.0      3\n",
              "36.0       2\n",
              "60.0       2\n",
              "12.0       1\n",
              "Name: Loan_Amount_Term, dtype: int64"
            ]
          },
          "metadata": {
            "tags": []
          },
          "execution_count": 69
        }
      ]
    },
    {
      "cell_type": "markdown",
      "metadata": {
        "_uuid": "a2f40d0815233bfae8e64a827b9be9b47a3f1cd4",
        "id": "8ur6DfRmFzYC"
      },
      "source": [
        "It can be seen that in loan amount term variable, the value of 360 is repeating the most.\n",
        "So we will replace the missing values in this variable using the mode of this variable."
      ]
    },
    {
      "cell_type": "code",
      "metadata": {
        "trusted": true,
        "_uuid": "a161e686deffba5e97e1c22b7887e4c32a77e5a4",
        "id": "uslIRxb1FzYD"
      },
      "source": [
        "train[\"Loan_Amount_Term\"].fillna(train[\"Loan_Amount_Term\"].mode()[0],inplace=True)"
      ],
      "execution_count": null,
      "outputs": []
    },
    {
      "cell_type": "code",
      "metadata": {
        "trusted": true,
        "_uuid": "9ed30d4d201957de3a05fab51c779ac2f377951d",
        "id": "RfDpCo6tFzYP",
        "colab": {
          "base_uri": "https://localhost:8080/"
        },
        "outputId": "76706b26-c5a7-4b10-ab69-4abee2ee7691"
      },
      "source": [
        "train[\"Loan_Amount_Term\"].value_counts()"
      ],
      "execution_count": null,
      "outputs": [
        {
          "output_type": "execute_result",
          "data": {
            "text/plain": [
              "360.0    526\n",
              "180.0     44\n",
              "480.0     15\n",
              "300.0     13\n",
              "84.0       4\n",
              "240.0      4\n",
              "120.0      3\n",
              "36.0       2\n",
              "60.0       2\n",
              "12.0       1\n",
              "Name: Loan_Amount_Term, dtype: int64"
            ]
          },
          "metadata": {
            "tags": []
          },
          "execution_count": 71
        }
      ]
    },
    {
      "cell_type": "markdown",
      "metadata": {
        "_uuid": "3cf07efa3a942c2b3b2f70e8e303799d0dd4d569",
        "id": "5Hsl5W78FzYV"
      },
      "source": [
        "Now we will see the LoanAmount variable. As it is a numerical variable, we can use mean or median to impute the missing values.\n",
        "\n",
        "We will use median to fill the null values as earlier we saw that loan amount have outliers so the mean will not be the proper approach as it is highly affected by the presence of outliers."
      ]
    },
    {
      "cell_type": "code",
      "metadata": {
        "trusted": true,
        "_uuid": "2bdd50ebf4bccef3985fe008d642783f888be23d",
        "id": "UdmRS87lFzYW"
      },
      "source": [
        "train[\"LoanAmount\"].fillna(train[\"LoanAmount\"].median(),inplace=True)"
      ],
      "execution_count": null,
      "outputs": []
    },
    {
      "cell_type": "markdown",
      "metadata": {
        "_uuid": "ba01047b03b5bf354d740f560d9a30fe69b9ce14",
        "id": "vM-X1NcDFzYb"
      },
      "source": [
        "Now lets check whether all the missing values are filled in the dataset."
      ]
    },
    {
      "cell_type": "code",
      "metadata": {
        "trusted": true,
        "_uuid": "dd0c936329a55d8c83e77d47c3182f169df1f3f2",
        "id": "9A5YkbB6FzYc",
        "colab": {
          "base_uri": "https://localhost:8080/"
        },
        "outputId": "c70b5d2a-ae72-446a-9a84-c0622ff8a731"
      },
      "source": [
        "train.isnull().sum()"
      ],
      "execution_count": null,
      "outputs": [
        {
          "output_type": "execute_result",
          "data": {
            "text/plain": [
              "Loan_ID              0\n",
              "Gender               0\n",
              "Married              0\n",
              "Dependents           0\n",
              "Education            0\n",
              "Self_Employed        0\n",
              "ApplicantIncome      0\n",
              "CoapplicantIncome    0\n",
              "LoanAmount           0\n",
              "Loan_Amount_Term     0\n",
              "Credit_History       0\n",
              "Property_Area        0\n",
              "Loan_Status          0\n",
              "dtype: int64"
            ]
          },
          "metadata": {
            "tags": []
          },
          "execution_count": 73
        }
      ]
    },
    {
      "cell_type": "markdown",
      "metadata": {
        "_uuid": "b0eee31c491d9b161ff67a938c631225f507c459",
        "id": "Ixe4R-BYFzYh"
      },
      "source": [
        "As we can see that all the missing values have been filled in the train dataset.\n",
        "\n",
        "Let’s fill all the missing values in the test dataset too with the same approach"
      ]
    },
    {
      "cell_type": "code",
      "metadata": {
        "trusted": true,
        "_uuid": "263dcadcfc10e2e40c7b9dfd30ca4a5ffb878a78",
        "id": "a6eaHCWMFzYh",
        "colab": {
          "base_uri": "https://localhost:8080/"
        },
        "outputId": "0eca1fa9-8b73-41f8-98b0-18545eb08999"
      },
      "source": [
        "test.isnull().sum()"
      ],
      "execution_count": null,
      "outputs": [
        {
          "output_type": "execute_result",
          "data": {
            "text/plain": [
              "Loan_ID               0\n",
              "Gender               11\n",
              "Married               0\n",
              "Dependents           10\n",
              "Education             0\n",
              "Self_Employed        23\n",
              "ApplicantIncome       0\n",
              "CoapplicantIncome     0\n",
              "LoanAmount            5\n",
              "Loan_Amount_Term      6\n",
              "Credit_History       29\n",
              "Property_Area         0\n",
              "dtype: int64"
            ]
          },
          "metadata": {
            "tags": []
          },
          "execution_count": 74
        }
      ]
    },
    {
      "cell_type": "code",
      "metadata": {
        "trusted": true,
        "_uuid": "24f38a60698e499a3b664dd2514d423924ff9ce3",
        "id": "_dWAencJFzYn"
      },
      "source": [
        "test[\"Gender\"].fillna(test[\"Gender\"].mode()[0],inplace=True)\n",
        "test['Dependents'].fillna(test[\"Dependents\"].mode()[0],inplace=True)\n",
        "test[\"Self_Employed\"].fillna(test[\"Self_Employed\"].mode()[0],inplace=True)\n",
        "test[\"Loan_Amount_Term\"].fillna(test[\"Loan_Amount_Term\"].mode()[0],inplace=True)\n",
        "test[\"Credit_History\"].fillna(test[\"Credit_History\"].mode()[0],inplace=True)\n",
        "test[\"LoanAmount\"].fillna(test[\"LoanAmount\"].median(),inplace=True)"
      ],
      "execution_count": null,
      "outputs": []
    },
    {
      "cell_type": "code",
      "metadata": {
        "trusted": true,
        "_uuid": "04c601fd62efc49d50d298d1ccd57276df91c257",
        "id": "9YiRjukpFzYu",
        "colab": {
          "base_uri": "https://localhost:8080/"
        },
        "outputId": "77ab3da8-f8cc-4456-c6db-df2357bf6284"
      },
      "source": [
        "test.isnull().sum()"
      ],
      "execution_count": null,
      "outputs": [
        {
          "output_type": "execute_result",
          "data": {
            "text/plain": [
              "Loan_ID              0\n",
              "Gender               0\n",
              "Married              0\n",
              "Dependents           0\n",
              "Education            0\n",
              "Self_Employed        0\n",
              "ApplicantIncome      0\n",
              "CoapplicantIncome    0\n",
              "LoanAmount           0\n",
              "Loan_Amount_Term     0\n",
              "Credit_History       0\n",
              "Property_Area        0\n",
              "dtype: int64"
            ]
          },
          "metadata": {
            "tags": []
          },
          "execution_count": 76
        }
      ]
    },
    {
      "cell_type": "code",
      "metadata": {
        "trusted": true,
        "_uuid": "871147d297f1433e111ba7a557619b80f360b78a",
        "id": "nGT-TLO0FzYz",
        "colab": {
          "base_uri": "https://localhost:8080/"
        },
        "outputId": "dd635bbe-1e50-44e6-efce-ba8b81d6e4d9"
      },
      "source": [
        "sns.distplot(train[\"LoanAmount\"]);"
      ],
      "execution_count": null,
      "outputs": [
        {
          "output_type": "display_data",
          "data": {
            "image/png": "[encoded data removed]",
            "text/plain": [
              "<Figure size 432x288 with 1 Axes>"
            ]
          },
          "metadata": {
            "tags": [],
            "needs_background": "light"
          }
        }
      ]
    },
    {
      "cell_type": "code",
      "metadata": {
        "trusted": true,
        "_uuid": "11ad787aedb80d37d0b6289cb59708baadda69c7",
        "id": "y1kkauu_FzY5",
        "colab": {
          "base_uri": "https://localhost:8080/"
        },
        "outputId": "f597653e-5b0a-4509-c0dd-65251505532b"
      },
      "source": [
        "train['LoanAmount'].hist(bins=20)"
      ],
      "execution_count": null,
      "outputs": [
        {
          "output_type": "execute_result",
          "data": {
            "text/plain": [
              "<matplotlib.axes._subplots.AxesSubplot at 0x7f14835c28d0>"
            ]
          },
          "metadata": {
            "tags": []
          },
          "execution_count": 78
        },
        {
          "output_type": "display_data",
          "data": {
            "image/png": "[encoded data removed]",
            "text/plain": [
              "<Figure size 432x288 with 1 Axes>"
            ]
          },
          "metadata": {
            "tags": [],
            "needs_background": "light"
          }
        }
      ]
    },
    {
      "cell_type": "markdown",
      "metadata": {
        "_uuid": "523fb83cfc4526269d37d4ccf7a71fe1187adae1",
        "id": "LccMaCsGFzY-"
      },
      "source": [
        "Due to these outliers bulk of the data in the loan amount is at the left and the right tail is longer. This is called right skewness.\n",
        "\n",
        "One way to remove the skewness is by doing the log transformation. As we take the log transformation, it does not affect the smaller values much, but reduces the larger values. \n",
        "\n",
        "So, we get a distribution similar to normal distribution."
      ]
    },
    {
      "cell_type": "markdown",
      "metadata": {
        "_uuid": "611a9e2309fd0e6d6836b87ed504f4a55facdb70",
        "id": "Jny6J1-kFzY_"
      },
      "source": [
        "Let’s visualize the effect of log transformation. \n",
        "\n",
        "We will do the similar changes to the test file simultaneously."
      ]
    },
    {
      "cell_type": "code",
      "metadata": {
        "trusted": true,
        "_uuid": "b99858ec729849d9332039300a2a364346341718",
        "id": "jTh1narpFzZA",
        "colab": {
          "base_uri": "https://localhost:8080/"
        },
        "outputId": "7d614169-ed54-4931-c2b5-09a83afbe4c9"
      },
      "source": [
        "train['LoanAmount_log'] = np.log(train['LoanAmount'])\n",
        "train['LoanAmount_log'].hist(bins=20)"
      ],
      "execution_count": null,
      "outputs": [
        {
          "output_type": "execute_result",
          "data": {
            "text/plain": [
              "<matplotlib.axes._subplots.AxesSubplot at 0x7f148306f668>"
            ]
          },
          "metadata": {
            "tags": []
          },
          "execution_count": 79
        },
        {
          "output_type": "display_data",
          "data": {
            "image/png": "[encoded data removed]",
            "text/plain": [
              "<Figure size 432x288 with 1 Axes>"
            ]
          },
          "metadata": {
            "tags": [],
            "needs_background": "light"
          }
        }
      ]
    },
    {
      "cell_type": "code",
      "metadata": {
        "trusted": true,
        "_uuid": "c50caf9c187a52150b1ea8c95f4ddf1a5a4f7fad",
        "id": "oAlaGDrbFzZF",
        "colab": {
          "base_uri": "https://localhost:8080/"
        },
        "outputId": "caad98bd-902a-4ea6-b774-51c6f1cb4654"
      },
      "source": [
        "sns.distplot(train[\"LoanAmount_log\"])"
      ],
      "execution_count": null,
      "outputs": [
        {
          "output_type": "execute_result",
          "data": {
            "text/plain": [
              "<matplotlib.axes._subplots.AxesSubplot at 0x7f148306f4e0>"
            ]
          },
          "metadata": {
            "tags": []
          },
          "execution_count": 80
        },
        {
          "output_type": "display_data",
          "data": {
            "image/png": "[encoded data removed]",
            "text/plain": [
              "<Figure size 432x288 with 1 Axes>"
            ]
          },
          "metadata": {
            "tags": [],
            "needs_background": "light"
          }
        }
      ]
    },
    {
      "cell_type": "markdown",
      "metadata": {
        "_uuid": "21e592e29c74b06cb861f93c473ced879c73c333",
        "id": "9Sm46e1VFzZK"
      },
      "source": [
        "Let's have a look in test set [LoanAmount]"
      ]
    },
    {
      "cell_type": "code",
      "metadata": {
        "trusted": true,
        "_uuid": "3ed949305bdd583b484ecc4138648a0320b2e567",
        "id": "aL3hUDmFFzZK",
        "colab": {
          "base_uri": "https://localhost:8080/"
        },
        "outputId": "cde3ef54-d0e5-4924-8f88-50a26fae2426"
      },
      "source": [
        "test[\"LoanAmount_log\"]=np.log(train[\"LoanAmount\"])\n",
        "test['LoanAmount_log'].hist(bins=20)"
      ],
      "execution_count": null,
      "outputs": [
        {
          "output_type": "execute_result",
          "data": {
            "text/plain": [
              "<matplotlib.axes._subplots.AxesSubplot at 0x7f1482e9c780>"
            ]
          },
          "metadata": {
            "tags": []
          },
          "execution_count": 81
        },
        {
          "output_type": "display_data",
          "data": {
            "image/png": "[encoded data removed]",
            "text/plain": [
              "<Figure size 432x288 with 1 Axes>"
            ]
          },
          "metadata": {
            "tags": [],
            "needs_background": "light"
          }
        }
      ]
    },
    {
      "cell_type": "code",
      "metadata": {
        "trusted": true,
        "_uuid": "db7eb58dc1e727cd7be59ac6acf00b09e91399eb",
        "id": "_C8zv2OlFzZX",
        "colab": {
          "base_uri": "https://localhost:8080/"
        },
        "outputId": "4ae3d3bc-4aa7-47e7-8d30-fbe1184dd745"
      },
      "source": [
        "sns.distplot(test[\"LoanAmount_log\"])"
      ],
      "execution_count": null,
      "outputs": [
        {
          "output_type": "execute_result",
          "data": {
            "text/plain": [
              "<matplotlib.axes._subplots.AxesSubplot at 0x7f1483146e48>"
            ]
          },
          "metadata": {
            "tags": []
          },
          "execution_count": 82
        },
        {
          "output_type": "display_data",
          "data": {
            "image/png": "[encoded data removed]",
            "text/plain": [
              "<Figure size 432x288 with 1 Axes>"
            ]
          },
          "metadata": {
            "tags": [],
            "needs_background": "light"
          }
        }
      ]
    },
    {
      "cell_type": "markdown",
      "metadata": {
        "_uuid": "8c027a160b4aa113380a3c30a11aac5e2a5bf58f",
        "id": "piDJMgJQFzZl"
      },
      "source": [
        "# Feature Engineering"
      ]
    },
    {
      "cell_type": "markdown",
      "metadata": {
        "_uuid": "67df7ec213ddde368be9811f77ae7b5ba8b28d17",
        "id": "FMvHyjs2FzZm"
      },
      "source": [
        "Based on the domain knowledge, we can come up with new features that might affect the target variable. We will create the following three new features:"
      ]
    },
    {
      "cell_type": "markdown",
      "metadata": {
        "_uuid": "c58b6502e02c1786c72eedcea44296a572c9d91a",
        "id": "QXIIYZ-KFzZn"
      },
      "source": [
        "Total Income - As discussed during bivariate analysis we will combine the Applicant Income and Coapplicant Income. If the total income is high, chances of loan approval might also be high."
      ]
    },
    {
      "cell_type": "markdown",
      "metadata": {
        "_uuid": "bb9e48158c7789ee97cbacac90f958ae4d7901f2",
        "id": "1yV4op_WFzZp"
      },
      "source": [
        "EMI - EMI is the monthly amount to be paid by the applicant to repay the loan. Idea behind making this variable is that people who have high EMI’s might find it difficult to pay back the loan. We can calculate the EMI by taking the ratio of loan amount with respect to loan amount term."
      ]
    },
    {
      "cell_type": "markdown",
      "metadata": {
        "_uuid": "5dc5c38104d3ed72606f8e462fb0e6e1022702a6",
        "id": "FfWSi4fLFzZq"
      },
      "source": [
        "Balance Income - This is the income left after the EMI has been paid. Idea behind creating this variable is that if this value is high, the chances are high that a person will repay the loan and hence increasing the chances of loan approval."
      ]
    },
    {
      "cell_type": "code",
      "metadata": {
        "trusted": true,
        "_uuid": "839ac00d5e05e0e0d3d63733f6c2634a7554f261",
        "id": "IMp5i1INFzZx"
      },
      "source": [
        "train[\"TotalIncome\"]=train[\"ApplicantIncome\"]+train[\"CoapplicantIncome\"]"
      ],
      "execution_count": null,
      "outputs": []
    },
    {
      "cell_type": "markdown",
      "metadata": {
        "_uuid": "7ec36b3c4422d96e4ffdb8e4de733fd7594ea819",
        "id": "yvsCF1LyFzZ5"
      },
      "source": [
        "Just have a look of train dataset  \"TotalIncome\""
      ]
    },
    {
      "cell_type": "code",
      "metadata": {
        "trusted": true,
        "_uuid": "92a1070057d4edaa0594757faf134d95b5d7a7d9",
        "id": "s9S0nH8PFzaZ",
        "colab": {
          "base_uri": "https://localhost:8080/"
        },
        "outputId": "98586d74-e3c5-4f5d-c29d-80739a2ef6aa"
      },
      "source": [
        "train[[\"TotalIncome\"]].head()"
      ],
      "execution_count": null,
      "outputs": [
        {
          "output_type": "execute_result",
          "data": {
            "text/html": [
              "<div>\n",
              "<style scoped>\n",
              "    .dataframe tbody tr th:only-of-type {\n",
              "        vertical-align: middle;\n",
              "    }\n",
              "\n",
              "    .dataframe tbody tr th {\n",
              "        vertical-align: top;\n",
              "    }\n",
              "\n",
              "    .dataframe thead th {\n",
              "        text-align: right;\n",
              "    }\n",
              "</style>\n",
              "<table border=\"1\" class=\"dataframe\">\n",
              "  <thead>\n",
              "    <tr style=\"text-align: right;\">\n",
              "      <th></th>\n",
              "      <th>TotalIncome</th>\n",
              "    </tr>\n",
              "  </thead>\n",
              "  <tbody>\n",
              "    <tr>\n",
              "      <th>0</th>\n",
              "      <td>5849.0</td>\n",
              "    </tr>\n",
              "    <tr>\n",
              "      <th>1</th>\n",
              "      <td>6091.0</td>\n",
              "    </tr>\n",
              "    <tr>\n",
              "      <th>2</th>\n",
              "      <td>3000.0</td>\n",
              "    </tr>\n",
              "    <tr>\n",
              "      <th>3</th>\n",
              "      <td>4941.0</td>\n",
              "    </tr>\n",
              "    <tr>\n",
              "      <th>4</th>\n",
              "      <td>6000.0</td>\n",
              "    </tr>\n",
              "  </tbody>\n",
              "</table>\n",
              "</div>"
            ],
            "text/plain": [
              "   TotalIncome\n",
              "0       5849.0\n",
              "1       6091.0\n",
              "2       3000.0\n",
              "3       4941.0\n",
              "4       6000.0"
            ]
          },
          "metadata": {
            "tags": []
          },
          "execution_count": 84
        }
      ]
    },
    {
      "cell_type": "code",
      "metadata": {
        "trusted": true,
        "_uuid": "7e298ca7ff9c59a6cefb64d68dc4f57d7a1b83ca",
        "id": "7gA9PLQwFzag"
      },
      "source": [
        "test[\"TotalIncome\"]=test[\"ApplicantIncome\"]+test[\"CoapplicantIncome\"]"
      ],
      "execution_count": null,
      "outputs": []
    },
    {
      "cell_type": "markdown",
      "metadata": {
        "_uuid": "10b1f08c7a39ead00be7cd2433b8399285dc04ff",
        "id": "VdFFpXtoFzas"
      },
      "source": [
        "Just have a look of test dataset \"TotalIncome\""
      ]
    },
    {
      "cell_type": "code",
      "metadata": {
        "trusted": true,
        "_uuid": "da1061025b530b59085d51a61cb06d2a4ff9c885",
        "id": "996U17rbFzat",
        "colab": {
          "base_uri": "https://localhost:8080/"
        },
        "outputId": "0ecd9b63-2fa0-45ac-d825-783038471eee"
      },
      "source": [
        "test[[\"TotalIncome\"]].head()"
      ],
      "execution_count": null,
      "outputs": [
        {
          "output_type": "execute_result",
          "data": {
            "text/html": [
              "<div>\n",
              "<style scoped>\n",
              "    .dataframe tbody tr th:only-of-type {\n",
              "        vertical-align: middle;\n",
              "    }\n",
              "\n",
              "    .dataframe tbody tr th {\n",
              "        vertical-align: top;\n",
              "    }\n",
              "\n",
              "    .dataframe thead th {\n",
              "        text-align: right;\n",
              "    }\n",
              "</style>\n",
              "<table border=\"1\" class=\"dataframe\">\n",
              "  <thead>\n",
              "    <tr style=\"text-align: right;\">\n",
              "      <th></th>\n",
              "      <th>TotalIncome</th>\n",
              "    </tr>\n",
              "  </thead>\n",
              "  <tbody>\n",
              "    <tr>\n",
              "      <th>0</th>\n",
              "      <td>5720</td>\n",
              "    </tr>\n",
              "    <tr>\n",
              "      <th>1</th>\n",
              "      <td>4576</td>\n",
              "    </tr>\n",
              "    <tr>\n",
              "      <th>2</th>\n",
              "      <td>6800</td>\n",
              "    </tr>\n",
              "    <tr>\n",
              "      <th>3</th>\n",
              "      <td>4886</td>\n",
              "    </tr>\n",
              "    <tr>\n",
              "      <th>4</th>\n",
              "      <td>3276</td>\n",
              "    </tr>\n",
              "  </tbody>\n",
              "</table>\n",
              "</div>"
            ],
            "text/plain": [
              "   TotalIncome\n",
              "0         5720\n",
              "1         4576\n",
              "2         6800\n",
              "3         4886\n",
              "4         3276"
            ]
          },
          "metadata": {
            "tags": []
          },
          "execution_count": 86
        }
      ]
    },
    {
      "cell_type": "markdown",
      "metadata": {
        "_uuid": "367b7005e8e220cf26ca1fe3e65614b94028251f",
        "id": "48ytH9dUFzbP"
      },
      "source": [
        "Let’s check the distribution of train dataset Total Income."
      ]
    },
    {
      "cell_type": "code",
      "metadata": {
        "trusted": true,
        "_uuid": "9a12d9e0f12af80ec13f556ca06d8f5f46aafdcd",
        "id": "zH_LuXe4FzbQ",
        "colab": {
          "base_uri": "https://localhost:8080/"
        },
        "outputId": "061186e2-4f41-4c46-c729-2f21d369f60d"
      },
      "source": [
        "sns.distplot(train[\"TotalIncome\"])"
      ],
      "execution_count": null,
      "outputs": [
        {
          "output_type": "execute_result",
          "data": {
            "text/plain": [
              "<matplotlib.axes._subplots.AxesSubplot at 0x7f1482fd9668>"
            ]
          },
          "metadata": {
            "tags": []
          },
          "execution_count": 87
        },
        {
          "output_type": "display_data",
          "data": {
            "image/png": "[encoded data removed]",
            "text/plain": [
              "<Figure size 432x288 with 1 Axes>"
            ]
          },
          "metadata": {
            "tags": [],
            "needs_background": "light"
          }
        }
      ]
    },
    {
      "cell_type": "markdown",
      "metadata": {
        "_uuid": "806f2978e64c7996b4344316df861dbf3eb96c0b",
        "id": "OMIETKFoFzbW"
      },
      "source": [
        "We can see it is shifted towards left, i.e., the distribution is right skewed. So, let’s take the log transformation to make the distribution normal."
      ]
    },
    {
      "cell_type": "code",
      "metadata": {
        "trusted": true,
        "_uuid": "42de653648b5851c1d470bd68a555a7ba1f7cc19",
        "id": "y6IMnZYVFzbZ",
        "colab": {
          "base_uri": "https://localhost:8080/"
        },
        "outputId": "a6204f70-75e2-40e5-ff91-c9fa60fe71ab"
      },
      "source": [
        "train[\"TotalIncome_log\"]=np.log(train[\"TotalIncome\"])\n",
        "sns.distplot(train[\"TotalIncome_log\"])"
      ],
      "execution_count": null,
      "outputs": [
        {
          "output_type": "execute_result",
          "data": {
            "text/plain": [
              "<matplotlib.axes._subplots.AxesSubplot at 0x7f148064a630>"
            ]
          },
          "metadata": {
            "tags": []
          },
          "execution_count": 88
        },
        {
          "output_type": "display_data",
          "data": {
            "image/png": "[encoded data removed]",
            "text/plain": [
              "<Figure size 432x288 with 1 Axes>"
            ]
          },
          "metadata": {
            "tags": [],
            "needs_background": "light"
          }
        }
      ]
    },
    {
      "cell_type": "markdown",
      "metadata": {
        "_uuid": "9ac547e0d0eeb660894fe208900390a1d4e817e6",
        "id": "UYNSlxtKFzb9"
      },
      "source": [
        "Now the distribution looks much closer to normal and effect of extreme values has been significantly subsided."
      ]
    },
    {
      "cell_type": "markdown",
      "metadata": {
        "_uuid": "26f92020dbf102181b0c85656112bfe3873fa9ad",
        "id": "d9loyjmMFzb-"
      },
      "source": [
        "Let’s check the distribution of test dataset Total Income."
      ]
    },
    {
      "cell_type": "code",
      "metadata": {
        "trusted": true,
        "_uuid": "50fcbd225e643cbe28656aceb797da11caa2b044",
        "id": "yKx3K_AVFzb_",
        "colab": {
          "base_uri": "https://localhost:8080/"
        },
        "outputId": "b49118ec-2cc8-4e7b-c3f6-bd0d57492d5b"
      },
      "source": [
        "sns.distplot(test[\"TotalIncome\"])"
      ],
      "execution_count": null,
      "outputs": [
        {
          "output_type": "execute_result",
          "data": {
            "text/plain": [
              "<matplotlib.axes._subplots.AxesSubplot at 0x7f1480509fd0>"
            ]
          },
          "metadata": {
            "tags": []
          },
          "execution_count": 89
        },
        {
          "output_type": "display_data",
          "data": {
            "image/png": "[encoded data removed]",
            "text/plain": [
              "<Figure size 432x288 with 1 Axes>"
            ]
          },
          "metadata": {
            "tags": [],
            "needs_background": "light"
          }
        }
      ]
    },
    {
      "cell_type": "markdown",
      "metadata": {
        "_uuid": "abb05cfa9eafaa19d2406b396478d7c2dee67575",
        "id": "lSun_y7lFzcE"
      },
      "source": [
        "We can see it is shifted towards left, i.e., the distribution is right skewed. So, let’s take the log transformation to make the distribution normal."
      ]
    },
    {
      "cell_type": "code",
      "metadata": {
        "trusted": true,
        "_uuid": "a52b28115435a12dafe5a5822c5a49ee8e2a1e59",
        "id": "jEluf_YlFzcF",
        "colab": {
          "base_uri": "https://localhost:8080/"
        },
        "outputId": "f69cf046-dfb5-4add-9673-d3e575a7e8e1"
      },
      "source": [
        "test[\"TotalIncome_log\"] = np.log(train[\"TotalIncome\"])\n",
        "sns.distplot(test[\"TotalIncome_log\"])"
      ],
      "execution_count": null,
      "outputs": [
        {
          "output_type": "execute_result",
          "data": {
            "text/plain": [
              "<matplotlib.axes._subplots.AxesSubplot at 0x7f1483228f28>"
            ]
          },
          "metadata": {
            "tags": []
          },
          "execution_count": 90
        },
        {
          "output_type": "display_data",
          "data": {
            "image/png": "[encoded data removed]",
            "text/plain": [
              "<Figure size 432x288 with 1 Axes>"
            ]
          },
          "metadata": {
            "tags": [],
            "needs_background": "light"
          }
        }
      ]
    },
    {
      "cell_type": "markdown",
      "metadata": {
        "_uuid": "502ef0cfa52d56486514e9ee86c382371e1aeb3c",
        "id": "1FWR_l7sFzcJ"
      },
      "source": [
        "Now the distribution looks much closer to normal and effect of extreme values has been significantly subsided."
      ]
    },
    {
      "cell_type": "markdown",
      "metadata": {
        "_uuid": "c5bfbc9a427c0901130b1df2fcb8713ca0656c65",
        "id": "hIEadhYqFzcK"
      },
      "source": [
        "Now create the EMI feature."
      ]
    },
    {
      "cell_type": "code",
      "metadata": {
        "trusted": true,
        "_uuid": "fe1adb837dde927351321482703d6b4752548b76",
        "id": "MI78xZQCFzcL"
      },
      "source": [
        "train[\"EMI\"]=train[\"LoanAmount\"]/train[\"Loan_Amount_Term\"]\n",
        "test[\"EMI\"]=test[\"LoanAmount\"]/test[\"Loan_Amount_Term\"]"
      ],
      "execution_count": null,
      "outputs": []
    },
    {
      "cell_type": "markdown",
      "metadata": {
        "_uuid": "9c6a9457d213529fc4d465b727ba30a9ef9c7dfa",
        "id": "lxYYekMuFzcP"
      },
      "source": [
        "Have a look of train dataset \"EMI\""
      ]
    },
    {
      "cell_type": "code",
      "metadata": {
        "trusted": true,
        "_uuid": "7a90f56a4f5a02dc2261ab8c2af48901ff98d302",
        "id": "ux_XuKyHFzcQ",
        "colab": {
          "base_uri": "https://localhost:8080/"
        },
        "outputId": "8d60a8b0-2ab2-49bf-aab0-362919faa968"
      },
      "source": [
        "train[[\"EMI\"]].head()"
      ],
      "execution_count": null,
      "outputs": [
        {
          "output_type": "execute_result",
          "data": {
            "text/html": [
              "<div>\n",
              "<style scoped>\n",
              "    .dataframe tbody tr th:only-of-type {\n",
              "        vertical-align: middle;\n",
              "    }\n",
              "\n",
              "    .dataframe tbody tr th {\n",
              "        vertical-align: top;\n",
              "    }\n",
              "\n",
              "    .dataframe thead th {\n",
              "        text-align: right;\n",
              "    }\n",
              "</style>\n",
              "<table border=\"1\" class=\"dataframe\">\n",
              "  <thead>\n",
              "    <tr style=\"text-align: right;\">\n",
              "      <th></th>\n",
              "      <th>EMI</th>\n",
              "    </tr>\n",
              "  </thead>\n",
              "  <tbody>\n",
              "    <tr>\n",
              "      <th>0</th>\n",
              "      <td>0.355556</td>\n",
              "    </tr>\n",
              "    <tr>\n",
              "      <th>1</th>\n",
              "      <td>0.355556</td>\n",
              "    </tr>\n",
              "    <tr>\n",
              "      <th>2</th>\n",
              "      <td>0.183333</td>\n",
              "    </tr>\n",
              "    <tr>\n",
              "      <th>3</th>\n",
              "      <td>0.333333</td>\n",
              "    </tr>\n",
              "    <tr>\n",
              "      <th>4</th>\n",
              "      <td>0.391667</td>\n",
              "    </tr>\n",
              "  </tbody>\n",
              "</table>\n",
              "</div>"
            ],
            "text/plain": [
              "        EMI\n",
              "0  0.355556\n",
              "1  0.355556\n",
              "2  0.183333\n",
              "3  0.333333\n",
              "4  0.391667"
            ]
          },
          "metadata": {
            "tags": []
          },
          "execution_count": 92
        }
      ]
    },
    {
      "cell_type": "markdown",
      "metadata": {
        "_uuid": "0f7535b3bce63c6b45f19921ab12bb69b4e720a5",
        "id": "QiVHlwpMFzcU"
      },
      "source": [
        "Again have a look of test dataset \"EMI\""
      ]
    },
    {
      "cell_type": "code",
      "metadata": {
        "trusted": true,
        "_uuid": "ab40229fe4b215f15445a9d2b7bc79134c908815",
        "id": "3Y1eDXTkFzcV",
        "colab": {
          "base_uri": "https://localhost:8080/"
        },
        "outputId": "0b565471-1313-44bb-d14c-49224c0101b8"
      },
      "source": [
        "test[[\"EMI\"]].head()"
      ],
      "execution_count": null,
      "outputs": [
        {
          "output_type": "execute_result",
          "data": {
            "text/html": [
              "<div>\n",
              "<style scoped>\n",
              "    .dataframe tbody tr th:only-of-type {\n",
              "        vertical-align: middle;\n",
              "    }\n",
              "\n",
              "    .dataframe tbody tr th {\n",
              "        vertical-align: top;\n",
              "    }\n",
              "\n",
              "    .dataframe thead th {\n",
              "        text-align: right;\n",
              "    }\n",
              "</style>\n",
              "<table border=\"1\" class=\"dataframe\">\n",
              "  <thead>\n",
              "    <tr style=\"text-align: right;\">\n",
              "      <th></th>\n",
              "      <th>EMI</th>\n",
              "    </tr>\n",
              "  </thead>\n",
              "  <tbody>\n",
              "    <tr>\n",
              "      <th>0</th>\n",
              "      <td>0.305556</td>\n",
              "    </tr>\n",
              "    <tr>\n",
              "      <th>1</th>\n",
              "      <td>0.350000</td>\n",
              "    </tr>\n",
              "    <tr>\n",
              "      <th>2</th>\n",
              "      <td>0.577778</td>\n",
              "    </tr>\n",
              "    <tr>\n",
              "      <th>3</th>\n",
              "      <td>0.277778</td>\n",
              "    </tr>\n",
              "    <tr>\n",
              "      <th>4</th>\n",
              "      <td>0.216667</td>\n",
              "    </tr>\n",
              "  </tbody>\n",
              "</table>\n",
              "</div>"
            ],
            "text/plain": [
              "        EMI\n",
              "0  0.305556\n",
              "1  0.350000\n",
              "2  0.577778\n",
              "3  0.277778\n",
              "4  0.216667"
            ]
          },
          "metadata": {
            "tags": []
          },
          "execution_count": 93
        }
      ]
    },
    {
      "cell_type": "markdown",
      "metadata": {
        "_uuid": "06dbb9b5e213e7febfc59d3b40facae41982fafb",
        "id": "DM0Fw6RMFzcZ"
      },
      "source": [
        "Let’s check the distribution of EMI variable."
      ]
    },
    {
      "cell_type": "code",
      "metadata": {
        "trusted": true,
        "_uuid": "96c9f4519f97c78c9520f6f3ed12a3a7be128714",
        "id": "zrdGxwyZFzca",
        "colab": {
          "base_uri": "https://localhost:8080/"
        },
        "outputId": "a202dea5-e222-4d01-9adc-477457cb4f1d"
      },
      "source": [
        "sns.distplot(train[\"EMI\"])"
      ],
      "execution_count": null,
      "outputs": [
        {
          "output_type": "execute_result",
          "data": {
            "text/plain": [
              "<matplotlib.axes._subplots.AxesSubplot at 0x7f148308c710>"
            ]
          },
          "metadata": {
            "tags": []
          },
          "execution_count": 94
        },
        {
          "output_type": "display_data",
          "data": {
            "image/png": "[encoded data removed]",
            "text/plain": [
              "<Figure size 432x288 with 1 Axes>"
            ]
          },
          "metadata": {
            "tags": [],
            "needs_background": "light"
          }
        }
      ]
    },
    {
      "cell_type": "code",
      "metadata": {
        "trusted": true,
        "_uuid": "0ceaae53ab6a66332183c0d0d98f888c341d708e",
        "id": "w6qxpj8eFzcg",
        "colab": {
          "base_uri": "https://localhost:8080/"
        },
        "outputId": "3857d7e8-c965-46f3-9e40-c96fe4d35bb7"
      },
      "source": [
        "sns.distplot(test[\"EMI\"])"
      ],
      "execution_count": null,
      "outputs": [
        {
          "output_type": "execute_result",
          "data": {
            "text/plain": [
              "<matplotlib.axes._subplots.AxesSubplot at 0x7f14803a38d0>"
            ]
          },
          "metadata": {
            "tags": []
          },
          "execution_count": 95
        },
        {
          "output_type": "display_data",
          "data": {
            "image/png": "[encoded data removed]",
            "text/plain": [
              "<Figure size 432x288 with 1 Axes>"
            ]
          },
          "metadata": {
            "tags": [],
            "needs_background": "light"
          }
        }
      ]
    },
    {
      "cell_type": "markdown",
      "metadata": {
        "_uuid": "190620fe79e20f7baac809f841e9ac5c0e0f6783",
        "id": "K1r1zhRAFzcj"
      },
      "source": [
        "Let's create Balance Income feature now and check its distribution."
      ]
    },
    {
      "cell_type": "code",
      "metadata": {
        "trusted": true,
        "_uuid": "79225d94e62119ff41a773e03f9c7ed0de3a917a",
        "id": "sMsy_NdEFzcl"
      },
      "source": [
        "train[\"Balance_Income\"] = train[\"TotalIncome\"]-train[\"EMI\"]*1000 # To make the units equal we multiply with 1000\n",
        "test[\"Balance_Income\"] = test[\"TotalIncome\"]-test[\"EMI\"]"
      ],
      "execution_count": null,
      "outputs": []
    },
    {
      "cell_type": "markdown",
      "metadata": {
        "_uuid": "b8dc498b3f7b3abe64d966768bcc766bbae222ea",
        "id": "ajmDbnblFzcp"
      },
      "source": [
        "Have a look of train dataset \"Balance Income\""
      ]
    },
    {
      "cell_type": "code",
      "metadata": {
        "trusted": true,
        "_uuid": "93c3bf327493fb0c4f50e1896dd357a9f57f9b0b",
        "id": "M9-9vrEQFzcp",
        "colab": {
          "base_uri": "https://localhost:8080/"
        },
        "outputId": "4fa35b93-421c-463c-e79d-d3ae460d57af"
      },
      "source": [
        "train[[\"Balance_Income\"]].head()"
      ],
      "execution_count": null,
      "outputs": [
        {
          "output_type": "execute_result",
          "data": {
            "text/html": [
              "<div>\n",
              "<style scoped>\n",
              "    .dataframe tbody tr th:only-of-type {\n",
              "        vertical-align: middle;\n",
              "    }\n",
              "\n",
              "    .dataframe tbody tr th {\n",
              "        vertical-align: top;\n",
              "    }\n",
              "\n",
              "    .dataframe thead th {\n",
              "        text-align: right;\n",
              "    }\n",
              "</style>\n",
              "<table border=\"1\" class=\"dataframe\">\n",
              "  <thead>\n",
              "    <tr style=\"text-align: right;\">\n",
              "      <th></th>\n",
              "      <th>Balance_Income</th>\n",
              "    </tr>\n",
              "  </thead>\n",
              "  <tbody>\n",
              "    <tr>\n",
              "      <th>0</th>\n",
              "      <td>5493.444444</td>\n",
              "    </tr>\n",
              "    <tr>\n",
              "      <th>1</th>\n",
              "      <td>5735.444444</td>\n",
              "    </tr>\n",
              "    <tr>\n",
              "      <th>2</th>\n",
              "      <td>2816.666667</td>\n",
              "    </tr>\n",
              "    <tr>\n",
              "      <th>3</th>\n",
              "      <td>4607.666667</td>\n",
              "    </tr>\n",
              "    <tr>\n",
              "      <th>4</th>\n",
              "      <td>5608.333333</td>\n",
              "    </tr>\n",
              "  </tbody>\n",
              "</table>\n",
              "</div>"
            ],
            "text/plain": [
              "   Balance_Income\n",
              "0     5493.444444\n",
              "1     5735.444444\n",
              "2     2816.666667\n",
              "3     4607.666667\n",
              "4     5608.333333"
            ]
          },
          "metadata": {
            "tags": []
          },
          "execution_count": 97
        }
      ]
    },
    {
      "cell_type": "markdown",
      "metadata": {
        "_uuid": "f3880f59d7475d93f801a4fa820f0432ea82db5f",
        "id": "KHzrBJ2nFzct"
      },
      "source": [
        "Have a look of test dataset \"Balance Income\""
      ]
    },
    {
      "cell_type": "code",
      "metadata": {
        "trusted": true,
        "_uuid": "2961d2d90d67a25994ddbb8ccbe8841e3f7d314c",
        "id": "HbimeUFbFzcu",
        "colab": {
          "base_uri": "https://localhost:8080/"
        },
        "outputId": "bef29621-0fd3-46ad-d295-ca0dc7668ae7"
      },
      "source": [
        "test[[\"Balance_Income\"]].head()"
      ],
      "execution_count": null,
      "outputs": [
        {
          "output_type": "execute_result",
          "data": {
            "text/html": [
              "<div>\n",
              "<style scoped>\n",
              "    .dataframe tbody tr th:only-of-type {\n",
              "        vertical-align: middle;\n",
              "    }\n",
              "\n",
              "    .dataframe tbody tr th {\n",
              "        vertical-align: top;\n",
              "    }\n",
              "\n",
              "    .dataframe thead th {\n",
              "        text-align: right;\n",
              "    }\n",
              "</style>\n",
              "<table border=\"1\" class=\"dataframe\">\n",
              "  <thead>\n",
              "    <tr style=\"text-align: right;\">\n",
              "      <th></th>\n",
              "      <th>Balance_Income</th>\n",
              "    </tr>\n",
              "  </thead>\n",
              "  <tbody>\n",
              "    <tr>\n",
              "      <th>0</th>\n",
              "      <td>5719.694444</td>\n",
              "    </tr>\n",
              "    <tr>\n",
              "      <th>1</th>\n",
              "      <td>4575.650000</td>\n",
              "    </tr>\n",
              "    <tr>\n",
              "      <th>2</th>\n",
              "      <td>6799.422222</td>\n",
              "    </tr>\n",
              "    <tr>\n",
              "      <th>3</th>\n",
              "      <td>4885.722222</td>\n",
              "    </tr>\n",
              "    <tr>\n",
              "      <th>4</th>\n",
              "      <td>3275.783333</td>\n",
              "    </tr>\n",
              "  </tbody>\n",
              "</table>\n",
              "</div>"
            ],
            "text/plain": [
              "   Balance_Income\n",
              "0     5719.694444\n",
              "1     4575.650000\n",
              "2     6799.422222\n",
              "3     4885.722222\n",
              "4     3275.783333"
            ]
          },
          "metadata": {
            "tags": []
          },
          "execution_count": 98
        }
      ]
    },
    {
      "cell_type": "markdown",
      "metadata": {
        "_uuid": "2f0c4a321caebeba7183c15e17a69e539921070a",
        "id": "TZBIu3EAFzcy"
      },
      "source": [
        "Let us now drop the variables which we used to create these new features. Reason for doing this is, the correlation between those old features and these new features will be very high and logistic regression assumes that the variables are not highly correlated. We also wants to remove the noise from the dataset, so removing correlated features will help in reducing the noise too."
      ]
    },
    {
      "cell_type": "code",
      "metadata": {
        "trusted": true,
        "_uuid": "be05278decfd15fa7c411df63d7367b7389cf4ae",
        "id": "2aB625klFzcz"
      },
      "source": [
        "train=train.drop([\"ApplicantIncome\",\"CoapplicantIncome\",\"LoanAmount\",\"Loan_Amount_Term\"],axis=1)"
      ],
      "execution_count": null,
      "outputs": []
    },
    {
      "cell_type": "code",
      "metadata": {
        "trusted": true,
        "_uuid": "91d691ef2acca708ce16a56e26f32199bd0fa3b0",
        "id": "wYmYpSrXFzc2",
        "colab": {
          "base_uri": "https://localhost:8080/"
        },
        "outputId": "d0e97cbf-9537-41a1-dd98-913d048e855d"
      },
      "source": [
        "train.head()"
      ],
      "execution_count": null,
      "outputs": [
        {
          "output_type": "execute_result",
          "data": {
            "text/html": [
              "<div>\n",
              "<style scoped>\n",
              "    .dataframe tbody tr th:only-of-type {\n",
              "        vertical-align: middle;\n",
              "    }\n",
              "\n",
              "    .dataframe tbody tr th {\n",
              "        vertical-align: top;\n",
              "    }\n",
              "\n",
              "    .dataframe thead th {\n",
              "        text-align: right;\n",
              "    }\n",
              "</style>\n",
              "<table border=\"1\" class=\"dataframe\">\n",
              "  <thead>\n",
              "    <tr style=\"text-align: right;\">\n",
              "      <th></th>\n",
              "      <th>Loan_ID</th>\n",
              "      <th>Gender</th>\n",
              "      <th>Married</th>\n",
              "      <th>Dependents</th>\n",
              "      <th>Education</th>\n",
              "      <th>Self_Employed</th>\n",
              "      <th>Credit_History</th>\n",
              "      <th>Property_Area</th>\n",
              "      <th>Loan_Status</th>\n",
              "      <th>LoanAmount_log</th>\n",
              "      <th>TotalIncome</th>\n",
              "      <th>TotalIncome_log</th>\n",
              "      <th>EMI</th>\n",
              "      <th>Balance_Income</th>\n",
              "    </tr>\n",
              "  </thead>\n",
              "  <tbody>\n",
              "    <tr>\n",
              "      <th>0</th>\n",
              "      <td>LP001002</td>\n",
              "      <td>Male</td>\n",
              "      <td>No</td>\n",
              "      <td>0</td>\n",
              "      <td>Graduate</td>\n",
              "      <td>No</td>\n",
              "      <td>1.0</td>\n",
              "      <td>Urban</td>\n",
              "      <td>1</td>\n",
              "      <td>4.852030</td>\n",
              "      <td>5849.0</td>\n",
              "      <td>8.674026</td>\n",
              "      <td>0.355556</td>\n",
              "      <td>5493.444444</td>\n",
              "    </tr>\n",
              "    <tr>\n",
              "      <th>1</th>\n",
              "      <td>LP001003</td>\n",
              "      <td>Male</td>\n",
              "      <td>Yes</td>\n",
              "      <td>1</td>\n",
              "      <td>Graduate</td>\n",
              "      <td>No</td>\n",
              "      <td>1.0</td>\n",
              "      <td>Rural</td>\n",
              "      <td>0</td>\n",
              "      <td>4.852030</td>\n",
              "      <td>6091.0</td>\n",
              "      <td>8.714568</td>\n",
              "      <td>0.355556</td>\n",
              "      <td>5735.444444</td>\n",
              "    </tr>\n",
              "    <tr>\n",
              "      <th>2</th>\n",
              "      <td>LP001005</td>\n",
              "      <td>Male</td>\n",
              "      <td>Yes</td>\n",
              "      <td>0</td>\n",
              "      <td>Graduate</td>\n",
              "      <td>Yes</td>\n",
              "      <td>1.0</td>\n",
              "      <td>Urban</td>\n",
              "      <td>1</td>\n",
              "      <td>4.189655</td>\n",
              "      <td>3000.0</td>\n",
              "      <td>8.006368</td>\n",
              "      <td>0.183333</td>\n",
              "      <td>2816.666667</td>\n",
              "    </tr>\n",
              "    <tr>\n",
              "      <th>3</th>\n",
              "      <td>LP001006</td>\n",
              "      <td>Male</td>\n",
              "      <td>Yes</td>\n",
              "      <td>0</td>\n",
              "      <td>Not Graduate</td>\n",
              "      <td>No</td>\n",
              "      <td>1.0</td>\n",
              "      <td>Urban</td>\n",
              "      <td>1</td>\n",
              "      <td>4.787492</td>\n",
              "      <td>4941.0</td>\n",
              "      <td>8.505323</td>\n",
              "      <td>0.333333</td>\n",
              "      <td>4607.666667</td>\n",
              "    </tr>\n",
              "    <tr>\n",
              "      <th>4</th>\n",
              "      <td>LP001008</td>\n",
              "      <td>Male</td>\n",
              "      <td>No</td>\n",
              "      <td>0</td>\n",
              "      <td>Graduate</td>\n",
              "      <td>No</td>\n",
              "      <td>1.0</td>\n",
              "      <td>Urban</td>\n",
              "      <td>1</td>\n",
              "      <td>4.948760</td>\n",
              "      <td>6000.0</td>\n",
              "      <td>8.699515</td>\n",
              "      <td>0.391667</td>\n",
              "      <td>5608.333333</td>\n",
              "    </tr>\n",
              "  </tbody>\n",
              "</table>\n",
              "</div>"
            ],
            "text/plain": [
              "    Loan_ID Gender Married  ... TotalIncome_log       EMI Balance_Income\n",
              "0  LP001002   Male      No  ...        8.674026  0.355556    5493.444444\n",
              "1  LP001003   Male     Yes  ...        8.714568  0.355556    5735.444444\n",
              "2  LP001005   Male     Yes  ...        8.006368  0.183333    2816.666667\n",
              "3  LP001006   Male     Yes  ...        8.505323  0.333333    4607.666667\n",
              "4  LP001008   Male      No  ...        8.699515  0.391667    5608.333333\n",
              "\n",
              "[5 rows x 14 columns]"
            ]
          },
          "metadata": {
            "tags": []
          },
          "execution_count": 100
        }
      ]
    },
    {
      "cell_type": "code",
      "metadata": {
        "trusted": true,
        "_uuid": "7bee87af79d18bad23bdf208fa7408ad743c9f06",
        "id": "N3r2oLLGFzc-"
      },
      "source": [
        "test = test.drop([\"ApplicantIncome\",\"CoapplicantIncome\",\"LoanAmount\",\"Loan_Amount_Term\"],axis=1)"
      ],
      "execution_count": null,
      "outputs": []
    },
    {
      "cell_type": "code",
      "metadata": {
        "trusted": true,
        "_uuid": "20387c78ef3f60beeff2b3f0f3091c81ac87b1f0",
        "id": "opsyXs_aFzdE",
        "colab": {
          "base_uri": "https://localhost:8080/"
        },
        "outputId": "8fae4579-a17d-41ef-c887-b9107086c43b"
      },
      "source": [
        "test.head()"
      ],
      "execution_count": null,
      "outputs": [
        {
          "output_type": "execute_result",
          "data": {
            "text/html": [
              "<div>\n",
              "<style scoped>\n",
              "    .dataframe tbody tr th:only-of-type {\n",
              "        vertical-align: middle;\n",
              "    }\n",
              "\n",
              "    .dataframe tbody tr th {\n",
              "        vertical-align: top;\n",
              "    }\n",
              "\n",
              "    .dataframe thead th {\n",
              "        text-align: right;\n",
              "    }\n",
              "</style>\n",
              "<table border=\"1\" class=\"dataframe\">\n",
              "  <thead>\n",
              "    <tr style=\"text-align: right;\">\n",
              "      <th></th>\n",
              "      <th>Loan_ID</th>\n",
              "      <th>Gender</th>\n",
              "      <th>Married</th>\n",
              "      <th>Dependents</th>\n",
              "      <th>Education</th>\n",
              "      <th>Self_Employed</th>\n",
              "      <th>Credit_History</th>\n",
              "      <th>Property_Area</th>\n",
              "      <th>LoanAmount_log</th>\n",
              "      <th>TotalIncome</th>\n",
              "      <th>TotalIncome_log</th>\n",
              "      <th>EMI</th>\n",
              "      <th>Balance_Income</th>\n",
              "    </tr>\n",
              "  </thead>\n",
              "  <tbody>\n",
              "    <tr>\n",
              "      <th>0</th>\n",
              "      <td>LP001015</td>\n",
              "      <td>Male</td>\n",
              "      <td>Yes</td>\n",
              "      <td>0</td>\n",
              "      <td>Graduate</td>\n",
              "      <td>No</td>\n",
              "      <td>1.0</td>\n",
              "      <td>Urban</td>\n",
              "      <td>4.852030</td>\n",
              "      <td>5720</td>\n",
              "      <td>8.674026</td>\n",
              "      <td>0.305556</td>\n",
              "      <td>5719.694444</td>\n",
              "    </tr>\n",
              "    <tr>\n",
              "      <th>1</th>\n",
              "      <td>LP001022</td>\n",
              "      <td>Male</td>\n",
              "      <td>Yes</td>\n",
              "      <td>1</td>\n",
              "      <td>Graduate</td>\n",
              "      <td>No</td>\n",
              "      <td>1.0</td>\n",
              "      <td>Urban</td>\n",
              "      <td>4.852030</td>\n",
              "      <td>4576</td>\n",
              "      <td>8.714568</td>\n",
              "      <td>0.350000</td>\n",
              "      <td>4575.650000</td>\n",
              "    </tr>\n",
              "    <tr>\n",
              "      <th>2</th>\n",
              "      <td>LP001031</td>\n",
              "      <td>Male</td>\n",
              "      <td>Yes</td>\n",
              "      <td>2</td>\n",
              "      <td>Graduate</td>\n",
              "      <td>No</td>\n",
              "      <td>1.0</td>\n",
              "      <td>Urban</td>\n",
              "      <td>4.189655</td>\n",
              "      <td>6800</td>\n",
              "      <td>8.006368</td>\n",
              "      <td>0.577778</td>\n",
              "      <td>6799.422222</td>\n",
              "    </tr>\n",
              "    <tr>\n",
              "      <th>3</th>\n",
              "      <td>LP001035</td>\n",
              "      <td>Male</td>\n",
              "      <td>Yes</td>\n",
              "      <td>2</td>\n",
              "      <td>Graduate</td>\n",
              "      <td>No</td>\n",
              "      <td>1.0</td>\n",
              "      <td>Urban</td>\n",
              "      <td>4.787492</td>\n",
              "      <td>4886</td>\n",
              "      <td>8.505323</td>\n",
              "      <td>0.277778</td>\n",
              "      <td>4885.722222</td>\n",
              "    </tr>\n",
              "    <tr>\n",
              "      <th>4</th>\n",
              "      <td>LP001051</td>\n",
              "      <td>Male</td>\n",
              "      <td>No</td>\n",
              "      <td>0</td>\n",
              "      <td>Not Graduate</td>\n",
              "      <td>No</td>\n",
              "      <td>1.0</td>\n",
              "      <td>Urban</td>\n",
              "      <td>4.948760</td>\n",
              "      <td>3276</td>\n",
              "      <td>8.699515</td>\n",
              "      <td>0.216667</td>\n",
              "      <td>3275.783333</td>\n",
              "    </tr>\n",
              "  </tbody>\n",
              "</table>\n",
              "</div>"
            ],
            "text/plain": [
              "    Loan_ID Gender Married  ... TotalIncome_log       EMI Balance_Income\n",
              "0  LP001015   Male     Yes  ...        8.674026  0.305556    5719.694444\n",
              "1  LP001022   Male     Yes  ...        8.714568  0.350000    4575.650000\n",
              "2  LP001031   Male     Yes  ...        8.006368  0.577778    6799.422222\n",
              "3  LP001035   Male     Yes  ...        8.505323  0.277778    4885.722222\n",
              "4  LP001051   Male      No  ...        8.699515  0.216667    3275.783333\n",
              "\n",
              "[5 rows x 13 columns]"
            ]
          },
          "metadata": {
            "tags": []
          },
          "execution_count": 102
        }
      ]
    },
    {
      "cell_type": "markdown",
      "metadata": {
        "_uuid": "df8ec327fd1832b6a47d3a589df262c283553020",
        "id": "L7PgpvzIFzdI"
      },
      "source": [
        "# Model Building :"
      ]
    },
    {
      "cell_type": "code",
      "metadata": {
        "trusted": true,
        "_uuid": "5d21b5d91e49e55129890a9b1c9b95f5692202c9",
        "id": "-EoXP_wIFzdW",
        "colab": {
          "base_uri": "https://localhost:8080/",
          "height": 320
        },
        "outputId": "3e90e2b2-0d4c-40f8-c776-f2004db8bace"
      },
      "source": [
        "train=train.drop(\"Loan_ID\",axis=1)\n",
        "test=test.drop(\"Loan_ID\",axis=1)"
      ],
      "execution_count": null,
      "outputs": [
        {
          "output_type": "error",
          "ename": "KeyError",
          "evalue": "ignored",
          "traceback": [
            "\u001b[0;31m---------------------------------------------------------------------------\u001b[0m",
            "\u001b[0;31mKeyError\u001b[0m                                  Traceback (most recent call last)",
            "\u001b[0;32m<ipython-input-125-09c7d456ef37>\u001b[0m in \u001b[0;36m<module>\u001b[0;34m()\u001b[0m\n\u001b[0;32m----> 1\u001b[0;31m \u001b[0mtrain\u001b[0m\u001b[0;34m=\u001b[0m\u001b[0mtrain\u001b[0m\u001b[0;34m.\u001b[0m\u001b[0mdrop\u001b[0m\u001b[0;34m(\u001b[0m\u001b[0;34m\"Loan_ID\"\u001b[0m\u001b[0;34m,\u001b[0m\u001b[0maxis\u001b[0m\u001b[0;34m=\u001b[0m\u001b[0;36m1\u001b[0m\u001b[0;34m)\u001b[0m\u001b[0;34m\u001b[0m\u001b[0;34m\u001b[0m\u001b[0m\n\u001b[0m\u001b[1;32m      2\u001b[0m \u001b[0mtest\u001b[0m\u001b[0;34m=\u001b[0m\u001b[0mtest\u001b[0m\u001b[0;34m.\u001b[0m\u001b[0mdrop\u001b[0m\u001b[0;34m(\u001b[0m\u001b[0;34m\"Loan_ID\"\u001b[0m\u001b[0;34m,\u001b[0m\u001b[0maxis\u001b[0m\u001b[0;34m=\u001b[0m\u001b[0;36m1\u001b[0m\u001b[0;34m)\u001b[0m\u001b[0;34m\u001b[0m\u001b[0;34m\u001b[0m\u001b[0m\n",
            "\u001b[0;32m/usr/local/lib/python3.6/dist-packages/pandas/core/frame.py\u001b[0m in \u001b[0;36mdrop\u001b[0;34m(self, labels, axis, index, columns, level, inplace, errors)\u001b[0m\n\u001b[1;32m   3995\u001b[0m             \u001b[0mlevel\u001b[0m\u001b[0;34m=\u001b[0m\u001b[0mlevel\u001b[0m\u001b[0;34m,\u001b[0m\u001b[0;34m\u001b[0m\u001b[0;34m\u001b[0m\u001b[0m\n\u001b[1;32m   3996\u001b[0m             \u001b[0minplace\u001b[0m\u001b[0;34m=\u001b[0m\u001b[0minplace\u001b[0m\u001b[0;34m,\u001b[0m\u001b[0;34m\u001b[0m\u001b[0;34m\u001b[0m\u001b[0m\n\u001b[0;32m-> 3997\u001b[0;31m             \u001b[0merrors\u001b[0m\u001b[0;34m=\u001b[0m\u001b[0merrors\u001b[0m\u001b[0;34m,\u001b[0m\u001b[0;34m\u001b[0m\u001b[0;34m\u001b[0m\u001b[0m\n\u001b[0m\u001b[1;32m   3998\u001b[0m         )\n\u001b[1;32m   3999\u001b[0m \u001b[0;34m\u001b[0m\u001b[0m\n",
            "\u001b[0;32m/usr/local/lib/python3.6/dist-packages/pandas/core/generic.py\u001b[0m in \u001b[0;36mdrop\u001b[0;34m(self, labels, axis, index, columns, level, inplace, errors)\u001b[0m\n\u001b[1;32m   3934\u001b[0m         \u001b[0;32mfor\u001b[0m \u001b[0maxis\u001b[0m\u001b[0;34m,\u001b[0m \u001b[0mlabels\u001b[0m \u001b[0;32min\u001b[0m \u001b[0maxes\u001b[0m\u001b[0;34m.\u001b[0m\u001b[0mitems\u001b[0m\u001b[0;34m(\u001b[0m\u001b[0;34m)\u001b[0m\u001b[0;34m:\u001b[0m\u001b[0;34m\u001b[0m\u001b[0;34m\u001b[0m\u001b[0m\n\u001b[1;32m   3935\u001b[0m             \u001b[0;32mif\u001b[0m \u001b[0mlabels\u001b[0m \u001b[0;32mis\u001b[0m \u001b[0;32mnot\u001b[0m \u001b[0;32mNone\u001b[0m\u001b[0;34m:\u001b[0m\u001b[0;34m\u001b[0m\u001b[0;34m\u001b[0m\u001b[0m\n\u001b[0;32m-> 3936\u001b[0;31m                 \u001b[0mobj\u001b[0m \u001b[0;34m=\u001b[0m \u001b[0mobj\u001b[0m\u001b[0;34m.\u001b[0m\u001b[0m_drop_axis\u001b[0m\u001b[0;34m(\u001b[0m\u001b[0mlabels\u001b[0m\u001b[0;34m,\u001b[0m \u001b[0maxis\u001b[0m\u001b[0;34m,\u001b[0m \u001b[0mlevel\u001b[0m\u001b[0;34m=\u001b[0m\u001b[0mlevel\u001b[0m\u001b[0;34m,\u001b[0m \u001b[0merrors\u001b[0m\u001b[0;34m=\u001b[0m\u001b[0merrors\u001b[0m\u001b[0;34m)\u001b[0m\u001b[0;34m\u001b[0m\u001b[0;34m\u001b[0m\u001b[0m\n\u001b[0m\u001b[1;32m   3937\u001b[0m \u001b[0;34m\u001b[0m\u001b[0m\n\u001b[1;32m   3938\u001b[0m         \u001b[0;32mif\u001b[0m \u001b[0minplace\u001b[0m\u001b[0;34m:\u001b[0m\u001b[0;34m\u001b[0m\u001b[0;34m\u001b[0m\u001b[0m\n",
            "\u001b[0;32m/usr/local/lib/python3.6/dist-packages/pandas/core/generic.py\u001b[0m in \u001b[0;36m_drop_axis\u001b[0;34m(self, labels, axis, level, errors)\u001b[0m\n\u001b[1;32m   3968\u001b[0m                 \u001b[0mnew_axis\u001b[0m \u001b[0;34m=\u001b[0m \u001b[0maxis\u001b[0m\u001b[0;34m.\u001b[0m\u001b[0mdrop\u001b[0m\u001b[0;34m(\u001b[0m\u001b[0mlabels\u001b[0m\u001b[0;34m,\u001b[0m \u001b[0mlevel\u001b[0m\u001b[0;34m=\u001b[0m\u001b[0mlevel\u001b[0m\u001b[0;34m,\u001b[0m \u001b[0merrors\u001b[0m\u001b[0;34m=\u001b[0m\u001b[0merrors\u001b[0m\u001b[0;34m)\u001b[0m\u001b[0;34m\u001b[0m\u001b[0;34m\u001b[0m\u001b[0m\n\u001b[1;32m   3969\u001b[0m             \u001b[0;32melse\u001b[0m\u001b[0;34m:\u001b[0m\u001b[0;34m\u001b[0m\u001b[0;34m\u001b[0m\u001b[0m\n\u001b[0;32m-> 3970\u001b[0;31m                 \u001b[0mnew_axis\u001b[0m \u001b[0;34m=\u001b[0m \u001b[0maxis\u001b[0m\u001b[0;34m.\u001b[0m\u001b[0mdrop\u001b[0m\u001b[0;34m(\u001b[0m\u001b[0mlabels\u001b[0m\u001b[0;34m,\u001b[0m \u001b[0merrors\u001b[0m\u001b[0;34m=\u001b[0m\u001b[0merrors\u001b[0m\u001b[0;34m)\u001b[0m\u001b[0;34m\u001b[0m\u001b[0;34m\u001b[0m\u001b[0m\n\u001b[0m\u001b[1;32m   3971\u001b[0m             \u001b[0mresult\u001b[0m \u001b[0;34m=\u001b[0m \u001b[0mself\u001b[0m\u001b[0;34m.\u001b[0m\u001b[0mreindex\u001b[0m\u001b[0;34m(\u001b[0m\u001b[0;34m**\u001b[0m\u001b[0;34m{\u001b[0m\u001b[0maxis_name\u001b[0m\u001b[0;34m:\u001b[0m \u001b[0mnew_axis\u001b[0m\u001b[0;34m}\u001b[0m\u001b[0;34m)\u001b[0m\u001b[0;34m\u001b[0m\u001b[0;34m\u001b[0m\u001b[0m\n\u001b[1;32m   3972\u001b[0m \u001b[0;34m\u001b[0m\u001b[0m\n",
            "\u001b[0;32m/usr/local/lib/python3.6/dist-packages/pandas/core/indexes/base.py\u001b[0m in \u001b[0;36mdrop\u001b[0;34m(self, labels, errors)\u001b[0m\n\u001b[1;32m   5016\u001b[0m         \u001b[0;32mif\u001b[0m \u001b[0mmask\u001b[0m\u001b[0;34m.\u001b[0m\u001b[0many\u001b[0m\u001b[0;34m(\u001b[0m\u001b[0;34m)\u001b[0m\u001b[0;34m:\u001b[0m\u001b[0;34m\u001b[0m\u001b[0;34m\u001b[0m\u001b[0m\n\u001b[1;32m   5017\u001b[0m             \u001b[0;32mif\u001b[0m \u001b[0merrors\u001b[0m \u001b[0;34m!=\u001b[0m \u001b[0;34m\"ignore\"\u001b[0m\u001b[0;34m:\u001b[0m\u001b[0;34m\u001b[0m\u001b[0;34m\u001b[0m\u001b[0m\n\u001b[0;32m-> 5018\u001b[0;31m                 \u001b[0;32mraise\u001b[0m \u001b[0mKeyError\u001b[0m\u001b[0;34m(\u001b[0m\u001b[0;34mf\"{labels[mask]} not found in axis\"\u001b[0m\u001b[0;34m)\u001b[0m\u001b[0;34m\u001b[0m\u001b[0;34m\u001b[0m\u001b[0m\n\u001b[0m\u001b[1;32m   5019\u001b[0m             \u001b[0mindexer\u001b[0m \u001b[0;34m=\u001b[0m \u001b[0mindexer\u001b[0m\u001b[0;34m[\u001b[0m\u001b[0;34m~\u001b[0m\u001b[0mmask\u001b[0m\u001b[0;34m]\u001b[0m\u001b[0;34m\u001b[0m\u001b[0;34m\u001b[0m\u001b[0m\n\u001b[1;32m   5020\u001b[0m         \u001b[0;32mreturn\u001b[0m \u001b[0mself\u001b[0m\u001b[0;34m.\u001b[0m\u001b[0mdelete\u001b[0m\u001b[0;34m(\u001b[0m\u001b[0mindexer\u001b[0m\u001b[0;34m)\u001b[0m\u001b[0;34m\u001b[0m\u001b[0;34m\u001b[0m\u001b[0m\n",
            "\u001b[0;31mKeyError\u001b[0m: \"['Loan_ID'] not found in axis\""
          ]
        }
      ]
    },
    {
      "cell_type": "markdown",
      "metadata": {
        "_uuid": "d10188399684bd37120de74ad0b66021c9170ae3",
        "id": "odsYX3XXFzdd"
      },
      "source": [
        "After drop train dataset will look :"
      ]
    },
    {
      "cell_type": "code",
      "metadata": {
        "trusted": true,
        "_uuid": "41b4ee58f6501e227c32e678e8dd740ee72492f9",
        "id": "511lMUAxFzdd",
        "colab": {
          "base_uri": "https://localhost:8080/",
          "height": 156
        },
        "outputId": "09aaa21c-c48f-473e-a28c-dac2f6f4a7e9"
      },
      "source": [
        "train.head(3)"
      ],
      "execution_count": null,
      "outputs": [
        {
          "output_type": "execute_result",
          "data": {
            "text/html": [
              "<div>\n",
              "<style scoped>\n",
              "    .dataframe tbody tr th:only-of-type {\n",
              "        vertical-align: middle;\n",
              "    }\n",
              "\n",
              "    .dataframe tbody tr th {\n",
              "        vertical-align: top;\n",
              "    }\n",
              "\n",
              "    .dataframe thead th {\n",
              "        text-align: right;\n",
              "    }\n",
              "</style>\n",
              "<table border=\"1\" class=\"dataframe\">\n",
              "  <thead>\n",
              "    <tr style=\"text-align: right;\">\n",
              "      <th></th>\n",
              "      <th>Gender</th>\n",
              "      <th>Married</th>\n",
              "      <th>Dependents</th>\n",
              "      <th>Education</th>\n",
              "      <th>Self_Employed</th>\n",
              "      <th>Credit_History</th>\n",
              "      <th>Property_Area</th>\n",
              "      <th>Loan_Status</th>\n",
              "      <th>LoanAmount_log</th>\n",
              "      <th>TotalIncome</th>\n",
              "      <th>TotalIncome_log</th>\n",
              "      <th>EMI</th>\n",
              "      <th>Balance_Income</th>\n",
              "    </tr>\n",
              "  </thead>\n",
              "  <tbody>\n",
              "    <tr>\n",
              "      <th>0</th>\n",
              "      <td>Male</td>\n",
              "      <td>No</td>\n",
              "      <td>0</td>\n",
              "      <td>Graduate</td>\n",
              "      <td>No</td>\n",
              "      <td>1.0</td>\n",
              "      <td>Urban</td>\n",
              "      <td>1</td>\n",
              "      <td>4.852030</td>\n",
              "      <td>5849.0</td>\n",
              "      <td>8.674026</td>\n",
              "      <td>0.355556</td>\n",
              "      <td>5493.444444</td>\n",
              "    </tr>\n",
              "    <tr>\n",
              "      <th>1</th>\n",
              "      <td>Male</td>\n",
              "      <td>Yes</td>\n",
              "      <td>1</td>\n",
              "      <td>Graduate</td>\n",
              "      <td>No</td>\n",
              "      <td>1.0</td>\n",
              "      <td>Rural</td>\n",
              "      <td>0</td>\n",
              "      <td>4.852030</td>\n",
              "      <td>6091.0</td>\n",
              "      <td>8.714568</td>\n",
              "      <td>0.355556</td>\n",
              "      <td>5735.444444</td>\n",
              "    </tr>\n",
              "    <tr>\n",
              "      <th>2</th>\n",
              "      <td>Male</td>\n",
              "      <td>Yes</td>\n",
              "      <td>0</td>\n",
              "      <td>Graduate</td>\n",
              "      <td>Yes</td>\n",
              "      <td>1.0</td>\n",
              "      <td>Urban</td>\n",
              "      <td>1</td>\n",
              "      <td>4.189655</td>\n",
              "      <td>3000.0</td>\n",
              "      <td>8.006368</td>\n",
              "      <td>0.183333</td>\n",
              "      <td>2816.666667</td>\n",
              "    </tr>\n",
              "  </tbody>\n",
              "</table>\n",
              "</div>"
            ],
            "text/plain": [
              "  Gender Married Dependents  ... TotalIncome_log       EMI  Balance_Income\n",
              "0   Male      No          0  ...        8.674026  0.355556     5493.444444\n",
              "1   Male     Yes          1  ...        8.714568  0.355556     5735.444444\n",
              "2   Male     Yes          0  ...        8.006368  0.183333     2816.666667\n",
              "\n",
              "[3 rows x 13 columns]"
            ]
          },
          "metadata": {
            "tags": []
          },
          "execution_count": 104
        }
      ]
    },
    {
      "cell_type": "markdown",
      "metadata": {
        "_uuid": "6c3d4f9a30f01645c1386aaed413b54e123e4c03",
        "id": "DGb5NEIOFzdk"
      },
      "source": [
        "After drop test dataset will look :"
      ]
    },
    {
      "cell_type": "code",
      "metadata": {
        "trusted": true,
        "_uuid": "ffd79add8826c39dbb729c7c7bb8e2fcde9dde58",
        "id": "KILCni-3Fzdk",
        "colab": {
          "base_uri": "https://localhost:8080/",
          "height": 156
        },
        "outputId": "6a8df613-ddc6-42df-e9c6-07e5d6ce7976"
      },
      "source": [
        "test.head(3)"
      ],
      "execution_count": null,
      "outputs": [
        {
          "output_type": "execute_result",
          "data": {
            "text/html": [
              "<div>\n",
              "<style scoped>\n",
              "    .dataframe tbody tr th:only-of-type {\n",
              "        vertical-align: middle;\n",
              "    }\n",
              "\n",
              "    .dataframe tbody tr th {\n",
              "        vertical-align: top;\n",
              "    }\n",
              "\n",
              "    .dataframe thead th {\n",
              "        text-align: right;\n",
              "    }\n",
              "</style>\n",
              "<table border=\"1\" class=\"dataframe\">\n",
              "  <thead>\n",
              "    <tr style=\"text-align: right;\">\n",
              "      <th></th>\n",
              "      <th>Gender</th>\n",
              "      <th>Married</th>\n",
              "      <th>Dependents</th>\n",
              "      <th>Education</th>\n",
              "      <th>Self_Employed</th>\n",
              "      <th>Credit_History</th>\n",
              "      <th>Property_Area</th>\n",
              "      <th>LoanAmount_log</th>\n",
              "      <th>TotalIncome</th>\n",
              "      <th>TotalIncome_log</th>\n",
              "      <th>EMI</th>\n",
              "      <th>Balance_Income</th>\n",
              "    </tr>\n",
              "  </thead>\n",
              "  <tbody>\n",
              "    <tr>\n",
              "      <th>0</th>\n",
              "      <td>Male</td>\n",
              "      <td>Yes</td>\n",
              "      <td>0</td>\n",
              "      <td>Graduate</td>\n",
              "      <td>No</td>\n",
              "      <td>1.0</td>\n",
              "      <td>Urban</td>\n",
              "      <td>4.852030</td>\n",
              "      <td>5720</td>\n",
              "      <td>8.674026</td>\n",
              "      <td>0.305556</td>\n",
              "      <td>5719.694444</td>\n",
              "    </tr>\n",
              "    <tr>\n",
              "      <th>1</th>\n",
              "      <td>Male</td>\n",
              "      <td>Yes</td>\n",
              "      <td>1</td>\n",
              "      <td>Graduate</td>\n",
              "      <td>No</td>\n",
              "      <td>1.0</td>\n",
              "      <td>Urban</td>\n",
              "      <td>4.852030</td>\n",
              "      <td>4576</td>\n",
              "      <td>8.714568</td>\n",
              "      <td>0.350000</td>\n",
              "      <td>4575.650000</td>\n",
              "    </tr>\n",
              "    <tr>\n",
              "      <th>2</th>\n",
              "      <td>Male</td>\n",
              "      <td>Yes</td>\n",
              "      <td>2</td>\n",
              "      <td>Graduate</td>\n",
              "      <td>No</td>\n",
              "      <td>1.0</td>\n",
              "      <td>Urban</td>\n",
              "      <td>4.189655</td>\n",
              "      <td>6800</td>\n",
              "      <td>8.006368</td>\n",
              "      <td>0.577778</td>\n",
              "      <td>6799.422222</td>\n",
              "    </tr>\n",
              "  </tbody>\n",
              "</table>\n",
              "</div>"
            ],
            "text/plain": [
              "  Gender Married Dependents  ... TotalIncome_log       EMI  Balance_Income\n",
              "0   Male     Yes          0  ...        8.674026  0.305556     5719.694444\n",
              "1   Male     Yes          1  ...        8.714568  0.350000     4575.650000\n",
              "2   Male     Yes          2  ...        8.006368  0.577778     6799.422222\n",
              "\n",
              "[3 rows x 12 columns]"
            ]
          },
          "metadata": {
            "tags": []
          },
          "execution_count": 105
        }
      ]
    },
    {
      "cell_type": "markdown",
      "metadata": {
        "_uuid": "4da0d513749f36e8c1de87a4877f2a637f42bc27",
        "id": "rXkMSobGFzdo"
      },
      "source": [
        "We will use scikit-learn (sklearn) for making different models which is an open source library for Python. It is one of the most efficient tool which contains many inbuilt functions that can be used for modeling in Python."
      ]
    },
    {
      "cell_type": "markdown",
      "metadata": {
        "_uuid": "744435df3f78972b9171cbf52efb9828013548cf",
        "id": "sfzNJuJyFzds"
      },
      "source": [
        "Sklearn requires the target variable in a separate dataset. So, we will drop our target variable from the train dataset and save it in another dataset."
      ]
    },
    {
      "cell_type": "markdown",
      "metadata": {
        "_uuid": "da641002381860e70256376127879e90f87d2446",
        "id": "lO-YVLDpFzdt"
      },
      "source": [
        "droping the target variable \"Loan_Status\""
      ]
    },
    {
      "cell_type": "code",
      "metadata": {
        "trusted": true,
        "_uuid": "c104efaf293248e4e3a5b887fde7d926440e0866",
        "id": "HO9WNPrpFzdu"
      },
      "source": [
        "X=train.drop(\"Loan_Status\",1)"
      ],
      "execution_count": null,
      "outputs": []
    },
    {
      "cell_type": "code",
      "metadata": {
        "trusted": true,
        "_uuid": "19253f4905cf8e616003bd5d9ece39f5f8543795",
        "id": "_LKN-Ad2Fzdx",
        "colab": {
          "base_uri": "https://localhost:8080/",
          "height": 126
        },
        "outputId": "9dbccf8c-b230-440f-e913-7283b55f421f"
      },
      "source": [
        "X.head(2)"
      ],
      "execution_count": null,
      "outputs": [
        {
          "output_type": "execute_result",
          "data": {
            "text/html": [
              "<div>\n",
              "<style scoped>\n",
              "    .dataframe tbody tr th:only-of-type {\n",
              "        vertical-align: middle;\n",
              "    }\n",
              "\n",
              "    .dataframe tbody tr th {\n",
              "        vertical-align: top;\n",
              "    }\n",
              "\n",
              "    .dataframe thead th {\n",
              "        text-align: right;\n",
              "    }\n",
              "</style>\n",
              "<table border=\"1\" class=\"dataframe\">\n",
              "  <thead>\n",
              "    <tr style=\"text-align: right;\">\n",
              "      <th></th>\n",
              "      <th>Gender</th>\n",
              "      <th>Married</th>\n",
              "      <th>Dependents</th>\n",
              "      <th>Education</th>\n",
              "      <th>Self_Employed</th>\n",
              "      <th>Credit_History</th>\n",
              "      <th>Property_Area</th>\n",
              "      <th>LoanAmount_log</th>\n",
              "      <th>TotalIncome</th>\n",
              "      <th>TotalIncome_log</th>\n",
              "      <th>EMI</th>\n",
              "      <th>Balance_Income</th>\n",
              "    </tr>\n",
              "  </thead>\n",
              "  <tbody>\n",
              "    <tr>\n",
              "      <th>0</th>\n",
              "      <td>Male</td>\n",
              "      <td>No</td>\n",
              "      <td>0</td>\n",
              "      <td>Graduate</td>\n",
              "      <td>No</td>\n",
              "      <td>1.0</td>\n",
              "      <td>Urban</td>\n",
              "      <td>4.85203</td>\n",
              "      <td>5849.0</td>\n",
              "      <td>8.674026</td>\n",
              "      <td>0.355556</td>\n",
              "      <td>5493.444444</td>\n",
              "    </tr>\n",
              "    <tr>\n",
              "      <th>1</th>\n",
              "      <td>Male</td>\n",
              "      <td>Yes</td>\n",
              "      <td>1</td>\n",
              "      <td>Graduate</td>\n",
              "      <td>No</td>\n",
              "      <td>1.0</td>\n",
              "      <td>Rural</td>\n",
              "      <td>4.85203</td>\n",
              "      <td>6091.0</td>\n",
              "      <td>8.714568</td>\n",
              "      <td>0.355556</td>\n",
              "      <td>5735.444444</td>\n",
              "    </tr>\n",
              "  </tbody>\n",
              "</table>\n",
              "</div>"
            ],
            "text/plain": [
              "  Gender Married Dependents  ... TotalIncome_log       EMI  Balance_Income\n",
              "0   Male      No          0  ...        8.674026  0.355556     5493.444444\n",
              "1   Male     Yes          1  ...        8.714568  0.355556     5735.444444\n",
              "\n",
              "[2 rows x 12 columns]"
            ]
          },
          "metadata": {
            "tags": []
          },
          "execution_count": 107
        }
      ]
    },
    {
      "cell_type": "markdown",
      "metadata": {
        "_uuid": "b8a8e11f18cc64e60f06f0ff76ce720b16b5b370",
        "id": "qsedsegyFzd3"
      },
      "source": [
        "save the target variable \"Loan_Status\" in another dataset"
      ]
    },
    {
      "cell_type": "code",
      "metadata": {
        "trusted": true,
        "_uuid": "193d3661cbd73a672f5ea18db68a6ba279b06b06",
        "id": "fJuA4kQVFzd4"
      },
      "source": [
        "y=train[[\"Loan_Status\"]]"
      ],
      "execution_count": null,
      "outputs": []
    },
    {
      "cell_type": "code",
      "metadata": {
        "trusted": true,
        "_uuid": "12954bd4adb6d51a736b625450a3d1c29ffe823b",
        "id": "ah55zqv0Fzd8",
        "colab": {
          "base_uri": "https://localhost:8080/",
          "height": 106
        },
        "outputId": "22ecf11c-3d50-4a7a-b75d-5c414fcf26ce"
      },
      "source": [
        "y.head(2)"
      ],
      "execution_count": null,
      "outputs": [
        {
          "output_type": "execute_result",
          "data": {
            "text/html": [
              "<div>\n",
              "<style scoped>\n",
              "    .dataframe tbody tr th:only-of-type {\n",
              "        vertical-align: middle;\n",
              "    }\n",
              "\n",
              "    .dataframe tbody tr th {\n",
              "        vertical-align: top;\n",
              "    }\n",
              "\n",
              "    .dataframe thead th {\n",
              "        text-align: right;\n",
              "    }\n",
              "</style>\n",
              "<table border=\"1\" class=\"dataframe\">\n",
              "  <thead>\n",
              "    <tr style=\"text-align: right;\">\n",
              "      <th></th>\n",
              "      <th>Loan_Status</th>\n",
              "    </tr>\n",
              "  </thead>\n",
              "  <tbody>\n",
              "    <tr>\n",
              "      <th>0</th>\n",
              "      <td>1</td>\n",
              "    </tr>\n",
              "    <tr>\n",
              "      <th>1</th>\n",
              "      <td>0</td>\n",
              "    </tr>\n",
              "  </tbody>\n",
              "</table>\n",
              "</div>"
            ],
            "text/plain": [
              "   Loan_Status\n",
              "0            1\n",
              "1            0"
            ]
          },
          "metadata": {
            "tags": []
          },
          "execution_count": 109
        }
      ]
    },
    {
      "cell_type": "markdown",
      "metadata": {
        "_uuid": "6e953caa8b6703a1809af04fc70a99ac4ad0d8b6",
        "id": "c5yzRf_uFzeA"
      },
      "source": [
        "Now we will make dummy variables for the categorical variables. Dummy variable turns categorical variables into a series of 0 and 1, making them lot easier to quantify and compare. \n",
        "\n",
        "Let us understand the process of dummies first:"
      ]
    },
    {
      "cell_type": "markdown",
      "metadata": {
        "_uuid": "9aaf423488821ee0ba6cf25067d7e8d26f15ec73",
        "id": "Xl4NYeFxFzeB"
      },
      "source": [
        "Consider the “Gender” variable. It has two classes, Male and Female.\n",
        "\n",
        "As logistic regression takes only the numerical values as input, we have to change male and female into numerical value.\n",
        "\n",
        "Once we apply dummies to this variable, it will convert the “Gender” variable into two variables(Gender_Male and Gender_Female),\n",
        "one for each class, i.e. Male and Female.\n",
        "\n",
        "\n",
        "Gender_Male will have a value of 0 if the gender is Female and a value of 1 if the gender is Male."
      ]
    },
    {
      "cell_type": "code",
      "metadata": {
        "trusted": true,
        "_uuid": "47897cac8f4f1bc6bb0b76c0d5fb4e418561b1ee",
        "id": "butUfxpPFzeB"
      },
      "source": [
        "X = pd.get_dummies(X)"
      ],
      "execution_count": null,
      "outputs": []
    },
    {
      "cell_type": "code",
      "metadata": {
        "trusted": true,
        "_uuid": "4ecdc1c4afdb305e39d237a19700e921fb871d3b",
        "id": "e5CGBM9WFzeG",
        "colab": {
          "base_uri": "https://localhost:8080/",
          "height": 173
        },
        "outputId": "9c3dd928-8c7f-447b-e8be-a666ed08b79a"
      },
      "source": [
        "X.head(3)"
      ],
      "execution_count": null,
      "outputs": [
        {
          "output_type": "execute_result",
          "data": {
            "text/html": [
              "<div>\n",
              "<style scoped>\n",
              "    .dataframe tbody tr th:only-of-type {\n",
              "        vertical-align: middle;\n",
              "    }\n",
              "\n",
              "    .dataframe tbody tr th {\n",
              "        vertical-align: top;\n",
              "    }\n",
              "\n",
              "    .dataframe thead th {\n",
              "        text-align: right;\n",
              "    }\n",
              "</style>\n",
              "<table border=\"1\" class=\"dataframe\">\n",
              "  <thead>\n",
              "    <tr style=\"text-align: right;\">\n",
              "      <th></th>\n",
              "      <th>Credit_History</th>\n",
              "      <th>LoanAmount_log</th>\n",
              "      <th>TotalIncome</th>\n",
              "      <th>TotalIncome_log</th>\n",
              "      <th>EMI</th>\n",
              "      <th>Balance_Income</th>\n",
              "      <th>Gender_Female</th>\n",
              "      <th>Gender_Male</th>\n",
              "      <th>Married_No</th>\n",
              "      <th>Married_Yes</th>\n",
              "      <th>Dependents_3</th>\n",
              "      <th>Dependents_0</th>\n",
              "      <th>Dependents_1</th>\n",
              "      <th>Dependents_2</th>\n",
              "      <th>Education_Graduate</th>\n",
              "      <th>Education_Not Graduate</th>\n",
              "      <th>Self_Employed_No</th>\n",
              "      <th>Self_Employed_Yes</th>\n",
              "      <th>Property_Area_Rural</th>\n",
              "      <th>Property_Area_Semiurban</th>\n",
              "      <th>Property_Area_Urban</th>\n",
              "    </tr>\n",
              "  </thead>\n",
              "  <tbody>\n",
              "    <tr>\n",
              "      <th>0</th>\n",
              "      <td>1.0</td>\n",
              "      <td>4.852030</td>\n",
              "      <td>5849.0</td>\n",
              "      <td>8.674026</td>\n",
              "      <td>0.355556</td>\n",
              "      <td>5493.444444</td>\n",
              "      <td>0</td>\n",
              "      <td>1</td>\n",
              "      <td>1</td>\n",
              "      <td>0</td>\n",
              "      <td>0</td>\n",
              "      <td>1</td>\n",
              "      <td>0</td>\n",
              "      <td>0</td>\n",
              "      <td>1</td>\n",
              "      <td>0</td>\n",
              "      <td>1</td>\n",
              "      <td>0</td>\n",
              "      <td>0</td>\n",
              "      <td>0</td>\n",
              "      <td>1</td>\n",
              "    </tr>\n",
              "    <tr>\n",
              "      <th>1</th>\n",
              "      <td>1.0</td>\n",
              "      <td>4.852030</td>\n",
              "      <td>6091.0</td>\n",
              "      <td>8.714568</td>\n",
              "      <td>0.355556</td>\n",
              "      <td>5735.444444</td>\n",
              "      <td>0</td>\n",
              "      <td>1</td>\n",
              "      <td>0</td>\n",
              "      <td>1</td>\n",
              "      <td>0</td>\n",
              "      <td>0</td>\n",
              "      <td>1</td>\n",
              "      <td>0</td>\n",
              "      <td>1</td>\n",
              "      <td>0</td>\n",
              "      <td>1</td>\n",
              "      <td>0</td>\n",
              "      <td>1</td>\n",
              "      <td>0</td>\n",
              "      <td>0</td>\n",
              "    </tr>\n",
              "    <tr>\n",
              "      <th>2</th>\n",
              "      <td>1.0</td>\n",
              "      <td>4.189655</td>\n",
              "      <td>3000.0</td>\n",
              "      <td>8.006368</td>\n",
              "      <td>0.183333</td>\n",
              "      <td>2816.666667</td>\n",
              "      <td>0</td>\n",
              "      <td>1</td>\n",
              "      <td>0</td>\n",
              "      <td>1</td>\n",
              "      <td>0</td>\n",
              "      <td>1</td>\n",
              "      <td>0</td>\n",
              "      <td>0</td>\n",
              "      <td>1</td>\n",
              "      <td>0</td>\n",
              "      <td>0</td>\n",
              "      <td>1</td>\n",
              "      <td>0</td>\n",
              "      <td>0</td>\n",
              "      <td>1</td>\n",
              "    </tr>\n",
              "  </tbody>\n",
              "</table>\n",
              "</div>"
            ],
            "text/plain": [
              "   Credit_History  LoanAmount_log  ...  Property_Area_Semiurban  Property_Area_Urban\n",
              "0             1.0        4.852030  ...                        0                    1\n",
              "1             1.0        4.852030  ...                        0                    0\n",
              "2             1.0        4.189655  ...                        0                    1\n",
              "\n",
              "[3 rows x 21 columns]"
            ]
          },
          "metadata": {
            "tags": []
          },
          "execution_count": 111
        }
      ]
    },
    {
      "cell_type": "code",
      "metadata": {
        "trusted": true,
        "_uuid": "5849fb86b374237185ac491d155a6e52000c8c26",
        "id": "Pfl2jtJvFzeK"
      },
      "source": [
        "train=pd.get_dummies(train)\n",
        "test=pd.get_dummies(test)"
      ],
      "execution_count": null,
      "outputs": []
    },
    {
      "cell_type": "code",
      "metadata": {
        "trusted": true,
        "_uuid": "65d7d6185509c119f1cee79166cb0558d69f8713",
        "id": "dNZZsJY0FzeP",
        "colab": {
          "base_uri": "https://localhost:8080/",
          "height": 173
        },
        "outputId": "fcc33e2e-984d-401c-a01b-11fb704b4452"
      },
      "source": [
        "train.head(3)"
      ],
      "execution_count": null,
      "outputs": [
        {
          "output_type": "execute_result",
          "data": {
            "text/html": [
              "<div>\n",
              "<style scoped>\n",
              "    .dataframe tbody tr th:only-of-type {\n",
              "        vertical-align: middle;\n",
              "    }\n",
              "\n",
              "    .dataframe tbody tr th {\n",
              "        vertical-align: top;\n",
              "    }\n",
              "\n",
              "    .dataframe thead th {\n",
              "        text-align: right;\n",
              "    }\n",
              "</style>\n",
              "<table border=\"1\" class=\"dataframe\">\n",
              "  <thead>\n",
              "    <tr style=\"text-align: right;\">\n",
              "      <th></th>\n",
              "      <th>Credit_History</th>\n",
              "      <th>Loan_Status</th>\n",
              "      <th>LoanAmount_log</th>\n",
              "      <th>TotalIncome</th>\n",
              "      <th>TotalIncome_log</th>\n",
              "      <th>EMI</th>\n",
              "      <th>Balance_Income</th>\n",
              "      <th>Gender_Female</th>\n",
              "      <th>Gender_Male</th>\n",
              "      <th>Married_No</th>\n",
              "      <th>Married_Yes</th>\n",
              "      <th>Dependents_3</th>\n",
              "      <th>Dependents_0</th>\n",
              "      <th>Dependents_1</th>\n",
              "      <th>Dependents_2</th>\n",
              "      <th>Education_Graduate</th>\n",
              "      <th>Education_Not Graduate</th>\n",
              "      <th>Self_Employed_No</th>\n",
              "      <th>Self_Employed_Yes</th>\n",
              "      <th>Property_Area_Rural</th>\n",
              "      <th>Property_Area_Semiurban</th>\n",
              "      <th>Property_Area_Urban</th>\n",
              "    </tr>\n",
              "  </thead>\n",
              "  <tbody>\n",
              "    <tr>\n",
              "      <th>0</th>\n",
              "      <td>1.0</td>\n",
              "      <td>1</td>\n",
              "      <td>4.852030</td>\n",
              "      <td>5849.0</td>\n",
              "      <td>8.674026</td>\n",
              "      <td>0.355556</td>\n",
              "      <td>5493.444444</td>\n",
              "      <td>0</td>\n",
              "      <td>1</td>\n",
              "      <td>1</td>\n",
              "      <td>0</td>\n",
              "      <td>0</td>\n",
              "      <td>1</td>\n",
              "      <td>0</td>\n",
              "      <td>0</td>\n",
              "      <td>1</td>\n",
              "      <td>0</td>\n",
              "      <td>1</td>\n",
              "      <td>0</td>\n",
              "      <td>0</td>\n",
              "      <td>0</td>\n",
              "      <td>1</td>\n",
              "    </tr>\n",
              "    <tr>\n",
              "      <th>1</th>\n",
              "      <td>1.0</td>\n",
              "      <td>0</td>\n",
              "      <td>4.852030</td>\n",
              "      <td>6091.0</td>\n",
              "      <td>8.714568</td>\n",
              "      <td>0.355556</td>\n",
              "      <td>5735.444444</td>\n",
              "      <td>0</td>\n",
              "      <td>1</td>\n",
              "      <td>0</td>\n",
              "      <td>1</td>\n",
              "      <td>0</td>\n",
              "      <td>0</td>\n",
              "      <td>1</td>\n",
              "      <td>0</td>\n",
              "      <td>1</td>\n",
              "      <td>0</td>\n",
              "      <td>1</td>\n",
              "      <td>0</td>\n",
              "      <td>1</td>\n",
              "      <td>0</td>\n",
              "      <td>0</td>\n",
              "    </tr>\n",
              "    <tr>\n",
              "      <th>2</th>\n",
              "      <td>1.0</td>\n",
              "      <td>1</td>\n",
              "      <td>4.189655</td>\n",
              "      <td>3000.0</td>\n",
              "      <td>8.006368</td>\n",
              "      <td>0.183333</td>\n",
              "      <td>2816.666667</td>\n",
              "      <td>0</td>\n",
              "      <td>1</td>\n",
              "      <td>0</td>\n",
              "      <td>1</td>\n",
              "      <td>0</td>\n",
              "      <td>1</td>\n",
              "      <td>0</td>\n",
              "      <td>0</td>\n",
              "      <td>1</td>\n",
              "      <td>0</td>\n",
              "      <td>0</td>\n",
              "      <td>1</td>\n",
              "      <td>0</td>\n",
              "      <td>0</td>\n",
              "      <td>1</td>\n",
              "    </tr>\n",
              "  </tbody>\n",
              "</table>\n",
              "</div>"
            ],
            "text/plain": [
              "   Credit_History  Loan_Status  ...  Property_Area_Semiurban  Property_Area_Urban\n",
              "0             1.0            1  ...                        0                    1\n",
              "1             1.0            0  ...                        0                    0\n",
              "2             1.0            1  ...                        0                    1\n",
              "\n",
              "[3 rows x 22 columns]"
            ]
          },
          "metadata": {
            "tags": []
          },
          "execution_count": 113
        }
      ]
    },
    {
      "cell_type": "code",
      "metadata": {
        "trusted": true,
        "_uuid": "b0b6fe929ee06556152b590f74037085624476ec",
        "id": "Xpwt0qa1FzeY",
        "colab": {
          "base_uri": "https://localhost:8080/",
          "height": 173
        },
        "outputId": "91600972-55d9-42ce-a0bf-a5374b7c76e8"
      },
      "source": [
        "test.head(3)"
      ],
      "execution_count": null,
      "outputs": [
        {
          "output_type": "execute_result",
          "data": {
            "text/html": [
              "<div>\n",
              "<style scoped>\n",
              "    .dataframe tbody tr th:only-of-type {\n",
              "        vertical-align: middle;\n",
              "    }\n",
              "\n",
              "    .dataframe tbody tr th {\n",
              "        vertical-align: top;\n",
              "    }\n",
              "\n",
              "    .dataframe thead th {\n",
              "        text-align: right;\n",
              "    }\n",
              "</style>\n",
              "<table border=\"1\" class=\"dataframe\">\n",
              "  <thead>\n",
              "    <tr style=\"text-align: right;\">\n",
              "      <th></th>\n",
              "      <th>Credit_History</th>\n",
              "      <th>LoanAmount_log</th>\n",
              "      <th>TotalIncome</th>\n",
              "      <th>TotalIncome_log</th>\n",
              "      <th>EMI</th>\n",
              "      <th>Balance_Income</th>\n",
              "      <th>Gender_Female</th>\n",
              "      <th>Gender_Male</th>\n",
              "      <th>Married_No</th>\n",
              "      <th>Married_Yes</th>\n",
              "      <th>Dependents_3</th>\n",
              "      <th>Dependents_0</th>\n",
              "      <th>Dependents_1</th>\n",
              "      <th>Dependents_2</th>\n",
              "      <th>Education_Graduate</th>\n",
              "      <th>Education_Not Graduate</th>\n",
              "      <th>Self_Employed_No</th>\n",
              "      <th>Self_Employed_Yes</th>\n",
              "      <th>Property_Area_Rural</th>\n",
              "      <th>Property_Area_Semiurban</th>\n",
              "      <th>Property_Area_Urban</th>\n",
              "    </tr>\n",
              "  </thead>\n",
              "  <tbody>\n",
              "    <tr>\n",
              "      <th>0</th>\n",
              "      <td>1.0</td>\n",
              "      <td>4.852030</td>\n",
              "      <td>5720</td>\n",
              "      <td>8.674026</td>\n",
              "      <td>0.305556</td>\n",
              "      <td>5719.694444</td>\n",
              "      <td>0</td>\n",
              "      <td>1</td>\n",
              "      <td>0</td>\n",
              "      <td>1</td>\n",
              "      <td>0</td>\n",
              "      <td>1</td>\n",
              "      <td>0</td>\n",
              "      <td>0</td>\n",
              "      <td>1</td>\n",
              "      <td>0</td>\n",
              "      <td>1</td>\n",
              "      <td>0</td>\n",
              "      <td>0</td>\n",
              "      <td>0</td>\n",
              "      <td>1</td>\n",
              "    </tr>\n",
              "    <tr>\n",
              "      <th>1</th>\n",
              "      <td>1.0</td>\n",
              "      <td>4.852030</td>\n",
              "      <td>4576</td>\n",
              "      <td>8.714568</td>\n",
              "      <td>0.350000</td>\n",
              "      <td>4575.650000</td>\n",
              "      <td>0</td>\n",
              "      <td>1</td>\n",
              "      <td>0</td>\n",
              "      <td>1</td>\n",
              "      <td>0</td>\n",
              "      <td>0</td>\n",
              "      <td>1</td>\n",
              "      <td>0</td>\n",
              "      <td>1</td>\n",
              "      <td>0</td>\n",
              "      <td>1</td>\n",
              "      <td>0</td>\n",
              "      <td>0</td>\n",
              "      <td>0</td>\n",
              "      <td>1</td>\n",
              "    </tr>\n",
              "    <tr>\n",
              "      <th>2</th>\n",
              "      <td>1.0</td>\n",
              "      <td>4.189655</td>\n",
              "      <td>6800</td>\n",
              "      <td>8.006368</td>\n",
              "      <td>0.577778</td>\n",
              "      <td>6799.422222</td>\n",
              "      <td>0</td>\n",
              "      <td>1</td>\n",
              "      <td>0</td>\n",
              "      <td>1</td>\n",
              "      <td>0</td>\n",
              "      <td>0</td>\n",
              "      <td>0</td>\n",
              "      <td>1</td>\n",
              "      <td>1</td>\n",
              "      <td>0</td>\n",
              "      <td>1</td>\n",
              "      <td>0</td>\n",
              "      <td>0</td>\n",
              "      <td>0</td>\n",
              "      <td>1</td>\n",
              "    </tr>\n",
              "  </tbody>\n",
              "</table>\n",
              "</div>"
            ],
            "text/plain": [
              "   Credit_History  LoanAmount_log  ...  Property_Area_Semiurban  Property_Area_Urban\n",
              "0             1.0        4.852030  ...                        0                    1\n",
              "1             1.0        4.852030  ...                        0                    1\n",
              "2             1.0        4.189655  ...                        0                    1\n",
              "\n",
              "[3 rows x 21 columns]"
            ]
          },
          "metadata": {
            "tags": []
          },
          "execution_count": 114
        }
      ]
    },
    {
      "cell_type": "markdown",
      "metadata": {
        "_uuid": "2619abfc26a29a1e685ecd7f0a37df7ae94b4f2c",
        "id": "khidJwiLFzed"
      },
      "source": [
        "Now we will train the model on training dataset and make predictions for the test dataset. But can we validate these predictions?\n",
        "One way of doing this is we can divide our train dataset into two parts:train and validation.\n",
        "We can train the model on this train part and using that make predictions for the validation part.\n",
        "In this way we can validate our predictions as we have the true predictions for the validation part (which we do not have for the test dataset)."
      ]
    },
    {
      "cell_type": "markdown",
      "metadata": {
        "_uuid": "56724b726ad64aef11a0f6dfa90a470cef2a634a",
        "id": "Fk2lL2nBFzed"
      },
      "source": [
        "\n",
        "\n",
        "We will use the train_test_split function from sklearn to divide our train dataset. So, first let us import train_test_split."
      ]
    },
    {
      "cell_type": "code",
      "metadata": {
        "trusted": true,
        "_uuid": "3a0ef20360693aa2dc4753424f04182b4f54b7bb",
        "id": "PWuMAaxoFzee"
      },
      "source": [
        "from sklearn.model_selection import train_test_split"
      ],
      "execution_count": null,
      "outputs": []
    },
    {
      "cell_type": "code",
      "metadata": {
        "trusted": true,
        "_uuid": "27ba6fc88f59953263ccb3804a893438370e647b",
        "id": "ZOgSRzRYFzei"
      },
      "source": [
        "x_train,x_cv,y_train,y_cv=train_test_split(X,y,test_size=0.3,random_state=1)"
      ],
      "execution_count": null,
      "outputs": []
    },
    {
      "cell_type": "markdown",
      "metadata": {
        "_uuid": "c1f8ce9b54cf71a8056dc21e4ab7d43653c57759",
        "id": "5c0z4CkJFzep"
      },
      "source": [
        "The dataset has been divided into training and validation part.\n",
        "\n",
        "70% data will use for train the model and rest of the 30% data will use for checking validation of the model. "
      ]
    },
    {
      "cell_type": "markdown",
      "metadata": {
        "_uuid": "7557d3aeb1981a5ce7b8309f0f51efd656f68a6b",
        "id": "si47dpmvFzeq"
      },
      "source": [
        "# Logistic Regression"
      ]
    },
    {
      "cell_type": "markdown",
      "metadata": {
        "_uuid": "173efa1eda104ff6cdbb5751200625644924663a",
        "id": "wDhUhNNXFzer"
      },
      "source": [
        "Let's import LogisticRegression and accuracy_score from sklearn and fit the logistic regression model."
      ]
    },
    {
      "cell_type": "code",
      "metadata": {
        "trusted": true,
        "_uuid": "ec196aaf363a59297c067bfe01f288de066e1544",
        "id": "4f_usrrTFzet"
      },
      "source": [
        "from sklearn.linear_model import LogisticRegression\n",
        "from sklearn.metrics import accuracy_score"
      ],
      "execution_count": null,
      "outputs": []
    },
    {
      "cell_type": "code",
      "metadata": {
        "trusted": true,
        "_uuid": "eb1ffac44c357932290298b850f7a4ef4ab0569c",
        "id": "uAP5FDJsFzew"
      },
      "source": [
        "logistic_model = LogisticRegression(random_state=1)"
      ],
      "execution_count": null,
      "outputs": []
    },
    {
      "cell_type": "code",
      "metadata": {
        "trusted": true,
        "_uuid": "86ee315d51dafe52d2bff3dbb6be12270f0e1082",
        "id": "5mLQ2n30Fze0",
        "colab": {
          "base_uri": "https://localhost:8080/",
          "height": 101
        },
        "outputId": "35940c9c-43cb-462f-e58b-670f19c985a2"
      },
      "source": [
        "logistic_model.fit(x_train,y_train)"
      ],
      "execution_count": null,
      "outputs": [
        {
          "output_type": "execute_result",
          "data": {
            "text/plain": [
              "LogisticRegression(C=1.0, class_weight=None, dual=False, fit_intercept=True,\n",
              "                   intercept_scaling=1, l1_ratio=None, max_iter=100,\n",
              "                   multi_class='auto', n_jobs=None, penalty='l2',\n",
              "                   random_state=1, solver='lbfgs', tol=0.0001, verbose=0,\n",
              "                   warm_start=False)"
            ]
          },
          "metadata": {
            "tags": []
          },
          "execution_count": 119
        }
      ]
    },
    {
      "cell_type": "markdown",
      "metadata": {
        "_uuid": "31b3f7a159c00adbaf6fb913654369b5925142c8",
        "id": "6ODdCwrLFze9"
      },
      "source": [
        "Let’s predict the Loan_Status for validation set"
      ]
    },
    {
      "cell_type": "code",
      "metadata": {
        "trusted": true,
        "_uuid": "4368bd0b148a47fcfda60fe1b1b2cebdd6857073",
        "id": "IVJmmLEuFze-"
      },
      "source": [
        "pred_cv_logistic=logistic_model.predict(x_cv)"
      ],
      "execution_count": null,
      "outputs": []
    },
    {
      "cell_type": "markdown",
      "metadata": {
        "_uuid": "38b322e103d1513778803ee664876b8d45563eef",
        "id": "S5XiRselFzfB"
      },
      "source": [
        "Now calculate how accurate our predictions are by calculating the accuracy."
      ]
    },
    {
      "cell_type": "markdown",
      "metadata": {
        "id": "IKag1QZmFzfC"
      },
      "source": [
        ""
      ]
    },
    {
      "cell_type": "code",
      "metadata": {
        "trusted": true,
        "_uuid": "1848df46293ce9254398468e7f11485ec01d3843",
        "id": "zkxrbvoHFzfG"
      },
      "source": [
        "score_logistic =accuracy_score(pred_cv_logistic,y_cv)*100 "
      ],
      "execution_count": null,
      "outputs": []
    },
    {
      "cell_type": "code",
      "metadata": {
        "trusted": true,
        "id": "uz5aFj1iFzfL"
      },
      "source": [
        ""
      ],
      "execution_count": null,
      "outputs": []
    },
    {
      "cell_type": "code",
      "metadata": {
        "trusted": true,
        "_uuid": "860581c8438aa107451f13c351522a7c976dbf61",
        "id": "yvY8uaR6FzfP",
        "colab": {
          "base_uri": "https://localhost:8080/",
          "height": 34
        },
        "outputId": "ac042b9b-bbb1-4703-f341-203816c0718b"
      },
      "source": [
        "score_logistic"
      ],
      "execution_count": null,
      "outputs": [
        {
          "output_type": "execute_result",
          "data": {
            "text/plain": [
              "75.67567567567568"
            ]
          },
          "metadata": {
            "tags": []
          },
          "execution_count": 122
        }
      ]
    },
    {
      "cell_type": "code",
      "metadata": {
        "trusted": true,
        "id": "KqnQ_tnIFzfT"
      },
      "source": [
        ""
      ],
      "execution_count": null,
      "outputs": []
    },
    {
      "cell_type": "markdown",
      "metadata": {
        "_uuid": "b60fa07995e333d08740823eff8b5e7de76a24f0",
        "id": "drEoWS8sFzfW"
      },
      "source": [
        "So our predictions are almost 79% accurate, i.e. we have identified 79% of the loan status correctly for our logistic regression model."
      ]
    },
    {
      "cell_type": "markdown",
      "metadata": {
        "_uuid": "a11387ca0a24e00333d1f183d70d6052dc5332b9",
        "id": "SAEUkc7DFzfX"
      },
      "source": [
        "Let’s make predictions for the test dataset."
      ]
    },
    {
      "cell_type": "code",
      "metadata": {
        "trusted": true,
        "_uuid": "90ca7a4591c33e435effe77ff5d9188f524bc4d3",
        "id": "coDnYW7HFzfY"
      },
      "source": [
        "pred_test_logistic = logistic_model.predict(test)"
      ],
      "execution_count": null,
      "outputs": []
    },
    {
      "cell_type": "code",
      "metadata": {
        "trusted": true,
        "id": "2c2bkAydFzfb",
        "colab": {
          "base_uri": "https://localhost:8080/",
          "height": 404
        },
        "outputId": "ceabd258-1423-442e-9118-4c33e64f33be"
      },
      "source": [
        "sample_submission=pd.read_csv(\"../input/bank-sample-submission/sample_submission1.csv\")\n",
        "sample_submission1=sample_submission.copy()"
      ],
      "execution_count": null,
      "outputs": [
        {
          "output_type": "error",
          "ename": "FileNotFoundError",
          "evalue": "ignored",
          "traceback": [
            "\u001b[0;31m---------------------------------------------------------------------------\u001b[0m",
            "\u001b[0;31mFileNotFoundError\u001b[0m                         Traceback (most recent call last)",
            "\u001b[0;32m<ipython-input-124-bda39cc28990>\u001b[0m in \u001b[0;36m<module>\u001b[0;34m()\u001b[0m\n\u001b[0;32m----> 1\u001b[0;31m \u001b[0msample_submission\u001b[0m\u001b[0;34m=\u001b[0m\u001b[0mpd\u001b[0m\u001b[0;34m.\u001b[0m\u001b[0mread_csv\u001b[0m\u001b[0;34m(\u001b[0m\u001b[0;34m\"../input/bank-sample-submission/sample_submission1.csv\"\u001b[0m\u001b[0;34m)\u001b[0m\u001b[0;34m\u001b[0m\u001b[0;34m\u001b[0m\u001b[0m\n\u001b[0m\u001b[1;32m      2\u001b[0m \u001b[0msample_submission1\u001b[0m\u001b[0;34m=\u001b[0m\u001b[0msample_submission\u001b[0m\u001b[0;34m.\u001b[0m\u001b[0mcopy\u001b[0m\u001b[0;34m(\u001b[0m\u001b[0;34m)\u001b[0m\u001b[0;34m\u001b[0m\u001b[0;34m\u001b[0m\u001b[0m\n",
            "\u001b[0;32m/usr/local/lib/python3.6/dist-packages/pandas/io/parsers.py\u001b[0m in \u001b[0;36mparser_f\u001b[0;34m(filepath_or_buffer, sep, delimiter, header, names, index_col, usecols, squeeze, prefix, mangle_dupe_cols, dtype, engine, converters, true_values, false_values, skipinitialspace, skiprows, skipfooter, nrows, na_values, keep_default_na, na_filter, verbose, skip_blank_lines, parse_dates, infer_datetime_format, keep_date_col, date_parser, dayfirst, cache_dates, iterator, chunksize, compression, thousands, decimal, lineterminator, quotechar, quoting, doublequote, escapechar, comment, encoding, dialect, error_bad_lines, warn_bad_lines, delim_whitespace, low_memory, memory_map, float_precision)\u001b[0m\n\u001b[1;32m    674\u001b[0m         )\n\u001b[1;32m    675\u001b[0m \u001b[0;34m\u001b[0m\u001b[0m\n\u001b[0;32m--> 676\u001b[0;31m         \u001b[0;32mreturn\u001b[0m \u001b[0m_read\u001b[0m\u001b[0;34m(\u001b[0m\u001b[0mfilepath_or_buffer\u001b[0m\u001b[0;34m,\u001b[0m \u001b[0mkwds\u001b[0m\u001b[0;34m)\u001b[0m\u001b[0;34m\u001b[0m\u001b[0;34m\u001b[0m\u001b[0m\n\u001b[0m\u001b[1;32m    677\u001b[0m \u001b[0;34m\u001b[0m\u001b[0m\n\u001b[1;32m    678\u001b[0m     \u001b[0mparser_f\u001b[0m\u001b[0;34m.\u001b[0m\u001b[0m__name__\u001b[0m \u001b[0;34m=\u001b[0m \u001b[0mname\u001b[0m\u001b[0;34m\u001b[0m\u001b[0;34m\u001b[0m\u001b[0m\n",
            "\u001b[0;32m/usr/local/lib/python3.6/dist-packages/pandas/io/parsers.py\u001b[0m in \u001b[0;36m_read\u001b[0;34m(filepath_or_buffer, kwds)\u001b[0m\n\u001b[1;32m    446\u001b[0m \u001b[0;34m\u001b[0m\u001b[0m\n\u001b[1;32m    447\u001b[0m     \u001b[0;31m# Create the parser.\u001b[0m\u001b[0;34m\u001b[0m\u001b[0;34m\u001b[0m\u001b[0;34m\u001b[0m\u001b[0m\n\u001b[0;32m--> 448\u001b[0;31m     \u001b[0mparser\u001b[0m \u001b[0;34m=\u001b[0m \u001b[0mTextFileReader\u001b[0m\u001b[0;34m(\u001b[0m\u001b[0mfp_or_buf\u001b[0m\u001b[0;34m,\u001b[0m \u001b[0;34m**\u001b[0m\u001b[0mkwds\u001b[0m\u001b[0;34m)\u001b[0m\u001b[0;34m\u001b[0m\u001b[0;34m\u001b[0m\u001b[0m\n\u001b[0m\u001b[1;32m    449\u001b[0m \u001b[0;34m\u001b[0m\u001b[0m\n\u001b[1;32m    450\u001b[0m     \u001b[0;32mif\u001b[0m \u001b[0mchunksize\u001b[0m \u001b[0;32mor\u001b[0m \u001b[0miterator\u001b[0m\u001b[0;34m:\u001b[0m\u001b[0;34m\u001b[0m\u001b[0;34m\u001b[0m\u001b[0m\n",
            "\u001b[0;32m/usr/local/lib/python3.6/dist-packages/pandas/io/parsers.py\u001b[0m in \u001b[0;36m__init__\u001b[0;34m(self, f, engine, **kwds)\u001b[0m\n\u001b[1;32m    878\u001b[0m             \u001b[0mself\u001b[0m\u001b[0;34m.\u001b[0m\u001b[0moptions\u001b[0m\u001b[0;34m[\u001b[0m\u001b[0;34m\"has_index_names\"\u001b[0m\u001b[0;34m]\u001b[0m \u001b[0;34m=\u001b[0m \u001b[0mkwds\u001b[0m\u001b[0;34m[\u001b[0m\u001b[0;34m\"has_index_names\"\u001b[0m\u001b[0;34m]\u001b[0m\u001b[0;34m\u001b[0m\u001b[0;34m\u001b[0m\u001b[0m\n\u001b[1;32m    879\u001b[0m \u001b[0;34m\u001b[0m\u001b[0m\n\u001b[0;32m--> 880\u001b[0;31m         \u001b[0mself\u001b[0m\u001b[0;34m.\u001b[0m\u001b[0m_make_engine\u001b[0m\u001b[0;34m(\u001b[0m\u001b[0mself\u001b[0m\u001b[0;34m.\u001b[0m\u001b[0mengine\u001b[0m\u001b[0;34m)\u001b[0m\u001b[0;34m\u001b[0m\u001b[0;34m\u001b[0m\u001b[0m\n\u001b[0m\u001b[1;32m    881\u001b[0m \u001b[0;34m\u001b[0m\u001b[0m\n\u001b[1;32m    882\u001b[0m     \u001b[0;32mdef\u001b[0m \u001b[0mclose\u001b[0m\u001b[0;34m(\u001b[0m\u001b[0mself\u001b[0m\u001b[0;34m)\u001b[0m\u001b[0;34m:\u001b[0m\u001b[0;34m\u001b[0m\u001b[0;34m\u001b[0m\u001b[0m\n",
            "\u001b[0;32m/usr/local/lib/python3.6/dist-packages/pandas/io/parsers.py\u001b[0m in \u001b[0;36m_make_engine\u001b[0;34m(self, engine)\u001b[0m\n\u001b[1;32m   1112\u001b[0m     \u001b[0;32mdef\u001b[0m \u001b[0m_make_engine\u001b[0m\u001b[0;34m(\u001b[0m\u001b[0mself\u001b[0m\u001b[0;34m,\u001b[0m \u001b[0mengine\u001b[0m\u001b[0;34m=\u001b[0m\u001b[0;34m\"c\"\u001b[0m\u001b[0;34m)\u001b[0m\u001b[0;34m:\u001b[0m\u001b[0;34m\u001b[0m\u001b[0;34m\u001b[0m\u001b[0m\n\u001b[1;32m   1113\u001b[0m         \u001b[0;32mif\u001b[0m \u001b[0mengine\u001b[0m \u001b[0;34m==\u001b[0m \u001b[0;34m\"c\"\u001b[0m\u001b[0;34m:\u001b[0m\u001b[0;34m\u001b[0m\u001b[0;34m\u001b[0m\u001b[0m\n\u001b[0;32m-> 1114\u001b[0;31m             \u001b[0mself\u001b[0m\u001b[0;34m.\u001b[0m\u001b[0m_engine\u001b[0m \u001b[0;34m=\u001b[0m \u001b[0mCParserWrapper\u001b[0m\u001b[0;34m(\u001b[0m\u001b[0mself\u001b[0m\u001b[0;34m.\u001b[0m\u001b[0mf\u001b[0m\u001b[0;34m,\u001b[0m \u001b[0;34m**\u001b[0m\u001b[0mself\u001b[0m\u001b[0;34m.\u001b[0m\u001b[0moptions\u001b[0m\u001b[0;34m)\u001b[0m\u001b[0;34m\u001b[0m\u001b[0;34m\u001b[0m\u001b[0m\n\u001b[0m\u001b[1;32m   1115\u001b[0m         \u001b[0;32melse\u001b[0m\u001b[0;34m:\u001b[0m\u001b[0;34m\u001b[0m\u001b[0;34m\u001b[0m\u001b[0m\n\u001b[1;32m   1116\u001b[0m             \u001b[0;32mif\u001b[0m \u001b[0mengine\u001b[0m \u001b[0;34m==\u001b[0m \u001b[0;34m\"python\"\u001b[0m\u001b[0;34m:\u001b[0m\u001b[0;34m\u001b[0m\u001b[0;34m\u001b[0m\u001b[0m\n",
            "\u001b[0;32m/usr/local/lib/python3.6/dist-packages/pandas/io/parsers.py\u001b[0m in \u001b[0;36m__init__\u001b[0;34m(self, src, **kwds)\u001b[0m\n\u001b[1;32m   1889\u001b[0m         \u001b[0mkwds\u001b[0m\u001b[0;34m[\u001b[0m\u001b[0;34m\"usecols\"\u001b[0m\u001b[0;34m]\u001b[0m \u001b[0;34m=\u001b[0m \u001b[0mself\u001b[0m\u001b[0;34m.\u001b[0m\u001b[0musecols\u001b[0m\u001b[0;34m\u001b[0m\u001b[0;34m\u001b[0m\u001b[0m\n\u001b[1;32m   1890\u001b[0m \u001b[0;34m\u001b[0m\u001b[0m\n\u001b[0;32m-> 1891\u001b[0;31m         \u001b[0mself\u001b[0m\u001b[0;34m.\u001b[0m\u001b[0m_reader\u001b[0m \u001b[0;34m=\u001b[0m \u001b[0mparsers\u001b[0m\u001b[0;34m.\u001b[0m\u001b[0mTextReader\u001b[0m\u001b[0;34m(\u001b[0m\u001b[0msrc\u001b[0m\u001b[0;34m,\u001b[0m \u001b[0;34m**\u001b[0m\u001b[0mkwds\u001b[0m\u001b[0;34m)\u001b[0m\u001b[0;34m\u001b[0m\u001b[0;34m\u001b[0m\u001b[0m\n\u001b[0m\u001b[1;32m   1892\u001b[0m         \u001b[0mself\u001b[0m\u001b[0;34m.\u001b[0m\u001b[0munnamed_cols\u001b[0m \u001b[0;34m=\u001b[0m \u001b[0mself\u001b[0m\u001b[0;34m.\u001b[0m\u001b[0m_reader\u001b[0m\u001b[0;34m.\u001b[0m\u001b[0munnamed_cols\u001b[0m\u001b[0;34m\u001b[0m\u001b[0;34m\u001b[0m\u001b[0m\n\u001b[1;32m   1893\u001b[0m \u001b[0;34m\u001b[0m\u001b[0m\n",
            "\u001b[0;32mpandas/_libs/parsers.pyx\u001b[0m in \u001b[0;36mpandas._libs.parsers.TextReader.__cinit__\u001b[0;34m()\u001b[0m\n",
            "\u001b[0;32mpandas/_libs/parsers.pyx\u001b[0m in \u001b[0;36mpandas._libs.parsers.TextReader._setup_parser_source\u001b[0;34m()\u001b[0m\n",
            "\u001b[0;31mFileNotFoundError\u001b[0m: [Errno 2] File ../input/bank-sample-submission/sample_submission1.csv does not exist: '../input/bank-sample-submission/sample_submission1.csv'"
          ]
        }
      ]
    },
    {
      "cell_type": "markdown",
      "metadata": {
        "_uuid": "336ae525f49ec3339092f8a598c9c1755b6e4064",
        "id": "yJqSPj1BFzfe"
      },
      "source": [
        "# Decision Tree\n",
        "\n"
      ]
    },
    {
      "cell_type": "markdown",
      "metadata": {
        "_uuid": "a49ec57b6b6f166a38add32472ec71d9d3200f0c",
        "id": "zebFH51ZFzff"
      },
      "source": [
        "Let's import Decison Tree Classifier"
      ]
    },
    {
      "cell_type": "code",
      "metadata": {
        "trusted": true,
        "_uuid": "522ade5a0459f3c4948b7bcff4f9847694b84faa",
        "id": "bbmLy_OcFzfg"
      },
      "source": [
        "from sklearn.tree import DecisionTreeClassifier"
      ],
      "execution_count": null,
      "outputs": []
    },
    {
      "cell_type": "code",
      "metadata": {
        "trusted": true,
        "_uuid": "156fdee4a0654591e7b87203c68b74599daf7845",
        "id": "oW013H5MFzfl"
      },
      "source": [
        "tree_model = DecisionTreeClassifier(random_state=1)\n"
      ],
      "execution_count": null,
      "outputs": []
    },
    {
      "cell_type": "markdown",
      "metadata": {
        "_uuid": "0c16fa61500654715e4171bf5be563301a41e035",
        "id": "xVmTGz43Fzfp"
      },
      "source": [
        "Fit the model :"
      ]
    },
    {
      "cell_type": "code",
      "metadata": {
        "trusted": true,
        "_uuid": "ef13a3ab13d3f3ebc4a1fac682be69a625d787a2",
        "id": "g2l92oF8Fzfp"
      },
      "source": [
        "tree_model.fit(x_train,y_train)"
      ],
      "execution_count": null,
      "outputs": []
    },
    {
      "cell_type": "code",
      "metadata": {
        "trusted": true,
        "_uuid": "940612678c5d6f00e8f8600f0fe45510efba3e8c",
        "id": "bR5IeqTHFzft"
      },
      "source": [
        "pred_cv_tree=tree_model.predict(x_cv)"
      ],
      "execution_count": null,
      "outputs": []
    },
    {
      "cell_type": "code",
      "metadata": {
        "trusted": true,
        "_uuid": "4da1865f89d6ce4541ccff92d5feace408af37c0",
        "id": "P7usZommFzfw"
      },
      "source": [
        "score_tree =accuracy_score(pred_cv_tree,y_cv)*100 "
      ],
      "execution_count": null,
      "outputs": []
    },
    {
      "cell_type": "code",
      "metadata": {
        "trusted": true,
        "_uuid": "4066241b2e6c5312f949923b34b67808db42371b",
        "id": "gOnvE6wXFzfz"
      },
      "source": [
        "score_tree"
      ],
      "execution_count": null,
      "outputs": []
    },
    {
      "cell_type": "markdown",
      "metadata": {
        "_uuid": "981950c29feed3f3dc2ab50c419433d9a9f52237",
        "id": "xeDphct_Fzf2"
      },
      "source": [
        "our predictions are almost 71% accurate, i.e. we have identified 71% of the loan status correctly for our Decision tree model."
      ]
    },
    {
      "cell_type": "markdown",
      "metadata": {
        "_uuid": "83a491fdcc7aea177a678d85df79075970c0e1df",
        "id": "6TDg7Gn-Fzf3"
      },
      "source": [
        "Let’s make predictions for the test dataset."
      ]
    },
    {
      "cell_type": "code",
      "metadata": {
        "trusted": true,
        "_uuid": "6b66a08dfb3a92401c10584cf6f2d8e4459eb098",
        "id": "YqZH5MV2Fzf3"
      },
      "source": [
        "pred_test_tree = tree_model.predict(test)"
      ],
      "execution_count": null,
      "outputs": []
    },
    {
      "cell_type": "markdown",
      "metadata": {
        "_uuid": "a5a2c47455cce2230a6a40fd2e32e2a84cce2ad7",
        "id": "Ft-QBa8NFzf8"
      },
      "source": [
        "# Random Forest"
      ]
    },
    {
      "cell_type": "markdown",
      "metadata": {
        "_uuid": "ee68d73f8c827c6cdfbf56ac979f34b1e19c27c2",
        "id": "bPkxb29ZFzf8"
      },
      "source": [
        "i)RandomForest is a tree based bootstrapping algorithm wherein a certain no. of weak learners (decision trees) are combined to make a powerful prediction model."
      ]
    },
    {
      "cell_type": "markdown",
      "metadata": {
        "_uuid": "c496adff5ddcca9245fd90e2dab000b9cd31574b",
        "id": "EJLaHN4WFzf-"
      },
      "source": [
        "ii)For every individual learner, a random sample of rows and a few randomly chosen variables are used to build a decision tree model."
      ]
    },
    {
      "cell_type": "markdown",
      "metadata": {
        "_uuid": "47c2ff7791c8ee627cb7daf4475b070eb4d64d73",
        "id": "a5S_E56JFzf_"
      },
      "source": [
        "iii)Final prediction can be a function of all the predictions made by the individual learners."
      ]
    },
    {
      "cell_type": "markdown",
      "metadata": {
        "_uuid": "75f978b46bb58395f638759b62f5d12e5286cc53",
        "id": "h4m4PvtmFzgC"
      },
      "source": [
        "Let's import Random Forest Classifier"
      ]
    },
    {
      "cell_type": "code",
      "metadata": {
        "trusted": true,
        "_uuid": "5479b44f67e76889f76ae2b2c47582b63279a177",
        "id": "nvihGD6DFzgD"
      },
      "source": [
        "from sklearn.ensemble import RandomForestClassifier"
      ],
      "execution_count": null,
      "outputs": []
    },
    {
      "cell_type": "code",
      "metadata": {
        "trusted": true,
        "_uuid": "53c0c99a4700cd4d0ed627c6ccffea55bfb087c6",
        "id": "GgbGUEjzFzgG"
      },
      "source": [
        "forest_model = RandomForestClassifier(random_state=1,max_depth=10,n_estimators=50)"
      ],
      "execution_count": null,
      "outputs": []
    },
    {
      "cell_type": "code",
      "metadata": {
        "trusted": true,
        "_uuid": "380a6e70da7c565949392671b13ad4f954901f8b",
        "id": "a00S4dqTFzgK"
      },
      "source": [
        "forest_model.fit(x_train,y_train)"
      ],
      "execution_count": null,
      "outputs": []
    },
    {
      "cell_type": "code",
      "metadata": {
        "trusted": true,
        "_uuid": "8e73ed11cd5c399d43c0689e6addd0592c13940c",
        "id": "UK9tY2gPFzgN"
      },
      "source": [
        "pred_cv_forest=forest_model.predict(x_cv)"
      ],
      "execution_count": null,
      "outputs": []
    },
    {
      "cell_type": "code",
      "metadata": {
        "trusted": true,
        "_uuid": "f59db4398c4d495336de62a70f7ecf84ed391b0d",
        "id": "Wytey1uRFzgR"
      },
      "source": [
        "score_forest = accuracy_score(pred_cv_forest,y_cv)*100"
      ],
      "execution_count": null,
      "outputs": []
    },
    {
      "cell_type": "code",
      "metadata": {
        "trusted": true,
        "_uuid": "2eca3472b46be138bd04a226ba6e169be694018f",
        "id": "ACn-yTJ4Fzga"
      },
      "source": [
        "score_forest"
      ],
      "execution_count": null,
      "outputs": []
    },
    {
      "cell_type": "markdown",
      "metadata": {
        "_uuid": "c69a627d1eaeeecba6ae21ce627471744d1b17d3",
        "id": "kKB0mgJLFzgd"
      },
      "source": [
        "our predictions are almost 78% accurate, i.e. we have identified 78% of the loan status correctly for our Random Forest model."
      ]
    },
    {
      "cell_type": "markdown",
      "metadata": {
        "_uuid": "00bb5ec5b75803fffc049e0598205e7883d39998",
        "id": "eQibRqaNFzge"
      },
      "source": [
        "Let’s make predictions for the test dataset."
      ]
    },
    {
      "cell_type": "code",
      "metadata": {
        "trusted": true,
        "_uuid": "ca0c59cdd4a614e94f1ac13218b167f9a739be81",
        "id": "Rab9LiCxFzgf"
      },
      "source": [
        "pred_test_forest=forest_model.predict(test)"
      ],
      "execution_count": null,
      "outputs": []
    },
    {
      "cell_type": "markdown",
      "metadata": {
        "_uuid": "b3b76f1cdaccc0b7daea58c07aedf619f040d38f",
        "id": "rj5r_DtoFzgv"
      },
      "source": [
        "# Random Forest with Grid-search"
      ]
    },
    {
      "cell_type": "markdown",
      "metadata": {
        "_uuid": "b104d92fc382a63ca46dba93d5e2eeee39486148",
        "id": "LrgAB7bxFzgw"
      },
      "source": [
        "We will try to improve the accuracy by tuning the hyperparameters for this model. We will use grid search to get the optimized values of hyper parameters. Grid-search is a way to select the best of a family of hyper parameters, parametrized by a grid of parameters."
      ]
    },
    {
      "cell_type": "markdown",
      "metadata": {
        "_uuid": "3b5a334e8339000ad742dbc4ee01009cd6443fc8",
        "id": "VGrRua82Fzgx"
      },
      "source": [
        "We will tune the max_depth and n_estimators parameters. max_depth decides the maximum depth of the tree and n_estimators decides the number of trees that will be used in random forest model."
      ]
    },
    {
      "cell_type": "markdown",
      "metadata": {
        "_uuid": "2a118e40d60e00f96c85aa77137756a8a1774dee",
        "id": "kr5AHwWKFzgx"
      },
      "source": [
        "Let's import GridSearchCV"
      ]
    },
    {
      "cell_type": "code",
      "metadata": {
        "trusted": true,
        "_uuid": "d2447dc8d8c4b5298a6fe5de977162c85eb8ba16",
        "id": "N1wTu-lSFzg0"
      },
      "source": [
        "from sklearn.model_selection import GridSearchCV"
      ],
      "execution_count": null,
      "outputs": []
    },
    {
      "cell_type": "markdown",
      "metadata": {
        "_uuid": "24a94dc9c8670cddad597052e005dbcf57463c09",
        "id": "odkpLg2kFzg4"
      },
      "source": [
        "Provide range for max_depth from 1 to 20 with an interval of 2 and from 1 to 200 with an interval of 20 for n_estimators."
      ]
    },
    {
      "cell_type": "code",
      "metadata": {
        "trusted": true,
        "_uuid": "bf4e8c32948e00b6422baa42f92005f034af75f6",
        "id": "3_xuOiCoFzg4"
      },
      "source": [
        "paramgrid = {'max_depth': list(range(1,20,2)),'n_estimators':list(range(1,200,20))}"
      ],
      "execution_count": null,
      "outputs": []
    },
    {
      "cell_type": "code",
      "metadata": {
        "trusted": true,
        "_uuid": "5a2f77f5e4c28c65acae18fa0d3f3f1bc8a08ce6",
        "id": "rUWmUfVlFzhC"
      },
      "source": [
        "grid_search = GridSearchCV(RandomForestClassifier(random_state=1),paramgrid)"
      ],
      "execution_count": null,
      "outputs": []
    },
    {
      "cell_type": "markdown",
      "metadata": {
        "_uuid": "df58b8e496b3e58f2a97b025ae5972bd5a9c79bc",
        "id": "jaxQqq2JFzhG"
      },
      "source": [
        "Fit the grid search model"
      ]
    },
    {
      "cell_type": "code",
      "metadata": {
        "trusted": true,
        "_uuid": "a6ebf5fdb03acbb243330ebf8a891357a509db1a",
        "id": "dox9s1kUFzhG"
      },
      "source": [
        "grid_search.fit(x_train,y_train)"
      ],
      "execution_count": null,
      "outputs": []
    },
    {
      "cell_type": "markdown",
      "metadata": {
        "_uuid": "e8c2156220ec632aa60da5e975cfccc390b9792a",
        "id": "QocuK6nGFzhJ"
      },
      "source": [
        "Find out the optimized value"
      ]
    },
    {
      "cell_type": "code",
      "metadata": {
        "trusted": true,
        "_uuid": "b8a532e0938f68181e77f5b7e7fd7bb36e00ddd0",
        "id": "sOdlMxrzFzhK"
      },
      "source": [
        "grid_search.best_estimator_"
      ],
      "execution_count": null,
      "outputs": []
    },
    {
      "cell_type": "markdown",
      "metadata": {
        "_uuid": "72fc4b8c1263411aa570ab522be0429981a2e014",
        "id": "Weprplt-FzhZ"
      },
      "source": [
        "The optimized value for the max_depth variable is 3 and for n_estimator is 101,random_state = 1. Now let’s build the model using these optimized values."
      ]
    },
    {
      "cell_type": "code",
      "metadata": {
        "trusted": true,
        "_uuid": "a822c0dba5ff91f519da2cfced2cd4ae96d45dcb",
        "id": "CyAxsZMVFzha"
      },
      "source": [
        "grid_forest_model = RandomForestClassifier(random_state=1,max_depth=3,n_estimators=101)"
      ],
      "execution_count": null,
      "outputs": []
    },
    {
      "cell_type": "code",
      "metadata": {
        "trusted": true,
        "_uuid": "675164154ca17d4794650a779ebd81a840077f80",
        "id": "JzNK2KckFzhd"
      },
      "source": [
        "grid_forest_model.fit(x_train,y_train)"
      ],
      "execution_count": null,
      "outputs": []
    },
    {
      "cell_type": "code",
      "metadata": {
        "trusted": true,
        "_uuid": "0210c4aa2159bb26d5e7ecc6bcd5bcf2b8413a4c",
        "id": "h5mPwHfdFzhh"
      },
      "source": [
        "pred_grid_forest = grid_forest_model.predict(x_cv)"
      ],
      "execution_count": null,
      "outputs": []
    },
    {
      "cell_type": "code",
      "metadata": {
        "trusted": true,
        "_uuid": "6400b3bc2c27a4a61525d7757442d6478d57f09c",
        "id": "mQx87IL2Fzho"
      },
      "source": [
        "score_grid_forest = accuracy_score(pred_grid_forest,y_cv)*100"
      ],
      "execution_count": null,
      "outputs": []
    },
    {
      "cell_type": "code",
      "metadata": {
        "trusted": true,
        "_uuid": "0783ff4338527ba0749d2afb4712630d738343fb",
        "id": "43svPBNjFzhr"
      },
      "source": [
        "score_grid_forest"
      ],
      "execution_count": null,
      "outputs": []
    },
    {
      "cell_type": "markdown",
      "metadata": {
        "_uuid": "2766f072ffdc6bb216a44142286c08426ea20043",
        "id": "gAjxv1JOFzhv"
      },
      "source": [
        "our predictions are almost 77% accurate, i.e. we have identified 77% of the loan status correctly for our Random Forest model with grid search."
      ]
    },
    {
      "cell_type": "code",
      "metadata": {
        "trusted": true,
        "_uuid": "d624ff63c8b4d32fc808b2a0f9884be40776933e",
        "id": "1uZUF4fJFzhv"
      },
      "source": [
        "pred_grid_forest_test = grid_forest_model.predict(test)"
      ],
      "execution_count": null,
      "outputs": []
    },
    {
      "cell_type": "markdown",
      "metadata": {
        "_uuid": "a10d6aacfe66588de9991285e9ce03899b4a0924",
        "id": "r9_7sbzEFzhy"
      },
      "source": [
        "# XGBoost"
      ]
    },
    {
      "cell_type": "markdown",
      "metadata": {
        "_uuid": "36fcb26cbd497b2006063b18fbdc036a9459be27",
        "id": "Nhfc6MUZFzhz"
      },
      "source": [
        "XGBoost is a fast and efficient algorithm.XGBoost works only with numeric variables and we have already replaced the categorical variables with numeric variables."
      ]
    },
    {
      "cell_type": "markdown",
      "metadata": {
        "_uuid": "d9186329506595c6fb82f4fd46cceaf2ba7d6b2f",
        "id": "NI4krfDaFzh0"
      },
      "source": [
        "Let’s have a look at the parameters that we are going to use in our model"
      ]
    },
    {
      "cell_type": "markdown",
      "metadata": {
        "_uuid": "4e64fa97bd1e751b3f1fb17b4171c47945444656",
        "id": "gRJYAv3GFzh1"
      },
      "source": [
        "Let's import XGBClassifier and fit the model."
      ]
    },
    {
      "cell_type": "markdown",
      "metadata": {
        "_uuid": "06e77223d9f18c7a54984778d3da6bc575d986f8",
        "id": "1yNB7sgRFzh1"
      },
      "source": [
        "n_estimator: This specifies the number of trees for the model.\n",
        "    \n",
        "max_depth: We can specify maximum depth of a tree using this parameter."
      ]
    },
    {
      "cell_type": "code",
      "metadata": {
        "trusted": true,
        "_uuid": "decd1174a31f774f6c7194944df8ef30d78e7337",
        "id": "wXHGG0EoFzh2"
      },
      "source": [
        "from xgboost import XGBClassifier"
      ],
      "execution_count": null,
      "outputs": []
    },
    {
      "cell_type": "code",
      "metadata": {
        "trusted": true,
        "_uuid": "b1dcf605fbe1b235703c80fc7c9f89e5647f9ee3",
        "id": "ShG0Y9QNFzh5"
      },
      "source": [
        "xgb_model = XGBClassifier(n_estimators=50,max_depth=4)"
      ],
      "execution_count": null,
      "outputs": []
    },
    {
      "cell_type": "code",
      "metadata": {
        "trusted": true,
        "_uuid": "9f04a406cc8640cdac0e25b39f4477bd01d431f8",
        "id": "MmCYrIpqFzh8"
      },
      "source": [
        "xgb_model.fit(x_train,y_train)"
      ],
      "execution_count": null,
      "outputs": []
    },
    {
      "cell_type": "code",
      "metadata": {
        "trusted": true,
        "_uuid": "ac78c67e1ed979035cc541a551a28820789462eb",
        "id": "MrgR2temFziB"
      },
      "source": [
        "pred_xgb=xgb_model.predict(x_cv)"
      ],
      "execution_count": null,
      "outputs": []
    },
    {
      "cell_type": "code",
      "metadata": {
        "trusted": true,
        "_uuid": "8a829788434c0c441f05afb004f5f0e5c95556c0",
        "id": "PoY88y_vFziF"
      },
      "source": [
        "score_xgb = accuracy_score(pred_xgb,y_cv)*100"
      ],
      "execution_count": null,
      "outputs": []
    },
    {
      "cell_type": "code",
      "metadata": {
        "trusted": true,
        "_uuid": "4853deee7ff2f4903121c524e4f6fcbdb7c963d1",
        "id": "AYIBoFDFFziI"
      },
      "source": [
        "score_xgb"
      ],
      "execution_count": null,
      "outputs": []
    },
    {
      "cell_type": "markdown",
      "metadata": {
        "_uuid": "8596ba714b432b2371fbea49623deac3f3fc4fe3",
        "id": "ixsbS1O_FziM"
      },
      "source": [
        "our predictions are almost 78% accurate, i.e. we have identified 78% of the loan status correctly for our XGBClassifier model."
      ]
    },
    {
      "cell_type": "markdown",
      "metadata": {
        "_uuid": "70ae9e55ed004f94a523b3ca412a1aee4bb43605",
        "id": "D0lRG6uzFziM"
      },
      "source": [
        "Logistic Regression model gives : 79% prediction accuracy\n",
        "\n",
        "Decision Tree model gives :   71%  prediction accuracy\n",
        "\n",
        "Random Forest model gives : 78%  prediction accuracy\n",
        "\n",
        "Random Forest with Grid Search model gives :  77%   prediction accuracy\n",
        "\n",
        "XGBClassifier model gives : 78%     prediction accuracy "
      ]
    },
    {
      "cell_type": "code",
      "metadata": {
        "trusted": true,
        "_uuid": "fd3e297a326897bc94df9411a58eb2c268126793",
        "id": "6zdQRK9nFziS"
      },
      "source": [
        ""
      ],
      "execution_count": null,
      "outputs": []
    }
  ]
}